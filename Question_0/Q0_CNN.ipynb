{
 "cells": [
  {
   "cell_type": "code",
   "execution_count": 12,
   "metadata": {},
   "outputs": [],
   "source": [
    "import matplotlib.pyplot as plt\n",
    "plt.rcParams.update({'font.size': 18})\n",
    "import numpy as np\n",
    "from keras.utils.np_utils import to_categorical\n",
    "import tensorflow as tf\n",
    "from tensorflow import keras\n",
    "from tensorflow.keras import layers\n",
    "from tensorflow.keras.models import Sequential, load_model\n",
    "from keras.datasets import mnist\n",
    "import sys\n",
    "sys.path.append('../')\n",
    "from Core_Functions import neural_networks"
   ]
  },
  {
   "cell_type": "code",
   "execution_count": 13,
   "metadata": {},
   "outputs": [],
   "source": [
    "(train_images, train_labels), (test_images, test_labels) = mnist.load_data()"
   ]
  },
  {
   "cell_type": "code",
   "execution_count": 14,
   "metadata": {},
   "outputs": [],
   "source": [
    "train_images = train_images.reshape((60000, 28,28, 1))\n",
    "train_images = train_images.astype('float32')/ 255\n",
    "\n",
    "test_images = test_images.reshape((10000, 28, 28, 1))\n",
    "test_images = test_images.astype('float32')/255\n",
    "\n",
    "train_labels = to_categorical(train_labels)\n",
    "test_labels = to_categorical(test_labels)"
   ]
  },
  {
   "cell_type": "code",
   "execution_count": 15,
   "metadata": {},
   "outputs": [
    {
     "name": "stdout",
     "output_type": "stream",
     "text": [
      "Model: \"sequential_2\"\n",
      "_________________________________________________________________\n",
      "Layer (type)                 Output Shape              Param #   \n",
      "=================================================================\n",
      "conv2d_6 (Conv2D)            (None, 26, 26, 32)        320       \n",
      "_________________________________________________________________\n",
      "max_pooling2d_4 (MaxPooling2 (None, 13, 13, 32)        0         \n",
      "_________________________________________________________________\n",
      "conv2d_7 (Conv2D)            (None, 11, 11, 64)        18496     \n",
      "_________________________________________________________________\n",
      "max_pooling2d_5 (MaxPooling2 (None, 5, 5, 64)          0         \n",
      "_________________________________________________________________\n",
      "conv2d_8 (Conv2D)            (None, 3, 3, 64)          36928     \n",
      "_________________________________________________________________\n",
      "flatten_2 (Flatten)          (None, 576)               0         \n",
      "_________________________________________________________________\n",
      "dense_4 (Dense)              (None, 64)                36928     \n",
      "_________________________________________________________________\n",
      "dense_5 (Dense)              (None, 10)                650       \n",
      "=================================================================\n",
      "Total params: 93,322\n",
      "Trainable params: 93,322\n",
      "Non-trainable params: 0\n",
      "_________________________________________________________________\n"
     ]
    }
   ],
   "source": [
    "model = neural_networks.build_CNN((28,28,1))\n",
    "model.summary()"
   ]
  },
  {
   "cell_type": "code",
   "execution_count": 16,
   "metadata": {},
   "outputs": [
    {
     "name": "stdout",
     "output_type": "stream",
     "text": [
      "processing fold # 0\n",
      "processing fold # 1\n",
      "processing fold # 2\n",
      "processing fold # 3\n"
     ]
    }
   ],
   "source": [
    "# Perform k-fold cross-validation to understand the optimal number of epochs to train on\n",
    "k = 4\n",
    "num_val_samples = len(train_images)//k\n",
    "\n",
    "num_epochs = 50\n",
    "\n",
    "all_val_mae_histories = []\n",
    "all_train_mae_histories = []\n",
    "\n",
    "all_val_acc_histories = []\n",
    "all_train_acc_histories = []\n",
    "\n",
    "for i in range(k):\n",
    "    \n",
    "    print('processing fold #', i)\n",
    "    val_data = train_images[i * num_val_samples: (i + 1) * num_val_samples]\n",
    "    val_targets = train_labels[i * num_val_samples: (i + 1) * num_val_samples]\n",
    "    \n",
    "    partial_train_data = np.concatenate(\n",
    "    [train_images[:i * num_val_samples],\n",
    "    train_images[(i+1) * num_val_samples:]],\n",
    "    axis = 0)\n",
    "    \n",
    "    partial_train_targets = np.concatenate(\n",
    "    [train_labels[:i*num_val_samples],\n",
    "    train_labels[(i+1)*num_val_samples:]],\n",
    "    axis = 0)\n",
    "    \n",
    "    model = neural_networks.build_CNN((28,28,1))\n",
    "    history = model.fit(partial_train_data,\n",
    "              partial_train_targets,\n",
    "              validation_data = (val_data, val_targets),\n",
    "              epochs = num_epochs,\n",
    "              batch_size = 64,\n",
    "              verbose = 0)\n",
    "    \n",
    "    val_mae_history = history.history['val_mae']\n",
    "    all_val_mae_histories.append(val_mae_history)\n",
    "    \n",
    "    train_mae_history = history.history['mae']\n",
    "    all_train_mae_histories.append(train_mae_history)\n",
    "    \n",
    "    val_acc_history = history.history['val_accuracy']\n",
    "    all_val_acc_histories.append(val_acc_history)\n",
    "    \n",
    "    train_acc_history = history.history['accuracy']\n",
    "    all_train_acc_histories.append(train_acc_history)"
   ]
  },
  {
   "cell_type": "code",
   "execution_count": 17,
   "metadata": {},
   "outputs": [
    {
     "data": {
      "image/png": "[encoded data removed]",
      "text/plain": [
       "<Figure size 432x288 with 1 Axes>"
      ]
     },
     "metadata": {
      "needs_background": "light"
     },
     "output_type": "display_data"
    }
   ],
   "source": [
    "# Compute the average of the per-epoch MAE scores for all folds\n",
    "# Building the history of successive mean K-fold validation scores\n",
    "\n",
    "average_val_mae_history = [\n",
    "    np.mean([x[i] for x in all_val_mae_histories]) for i in range(num_epochs)]\n",
    "\n",
    "average_train_mae_history = [\n",
    "    np.mean([x[i] for x in all_train_mae_histories]) for i in range(num_epochs)]\n",
    "\n",
    "plt.plot(range(1, len(average_train_mae_history) + 1), average_train_mae_history, label = 'Training', c ='mediumseagreen', lw=2.5)\n",
    "plt.plot(range(1, len(average_val_mae_history) + 1), average_val_mae_history, label='Validation', c = 'mediumvioletred', lw=2.5)\n",
    "\n",
    "plt.xlabel('Epochs')\n",
    "plt.ylabel('Mean Absolute Error')\n",
    "plt.legend()\n",
    "plt.title('CNN Mean Absolute Error')\n",
    "plt.savefig('Q0_Figures/Q0_CNN_MAE.png', dpi = 400, bbox_inches=\"tight\")"
   ]
  },
  {
   "cell_type": "code",
   "execution_count": 18,
   "metadata": {},
   "outputs": [
    {
     "data": {
      "image/png": "[encoded data removed]",
      "text/plain": [
       "<Figure size 432x288 with 1 Axes>"
      ]
     },
     "metadata": {
      "needs_background": "light"
     },
     "output_type": "display_data"
    }
   ],
   "source": [
    "# Compute the average of the per-epoch Accuracy scores for all folds\n",
    "# Building the history of successive mean K-fold validation scores\n",
    "\n",
    "average_val_acc_history = [\n",
    "    np.mean([x[i] for x in all_val_acc_histories]) for i in range(num_epochs)]\n",
    "\n",
    "average_train_acc_history = [\n",
    "    np.mean([x[i] for x in all_train_acc_histories]) for i in range(num_epochs)]\n",
    "\n",
    "plt.plot(range(1, len(average_train_acc_history) + 1), average_train_acc_history, label = 'Training', c ='mediumseagreen', lw=2.5)\n",
    "plt.plot(range(1, len(average_val_acc_history) + 1), average_val_acc_history, label='Validation', c = 'mediumvioletred', lw=2.5)\n",
    "\n",
    "plt.xlabel('Epochs')\n",
    "plt.ylabel('Accuracy')\n",
    "plt.legend()\n",
    "plt.tight_layout()\n",
    "plt.title('CNN Accuracy')\n",
    "plt.savefig('Q0_Figures/Q0_CNN_Accuracy.png', dpi = 400, bbox_inches=\"tight\")"
   ]
  },
  {
   "cell_type": "code",
   "execution_count": 19,
   "metadata": {},
   "outputs": [
    {
     "name": "stdout",
     "output_type": "stream",
     "text": [
      "Epoch 1/20\n",
      "938/938 [==============================] - 21s 22ms/step - loss: 0.1717 - accuracy: 0.9462 - mae: 0.0168\n",
      "Epoch 2/20\n",
      "938/938 [==============================] - 20s 21ms/step - loss: 0.0480 - accuracy: 0.9853 - mae: 0.0045\n",
      "Epoch 3/20\n",
      "938/938 [==============================] - 21s 22ms/step - loss: 0.0325 - accuracy: 0.9896 - mae: 0.0030\n",
      "Epoch 4/20\n",
      "938/938 [==============================] - 20s 21ms/step - loss: 0.0256 - accuracy: 0.9922 - mae: 0.0022\n",
      "Epoch 5/20\n",
      "938/938 [==============================] - 20s 21ms/step - loss: 0.0197 - accuracy: 0.9939 - mae: 0.0017\n",
      "Epoch 6/20\n",
      "938/938 [==============================] - 20s 21ms/step - loss: 0.0156 - accuracy: 0.9952 - mae: 0.0013\n",
      "Epoch 7/20\n",
      "938/938 [==============================] - 20s 21ms/step - loss: 0.0140 - accuracy: 0.9959 - mae: 0.0011\n",
      "Epoch 8/20\n",
      "938/938 [==============================] - 20s 21ms/step - loss: 0.0111 - accuracy: 0.9967 - mae: 9.2991e-04\n",
      "Epoch 9/20\n",
      "938/938 [==============================] - 21s 22ms/step - loss: 0.0092 - accuracy: 0.9970 - mae: 7.6838e-04\n",
      "Epoch 10/20\n",
      "938/938 [==============================] - 25s 27ms/step - loss: 0.0085 - accuracy: 0.9975 - mae: 6.6310e-04\n",
      "Epoch 11/20\n",
      "938/938 [==============================] - 28s 29ms/step - loss: 0.0069 - accuracy: 0.9980 - mae: 5.0792e-04\n",
      "Epoch 12/20\n",
      "938/938 [==============================] - 22s 24ms/step - loss: 0.0058 - accuracy: 0.9983 - mae: 4.5730e-04\n",
      "Epoch 13/20\n",
      "938/938 [==============================] - 17s 19ms/step - loss: 0.0052 - accuracy: 0.9983 - mae: 4.1054e-04\n",
      "Epoch 14/20\n",
      "938/938 [==============================] - 20s 21ms/step - loss: 0.0054 - accuracy: 0.9983 - mae: 3.8625e-04\n",
      "Epoch 15/20\n",
      "938/938 [==============================] - 20s 22ms/step - loss: 0.0041 - accuracy: 0.9987 - mae: 3.3063e-04\n",
      "Epoch 16/20\n",
      "938/938 [==============================] - 20s 21ms/step - loss: 0.0044 - accuracy: 0.9987 - mae: 3.0277e-04\n",
      "Epoch 17/20\n",
      "938/938 [==============================] - 20s 22ms/step - loss: 0.0043 - accuracy: 0.9987 - mae: 3.0477e-04\n",
      "Epoch 18/20\n",
      "938/938 [==============================] - 19s 20ms/step - loss: 0.0034 - accuracy: 0.9991 - mae: 2.3221e-04\n",
      "Epoch 19/20\n",
      "938/938 [==============================] - 20s 21ms/step - loss: 0.0032 - accuracy: 0.9991 - mae: 2.1742e-04\n",
      "Epoch 20/20\n",
      "938/938 [==============================] - 20s 21ms/step - loss: 0.0039 - accuracy: 0.9989 - mae: 2.4259e-04\n"
     ]
    },
    {
     "data": {
      "text/plain": [
       "<tensorflow.python.keras.callbacks.History at 0x14fd628e0>"
      ]
     },
     "execution_count": 19,
     "metadata": {},
     "output_type": "execute_result"
    }
   ],
   "source": [
    "# Rebuild the model and train on full dataset (60k) rather than splitting it (48k)\n",
    "# Do this for the optimal number of epochs\n",
    "    # It seems like around 20 epochs the validation MAE and Accuracy flatten, so this will be used\n",
    "model = neural_networks.build_CNN((28,28,1))\n",
    "model.fit(train_images, train_labels, epochs = 20, batch_size = 64)"
   ]
  },
  {
   "cell_type": "code",
   "execution_count": 20,
   "metadata": {},
   "outputs": [
    {
     "name": "stdout",
     "output_type": "stream",
     "text": [
      "313/313 [==============================] - 1s 2ms/step - loss: 0.0622 - accuracy: 0.9918 - mae: 0.0017\n"
     ]
    },
    {
     "data": {
      "text/plain": [
       "[0.06221252307295799, 0.9918000102043152, 0.001663676812313497]"
      ]
     },
     "execution_count": 20,
     "metadata": {},
     "output_type": "execute_result"
    }
   ],
   "source": [
    "test = model.evaluate(test_images, test_labels)\n",
    "test"
   ]
  },
  {
   "cell_type": "code",
   "execution_count": 21,
   "metadata": {},
   "outputs": [
    {
     "name": "stdout",
     "output_type": "stream",
     "text": [
      "Saved model to disk\n"
     ]
    }
   ],
   "source": [
    "# Serialize model to JSON\n",
    "model_json = model.to_json()\n",
    "with open(\"Q0_Trained_Models/Q0_CNN_Model.json\", \"w\") as json_file:\n",
    "    json_file.write(model_json)\n",
    "# serialize weights to HDF5\n",
    "model.save_weights(\"Q0_Trained_Models/Q0_CNN_Model.h5\")\n",
    "print(\"Saved model to disk\")"
   ]
  },
  {
   "cell_type": "code",
   "execution_count": 22,
   "metadata": {},
   "outputs": [
    {
     "name": "stdout",
     "output_type": "stream",
     "text": [
      "INFO:tensorflow:Assets written to: my_model/assets\n"
     ]
    }
   ],
   "source": [
    "model.save(\"my_model\")"
   ]
  },
  {
   "cell_type": "code",
   "execution_count": null,
   "metadata": {},
   "outputs": [],
   "source": []
  }
 ],
 "metadata": {
  "kernelspec": {
   "display_name": "general_ML",
   "language": "python",
   "name": "general_ml"
  },
  "language_info": {
   "codemirror_mode": {
    "name": "ipython",
    "version": 3
   },
   "file_extension": ".py",
   "mimetype": "text/x-python",
   "name": "python",
   "nbconvert_exporter": "python",
   "pygments_lexer": "ipython3",
   "version": "3.9.2"
  }
 },
 "nbformat": 4,
 "nbformat_minor": 4
}
