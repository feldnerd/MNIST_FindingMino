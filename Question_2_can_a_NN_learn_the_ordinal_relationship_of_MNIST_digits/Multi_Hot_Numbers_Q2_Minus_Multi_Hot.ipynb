{
 "cells": [
  {
   "cell_type": "code",
   "execution_count": 2,
   "metadata": {},
   "outputs": [
    {
     "name": "stderr",
     "output_type": "stream",
     "text": [
      "Using TensorFlow backend.\n"
     ]
    }
   ],
   "source": [
    "import matplotlib.pyplot as plt\n",
    "import itertools\n",
    "import numpy as np\n",
    "import pandas as pd\n",
    "from keras.utils.np_utils import to_categorical\n",
    "import tensorflow as tf\n",
    "from tensorflow import keras\n",
    "from tensorflow.keras import layers\n",
    "from tensorflow.keras.models import Sequential, load_model\n",
    "from keras.datasets import mnist\n",
    "import itertools\n",
    "import random\n",
    "\n",
    "import sys\n",
    "sys.path.append('../')\n",
    "from Core_Functions import multi_hot_encoding\n",
    "from sklearn.model_selection import train_test_split"
   ]
  },
  {
   "cell_type": "code",
   "execution_count": 35,
   "metadata": {},
   "outputs": [],
   "source": [
    "# Create an input array of 50,000 samples of 20 random numbers each\n",
    "x = np.random.randint(0, 10, size=(50000, 2))\n",
    "\n",
    "# And a one-hot encoded target denoting the index of the maximum of the inputs\n",
    "y = []\n",
    "x = []\n",
    "for ints in range(50000):\n",
    "    \n",
    "    x1 = np.random.randint(0,10)\n",
    "    x2 = np.random.randint(0,10)\n",
    "    \n",
    "    if x1!= x2:\n",
    "        y.append(min(x1,x2))\n",
    "        x.append([min(x1,x2), max(x1,x2)])\n"
   ]
  },
  {
   "cell_type": "code",
   "execution_count": 36,
   "metadata": {},
   "outputs": [
    {
     "data": {
      "text/plain": [
       "[4, 8, 1, 2]"
      ]
     },
     "execution_count": 36,
     "metadata": {},
     "output_type": "execute_result"
    }
   ],
   "source": [
    "y[:4]"
   ]
  },
  {
   "cell_type": "code",
   "execution_count": 37,
   "metadata": {},
   "outputs": [],
   "source": [
    "# Create an input array of 50,000 samples of 20 random numbers each\n",
    "x_val = np.random.randint(0, 10, size=(50000, 2))\n",
    "\n",
    "# And a one-hot encoded target denoting the index of the maximum of the inputs\n",
    "y_val = []\n",
    "x_val = []\n",
    "for ints in range(50000):\n",
    "    \n",
    "    x1 = np.random.randint(0,10)\n",
    "    x2 = np.random.randint(0,10)\n",
    "    \n",
    "    if x1!= x2:\n",
    "        y_val.append(min(x1,x2))\n",
    "        x_val.append([max(x1,x2), min(x1,x2)])\n"
   ]
  },
  {
   "cell_type": "code",
   "execution_count": 38,
   "metadata": {},
   "outputs": [],
   "source": [
    "# Conversion to umopy arrays\n",
    "x = np.array(x)\n",
    "y = np.array(y)\n",
    "\n",
    "x_val = np.array(x_val)\n",
    "y_val = np.array(y_val)"
   ]
  },
  {
   "cell_type": "code",
   "execution_count": 39,
   "metadata": {},
   "outputs": [
    {
     "data": {
      "text/plain": [
       "array([4, 8, 1, 2, 4, 2, 0, 2, 0, 5])"
      ]
     },
     "execution_count": 39,
     "metadata": {},
     "output_type": "execute_result"
    }
   ],
   "source": [
    "y[:10]"
   ]
  },
  {
   "cell_type": "code",
   "execution_count": 40,
   "metadata": {},
   "outputs": [],
   "source": [
    "# Here instead of using to_categorical, I use my custom multi-hot encoding\n",
    "\"\"\"\n",
    "train_labels = to_categorical(combo_train_y)\n",
    "val_labels = to_categorical(combo_val_y)\n",
    "\"\"\"\n",
    "\n",
    "# y = np.array(multi_hot_encoding.multi_hot_encode(y))\n",
    "# y_val =  np.array(multi_hot_encoding.multi_hot_encode(y_val))\n",
    "\n",
    "y = to_categorical(y)\n",
    "y_val = to_categorical(y_val)"
   ]
  },
  {
   "cell_type": "code",
   "execution_count": 41,
   "metadata": {},
   "outputs": [],
   "source": [
    "# # Model architecture\n",
    "# def build_DNN():\n",
    "\n",
    "#     model = tf.keras.Sequential()\n",
    "#     model.add(layers.Dense(512, activation = 'relu', input_shape=(2,)))\n",
    "#     model.add(layers.Dense(10, activation='softmax'))\n",
    "\n",
    "#     model.compile(optimizer='rmsprop', \n",
    "#                 loss='categorical_crossentropy', \n",
    "#                 metrics=['accuracy', 'mae'])\n",
    "\n",
    "#     return model"
   ]
  },
  {
   "cell_type": "code",
   "execution_count": 42,
   "metadata": {},
   "outputs": [],
   "source": [
    "# DNN_model = build_DNN()\n",
    "# DNN_model.summary()"
   ]
  },
  {
   "cell_type": "code",
   "execution_count": 43,
   "metadata": {},
   "outputs": [],
   "source": [
    "# # Fit model\n",
    "# DNN_model.fit(x, \n",
    "#           y, \n",
    "#           epochs = 5, \n",
    "#           batch_size = 1)\n"
   ]
  },
  {
   "cell_type": "code",
   "execution_count": 44,
   "metadata": {},
   "outputs": [],
   "source": [
    "# # Print loss, mae and accuracy\n",
    "# DNN_eval_model = DNN_model.evaluate(val_images, val_labels)\n",
    "# DNN_accuracy.append(DNN_eval_model[1])"
   ]
  },
  {
   "cell_type": "code",
   "execution_count": 52,
   "metadata": {},
   "outputs": [],
   "source": [
    "def build_DNN_10_outputs():\n",
    "\n",
    "    inputs = keras.Input(shape=(2,))\n",
    "\n",
    "    dense = layers.Dense(512, activation=\"relu\")\n",
    "    x = dense(inputs)\n",
    "\n",
    "    outputs = layers.Dense(9, \"sigmoid\")(x)\n",
    "    \n",
    "    model = keras.Model(inputs = inputs,\n",
    "                       outputs = outputs)\n",
    "\n",
    "    model.compile(\n",
    "        loss=keras.losses.BinaryCrossentropy(),\n",
    "        optimizer=keras.optimizers.RMSprop(),\n",
    "        metrics=[\"accuracy\", \"mae\"],\n",
    "    )\n",
    "    \n",
    "    return model"
   ]
  },
  {
   "cell_type": "code",
   "execution_count": 53,
   "metadata": {},
   "outputs": [],
   "source": [
    "dnn_model = build_DNN_10_outputs()"
   ]
  },
  {
   "cell_type": "code",
   "execution_count": 54,
   "metadata": {},
   "outputs": [
    {
     "data": {
      "image/png": "[encoded data removed]",
      "text/plain": [
       "<IPython.core.display.Image object>"
      ]
     },
     "execution_count": 54,
     "metadata": {},
     "output_type": "execute_result"
    }
   ],
   "source": [
    "tf.keras.utils.plot_model(dnn_model)"
   ]
  },
  {
   "cell_type": "code",
   "execution_count": 55,
   "metadata": {},
   "outputs": [
    {
     "data": {
      "text/plain": [
       "(44927, 2)"
      ]
     },
     "execution_count": 55,
     "metadata": {},
     "output_type": "execute_result"
    }
   ],
   "source": [
    "np.array(x).shape"
   ]
  },
  {
   "cell_type": "code",
   "execution_count": 56,
   "metadata": {},
   "outputs": [
    {
     "data": {
      "text/plain": [
       "(44927, 9)"
      ]
     },
     "execution_count": 56,
     "metadata": {},
     "output_type": "execute_result"
    }
   ],
   "source": [
    "y.shape"
   ]
  },
  {
   "cell_type": "code",
   "execution_count": 57,
   "metadata": {},
   "outputs": [],
   "source": [
    "# dnn_model.fit(x, \n",
    "#           y, \n",
    "#           epochs = 10, \n",
    "#           batch_size = 1)"
   ]
  },
  {
   "cell_type": "code",
   "execution_count": 58,
   "metadata": {},
   "outputs": [],
   "source": [
    "# dnn_model.evaluate(x_val, y_val)"
   ]
  },
  {
   "cell_type": "code",
   "execution_count": 59,
   "metadata": {},
   "outputs": [
    {
     "name": "stdout",
     "output_type": "stream",
     "text": [
      "Epoch 1/5\n",
      "44927/44927 [==============================] - 37s 817us/step - loss: 0.0498 - accuracy: 0.9127 - mae: 0.0312 - val_loss: 5.1390 - val_accuracy: 0.0219 - val_mae: 0.2585\n",
      "Epoch 2/5\n",
      "44927/44927 [==============================] - 37s 825us/step - loss: 0.0128 - accuracy: 0.9792 - mae: 0.0061 - val_loss: 5.7153 - val_accuracy: 0.0219 - val_mae: 0.2374\n",
      "Epoch 3/5\n",
      "44927/44927 [==============================] - 37s 813us/step - loss: 0.0101 - accuracy: 0.9868 - mae: 0.0041 - val_loss: 6.9409 - val_accuracy: 0.0219 - val_mae: 0.2255\n",
      "Epoch 4/5\n",
      "44927/44927 [==============================] - 36s 805us/step - loss: 0.0103 - accuracy: 0.9900 - mae: 0.0036 - val_loss: 7.7913 - val_accuracy: 0.0219 - val_mae: 0.2132\n",
      "Epoch 5/5\n",
      "44927/44927 [==============================] - 37s 815us/step - loss: 0.0107 - accuracy: 0.9907 - mae: 0.0035 - val_loss: 8.2334 - val_accuracy: 0.0219 - val_mae: 0.2088\n"
     ]
    }
   ],
   "source": [
    "history = dnn_model.fit(x, \n",
    "          y, \n",
    "          epochs = 5, \n",
    "          batch_size = 1,\n",
    "          validation_data = (x_val, y_val))\n",
    "\n",
    "val_mae_history = history.history['val_mae']\n",
    "train_mae_history = history.history['mae']"
   ]
  },
  {
   "cell_type": "code",
   "execution_count": 60,
   "metadata": {},
   "outputs": [
    {
     "ename": "NameError",
     "evalue": "name 'average_train_mae_history' is not defined",
     "output_type": "error",
     "traceback": [
      "\u001b[0;31m---------------------------------------------------------------------------\u001b[0m",
      "\u001b[0;31mNameError\u001b[0m                                 Traceback (most recent call last)",
      "\u001b[0;32m<ipython-input-60-2c094149f674>\u001b[0m in \u001b[0;36m<module>\u001b[0;34m\u001b[0m\n\u001b[0;32m----> 1\u001b[0;31m \u001b[0mplt\u001b[0m\u001b[0;34m.\u001b[0m\u001b[0mplot\u001b[0m\u001b[0;34m(\u001b[0m\u001b[0mrange\u001b[0m\u001b[0;34m(\u001b[0m\u001b[0;36m1\u001b[0m\u001b[0;34m,\u001b[0m \u001b[0mlen\u001b[0m\u001b[0;34m(\u001b[0m\u001b[0maverage_train_mae_history\u001b[0m\u001b[0;34m)\u001b[0m \u001b[0;34m+\u001b[0m \u001b[0;36m1\u001b[0m\u001b[0;34m)\u001b[0m\u001b[0;34m,\u001b[0m \u001b[0maverage_train_mae_history\u001b[0m\u001b[0;34m,\u001b[0m \u001b[0mlabel\u001b[0m \u001b[0;34m=\u001b[0m \u001b[0;34m'Training'\u001b[0m\u001b[0;34m)\u001b[0m\u001b[0;34m\u001b[0m\u001b[0;34m\u001b[0m\u001b[0m\n\u001b[0m\u001b[1;32m      2\u001b[0m \u001b[0mplt\u001b[0m\u001b[0;34m.\u001b[0m\u001b[0mplot\u001b[0m\u001b[0;34m(\u001b[0m\u001b[0mrange\u001b[0m\u001b[0;34m(\u001b[0m\u001b[0;36m1\u001b[0m\u001b[0;34m,\u001b[0m \u001b[0mlen\u001b[0m\u001b[0;34m(\u001b[0m\u001b[0maverage_val_mae_history\u001b[0m\u001b[0;34m)\u001b[0m \u001b[0;34m+\u001b[0m \u001b[0;36m1\u001b[0m\u001b[0;34m)\u001b[0m\u001b[0;34m,\u001b[0m \u001b[0maverage_val_mae_history\u001b[0m\u001b[0;34m,\u001b[0m \u001b[0mlabel\u001b[0m\u001b[0;34m=\u001b[0m\u001b[0;34m'Validation'\u001b[0m\u001b[0;34m)\u001b[0m\u001b[0;34m\u001b[0m\u001b[0;34m\u001b[0m\u001b[0m\n\u001b[1;32m      3\u001b[0m \u001b[0;34m\u001b[0m\u001b[0m\n\u001b[1;32m      4\u001b[0m \u001b[0mplt\u001b[0m\u001b[0;34m.\u001b[0m\u001b[0mxlabel\u001b[0m\u001b[0;34m(\u001b[0m\u001b[0;34m'Epochs'\u001b[0m\u001b[0;34m)\u001b[0m\u001b[0;34m\u001b[0m\u001b[0;34m\u001b[0m\u001b[0m\n\u001b[1;32m      5\u001b[0m \u001b[0mplt\u001b[0m\u001b[0;34m.\u001b[0m\u001b[0mylabel\u001b[0m\u001b[0;34m(\u001b[0m\u001b[0;34m'Mean Absolute Error'\u001b[0m\u001b[0;34m)\u001b[0m\u001b[0;34m\u001b[0m\u001b[0;34m\u001b[0m\u001b[0m\n",
      "\u001b[0;31mNameError\u001b[0m: name 'average_train_mae_history' is not defined"
     ]
    }
   ],
   "source": [
    "plt.plot(range(1, len(train_mae_history) + 1), train_mae_history, label = 'Training')\n",
    "plt.plot(range(1, len(val_mae_history) + 1), val_mae_history, label='Validation')\n",
    "\n",
    "plt.xlabel('Epochs')\n",
    "plt.ylabel('Mean Absolute Error')\n",
    "plt.legend()\n",
    "plt.show()\n",
    "plt.savefig('Double_Input_DNN.png')"
   ]
  },
  {
   "cell_type": "code",
   "execution_count": null,
   "metadata": {},
   "outputs": [],
   "source": []
  },
  {
   "cell_type": "code",
   "execution_count": null,
   "metadata": {},
   "outputs": [],
   "source": []
  }
 ],
 "metadata": {
  "kernelspec": {
   "display_name": "general_ML",
   "language": "python",
   "name": "general_ml"
  },
  "language_info": {
   "codemirror_mode": {
    "name": "ipython",
    "version": 3
   },
   "file_extension": ".py",
   "mimetype": "text/x-python",
   "name": "python",
   "nbconvert_exporter": "python",
   "pygments_lexer": "ipython3",
   "version": "3.9.2"
  }
 },
 "nbformat": 4,
 "nbformat_minor": 4
}
