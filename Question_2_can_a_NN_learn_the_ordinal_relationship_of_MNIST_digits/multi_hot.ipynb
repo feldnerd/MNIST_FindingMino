{
 "cells": [
  {
   "cell_type": "code",
   "execution_count": 122,
   "metadata": {},
   "outputs": [],
   "source": [
    "import numpy as np\n",
    "import matplotlib.pyplot as plt\n",
    "from keras.utils.np_utils import to_categorical\n",
    "import tensorflow as tf\n",
    "from tensorflow import keras\n",
    "from tensorflow.keras import layers\n",
    "from tensorflow.keras.models import Sequential, load_model\n",
    "from keras.datasets import mnist\n",
    "import itertools\n",
    "import random\n",
    "import seaborn as sns"
   ]
  },
  {
   "cell_type": "code",
   "execution_count": 136,
   "metadata": {},
   "outputs": [],
   "source": [
    "zero  =  np.array([1,1,1,1,1,1,1,1,1,1])\n",
    "one   =  np.array([0,1,1,1,1,1,1,1,1,1])\n",
    "two   =  np.array([0,0,1,1,1,1,1,1,1,1])\n",
    "three =  np.array([0,0,0,1,1,1,1,1,1,1])\n",
    "four  =  np.array([0,0,0,0,1,1,1,1,1,1])\n",
    "five  =  np.array([0,0,0,0,0,1,1,1,1,1])\n",
    "six   =  np.array([0,0,0,0,0,0,1,1,1,1])\n",
    "seven =  np.array([0,0,0,0,0,0,0,1,1,1])\n",
    "eight =  np.array([0,0,0,0,0,0,0,0,1,1])\n",
    "nine  =  np.array([0,0,0,0,0,0,0,0,0,1])"
   ]
  },
  {
   "cell_type": "code",
   "execution_count": 137,
   "metadata": {},
   "outputs": [],
   "source": [
    "zero_one = abs(zero-one)\n",
    "zero_two = abs(zero-two)\n",
    "zero_three = abs(zero-three)\n",
    "zero_four = abs(zero-four)\n",
    "zero_five = abs(zero-five)\n",
    "zero_six = abs(zero-six)\n",
    "zero_seven = abs(zero-seven)\n",
    "zero_eight = abs(zero-eight)\n",
    "zero_nine = abs(zero-nine)\n",
    "\n",
    "one_two = abs(one-two)\n",
    "one_three = abs(one-three)\n",
    "one_four = abs(one-four)\n",
    "one_five = abs(one-five)\n",
    "one_six = abs(one-six)\n",
    "one_seven = abs(one-seven)\n",
    "one_eight = abs(one-eight)\n",
    "one_nine = abs(one-nine)\n",
    "\n",
    "two_three = abs(two-three)\n",
    "two_four = abs(two-four)\n",
    "two_five = abs(two-five)\n",
    "two_six = abs(two-six)\n",
    "two_seven = abs(two-seven)\n",
    "two_eight = abs(two-eight)\n",
    "two_nine = abs(two-nine)\n",
    "\n",
    "three_four = abs(three-four)\n",
    "three_five = abs(three-five)\n",
    "three_six = abs(three-six)\n",
    "three_seven = abs(three-seven)\n",
    "three_eight = abs(three-eight)\n",
    "three_nine = abs(three-nine)\n",
    "\n",
    "four_five = abs(four-five)\n",
    "four_six = abs(four-six)\n",
    "four_seven = abs(four-seven)\n",
    "four_eight = abs(four-eight)\n",
    "four_nine = abs(four-nine)\n",
    "\n",
    "five_six = abs(five-six)\n",
    "five_seven = abs(five-seven)\n",
    "five_eight = abs(five-eight)\n",
    "five_nine = abs(five-nine)\n",
    "\n",
    "six_seven =abs(six-seven)\n",
    "six_eight = abs(six-eight)\n",
    "six_nine = abs(six-nine)\n",
    "\n",
    "seven_eight = abs(seven-eight)\n",
    "seven_nine = abs(seven-nine)\n",
    "\n",
    "eight_nine = abs(eight-nine)"
   ]
  },
  {
   "cell_type": "code",
   "execution_count": 173,
   "metadata": {},
   "outputs": [],
   "source": [
    "data = np.array([zero_one,\n",
    "        zero_two,\n",
    "        zero_three,\n",
    "        zero_four,\n",
    "        zero_five,\n",
    "        zero_six,\n",
    "        zero_seven,\n",
    "        zero_eight,\n",
    "        zero_nine,\n",
    "        one_two,\n",
    "        one_three,\n",
    "        one_four,\n",
    "        one_five,\n",
    "        one_six,\n",
    "        one_seven,\n",
    "        one_eight,\n",
    "        one_nine,\n",
    "        two_three,\n",
    "        two_four,\n",
    "        two_five,\n",
    "        two_six,\n",
    "        two_seven,\n",
    "        two_eight,\n",
    "        two_nine,\n",
    "        three_four,\n",
    "        three_five,\n",
    "        three_six,\n",
    "        three_seven,\n",
    "        three_eight,\n",
    "        three_nine,\n",
    "        four_five,\n",
    "        four_six,\n",
    "        four_seven,\n",
    "        four_eight,\n",
    "        four_nine,\n",
    "        five_six,\n",
    "        five_seven,\n",
    "        five_eight,\n",
    "        five_nine,\n",
    "        six_seven,\n",
    "        six_eight,\n",
    "        six_nine,\n",
    "        seven_eight,\n",
    "        seven_nine,\n",
    "        eight_nine])"
   ]
  },
  {
   "cell_type": "code",
   "execution_count": 171,
   "metadata": {},
   "outputs": [],
   "source": [
    "data_dict = {\"0_1\":zero_one,\n",
    "        \"0_2\":zero_two,\n",
    "        \"0_3\":zero_three,\n",
    "        \"0_4\":zero_four,\n",
    "        \"0_5\":zero_five,\n",
    "        \"0_6\":zero_six,\n",
    "        \"0_7\":zero_seven,\n",
    "        \"0_8\":zero_eight,\n",
    "        \"0_9\":zero_nine,\n",
    "        \"1_2\":one_two,\n",
    "        \"1_3\":one_three,\n",
    "        \"1_4\":one_four,\n",
    "        \"1_5\":one_five,\n",
    "        \"1_6\":one_six,\n",
    "        \"1_7\":one_seven,\n",
    "        \"1_8\":one_eight,\n",
    "        \"1_9\":one_nine,\n",
    "        \"2_3\":two_three,\n",
    "        \"2_4\":two_four,\n",
    "        \"2_5\":two_five,\n",
    "        \"2_6\":two_six,\n",
    "        \"2_7\":two_seven,\n",
    "        \"2_8\":two_eight,\n",
    "        \"2_9\":two_nine,\n",
    "        \"3_4\":three_four,\n",
    "        \"3_5\":three_five,\n",
    "        \"3_6\":three_six,\n",
    "        \"3_7\":three_seven,\n",
    "        \"3_8\":three_eight,\n",
    "        \"3_9\":three_nine,\n",
    "        \"4_5\":four_five,\n",
    "        \"4_6\":four_six,\n",
    "        \"4_7\":four_seven,\n",
    "        \"4_8\":four_eight,\n",
    "        \"4_9\":four_nine,\n",
    "        \"5_6\":five_six,\n",
    "        \"5_7\":five_seven,\n",
    "        \"5_8\":five_eight,\n",
    "        \"5_9\":five_nine,\n",
    "        \"6_7\":six_seven,\n",
    "        \"6_8\":six_eight,\n",
    "        \"6_9\":six_nine,\n",
    "        \"7_8\":seven_eight,\n",
    "        \"7_9\":seven_nine,\n",
    "        \"8_9\":eight_nine}"
   ]
  },
  {
   "cell_type": "code",
   "execution_count": 172,
   "metadata": {},
   "outputs": [
    {
     "data": {
      "text/plain": [
       "{'0_1': array([1, 0, 0, 0, 0, 0, 0, 0, 0, 0]),\n",
       " '0_2': array([1, 1, 0, 0, 0, 0, 0, 0, 0, 0]),\n",
       " '0_3': array([1, 1, 1, 0, 0, 0, 0, 0, 0, 0]),\n",
       " '0_4': array([1, 1, 1, 1, 0, 0, 0, 0, 0, 0]),\n",
       " '0_5': array([1, 1, 1, 1, 1, 0, 0, 0, 0, 0]),\n",
       " '0_6': array([1, 1, 1, 1, 1, 1, 0, 0, 0, 0]),\n",
       " '0_7': array([1, 1, 1, 1, 1, 1, 1, 0, 0, 0]),\n",
       " '0_8': array([1, 1, 1, 1, 1, 1, 1, 1, 0, 0]),\n",
       " '0_9': array([1, 1, 1, 1, 1, 1, 1, 1, 1, 0]),\n",
       " '1_2': array([0, 1, 0, 0, 0, 0, 0, 0, 0, 0]),\n",
       " '1_3': array([0, 1, 1, 0, 0, 0, 0, 0, 0, 0]),\n",
       " '1_4': array([0, 1, 1, 1, 0, 0, 0, 0, 0, 0]),\n",
       " '1_5': array([0, 1, 1, 1, 1, 0, 0, 0, 0, 0]),\n",
       " '1_6': array([0, 1, 1, 1, 1, 1, 0, 0, 0, 0]),\n",
       " '1_7': array([0, 1, 1, 1, 1, 1, 1, 0, 0, 0]),\n",
       " '1_8': array([0, 1, 1, 1, 1, 1, 1, 1, 0, 0]),\n",
       " '1_9': array([0, 1, 1, 1, 1, 1, 1, 1, 1, 0]),\n",
       " '2_3': array([0, 0, 1, 0, 0, 0, 0, 0, 0, 0]),\n",
       " '2_4': array([0, 0, 1, 1, 0, 0, 0, 0, 0, 0]),\n",
       " '2_5': array([0, 0, 1, 1, 1, 0, 0, 0, 0, 0]),\n",
       " '2_6': array([0, 0, 1, 1, 1, 1, 0, 0, 0, 0]),\n",
       " '2_7': array([0, 0, 1, 1, 1, 1, 1, 0, 0, 0]),\n",
       " '2_8': array([0, 0, 1, 1, 1, 1, 1, 1, 0, 0]),\n",
       " '2_9': array([0, 0, 1, 1, 1, 1, 1, 1, 1, 0]),\n",
       " '3_4': array([0, 0, 0, 1, 0, 0, 0, 0, 0, 0]),\n",
       " '3_5': array([0, 0, 0, 1, 1, 0, 0, 0, 0, 0]),\n",
       " '3_6': array([0, 0, 0, 1, 1, 1, 0, 0, 0, 0]),\n",
       " '3_7': array([0, 0, 0, 1, 1, 1, 1, 0, 0, 0]),\n",
       " '3_8': array([0, 0, 0, 1, 1, 1, 1, 1, 0, 0]),\n",
       " '3_9': array([0, 0, 0, 1, 1, 1, 1, 1, 1, 0]),\n",
       " '4_5': array([0, 0, 0, 0, 1, 0, 0, 0, 0, 0]),\n",
       " '4_6': array([0, 0, 0, 0, 1, 1, 0, 0, 0, 0]),\n",
       " '4_7': array([0, 0, 0, 0, 1, 1, 1, 0, 0, 0]),\n",
       " '4_8': array([0, 0, 0, 0, 1, 1, 1, 1, 0, 0]),\n",
       " '4_9': array([0, 0, 0, 0, 1, 1, 1, 1, 1, 0]),\n",
       " '5_6': array([0, 0, 0, 0, 0, 1, 0, 0, 0, 0]),\n",
       " '5_7': array([0, 0, 0, 0, 0, 1, 1, 0, 0, 0]),\n",
       " '5_8': array([0, 0, 0, 0, 0, 1, 1, 1, 0, 0]),\n",
       " '5_9': array([0, 0, 0, 0, 0, 1, 1, 1, 1, 0]),\n",
       " '6_7': array([0, 0, 0, 0, 0, 0, 1, 0, 0, 0]),\n",
       " '6_8': array([0, 0, 0, 0, 0, 0, 1, 1, 0, 0]),\n",
       " '6_9': array([0, 0, 0, 0, 0, 0, 1, 1, 1, 0]),\n",
       " '7_8': array([0, 0, 0, 0, 0, 0, 0, 1, 0, 0]),\n",
       " '7_9': array([0, 0, 0, 0, 0, 0, 0, 1, 1, 0]),\n",
       " '8_9': array([0, 0, 0, 0, 0, 0, 0, 0, 1, 0])}"
      ]
     },
     "execution_count": 172,
     "metadata": {},
     "output_type": "execute_result"
    }
   ],
   "source": [
    "data_dict"
   ]
  },
  {
   "cell_type": "code",
   "execution_count": 174,
   "metadata": {},
   "outputs": [
    {
     "data": {
      "text/plain": [
       "<matplotlib.image.AxesImage at 0x157eb9d90>"
      ]
     },
     "execution_count": 174,
     "metadata": {},
     "output_type": "execute_result"
    },
    {
     "data": {
      "image/png": "[encoded data removed]",
      "text/plain": [
       "<Figure size 432x288 with 1 Axes>"
      ]
     },
     "metadata": {
      "needs_background": "light"
     },
     "output_type": "display_data"
    }
   ],
   "source": [
    "plt.imshow(data, interpolation='nearest', aspect='auto')"
   ]
  },
  {
   "cell_type": "code",
   "execution_count": 175,
   "metadata": {},
   "outputs": [
    {
     "ename": "AttributeError",
     "evalue": "'numpy.ndarray' object has no attribute 'values'",
     "output_type": "error",
     "traceback": [
      "\u001b[0;31m---------------------------------------------------------------------------\u001b[0m",
      "\u001b[0;31mAttributeError\u001b[0m                            Traceback (most recent call last)",
      "\u001b[0;32m<ipython-input-175-e66a88243a77>\u001b[0m in \u001b[0;36m<module>\u001b[0;34m\u001b[0m\n\u001b[0;32m----> 1\u001b[0;31m \u001b[0mg\u001b[0m \u001b[0;34m=\u001b[0m \u001b[0msns\u001b[0m\u001b[0;34m.\u001b[0m\u001b[0mheatmap\u001b[0m\u001b[0;34m(\u001b[0m\u001b[0mdata\u001b[0m\u001b[0;34m.\u001b[0m\u001b[0mvalues\u001b[0m\u001b[0;34m,\u001b[0m\u001b[0mcmap\u001b[0m\u001b[0;34m=\u001b[0m\u001b[0;34m\"viridis\"\u001b[0m\u001b[0;34m)\u001b[0m\u001b[0;34m\u001b[0m\u001b[0;34m\u001b[0m\u001b[0m\n\u001b[0m\u001b[1;32m      2\u001b[0m \u001b[0mg\u001b[0m\u001b[0;34m.\u001b[0m\u001b[0mfigure\u001b[0m\u001b[0;34m.\u001b[0m\u001b[0msavefig\u001b[0m\u001b[0;34m(\u001b[0m\u001b[0;34m'multi_hot_encoding.png'\u001b[0m\u001b[0;34m,\u001b[0m \u001b[0mdpi\u001b[0m\u001b[0;34m=\u001b[0m\u001b[0;36m400\u001b[0m\u001b[0;34m)\u001b[0m\u001b[0;34m\u001b[0m\u001b[0;34m\u001b[0m\u001b[0m\n",
      "\u001b[0;31mAttributeError\u001b[0m: 'numpy.ndarray' object has no attribute 'values'"
     ]
    }
   ],
   "source": [
    "g = sns.heatmap(data[,cmap=\"viridis\")\n",
    "g.figure.savefig('multi_hot_encoding.png', dpi=400)"
   ]
  },
  {
   "cell_type": "code",
   "execution_count": 153,
   "metadata": {},
   "outputs": [],
   "source": [
    "labels = np.array([0,0,0,0,0,0,0,0,0,\n",
    "                   1,1,1,1,1,1,1,1,\n",
    "                   2,2,2,2,2,2,2,\n",
    "                   3,3,3,3,3,3,\n",
    "                   4,4,4,4,4,\n",
    "                   5,5,5,5,\n",
    "                   6,6,6,\n",
    "                   7,7,\n",
    "                   8])\n",
    "                   "
   ]
  },
  {
   "cell_type": "code",
   "execution_count": 154,
   "metadata": {},
   "outputs": [
    {
     "data": {
      "text/plain": [
       "array([0, 0, 0, 0, 0, 0, 0, 0, 0, 1, 1, 1, 1, 1, 1, 1, 1, 2, 2, 2, 2, 2,\n",
       "       2, 2, 3, 3, 3, 3, 3, 3, 4, 4, 4, 4, 4, 5, 5, 5, 5, 6, 6, 6, 7, 7,\n",
       "       8])"
      ]
     },
     "execution_count": 154,
     "metadata": {},
     "output_type": "execute_result"
    }
   ],
   "source": [
    "labels"
   ]
  },
  {
   "cell_type": "code",
   "execution_count": 155,
   "metadata": {},
   "outputs": [],
   "source": [
    "labels = to_categorical(labels)"
   ]
  },
  {
   "cell_type": "code",
   "execution_count": 156,
   "metadata": {},
   "outputs": [
    {
     "data": {
      "text/plain": [
       "(45, 9)"
      ]
     },
     "execution_count": 156,
     "metadata": {},
     "output_type": "execute_result"
    }
   ],
   "source": [
    "labels.shape"
   ]
  },
  {
   "cell_type": "code",
   "execution_count": 157,
   "metadata": {},
   "outputs": [
    {
     "data": {
      "text/plain": [
       "(45, 10)"
      ]
     },
     "execution_count": 157,
     "metadata": {},
     "output_type": "execute_result"
    }
   ],
   "source": [
    "data.shape"
   ]
  },
  {
   "cell_type": "code",
   "execution_count": 164,
   "metadata": {},
   "outputs": [],
   "source": [
    "def build_model():\n",
    "    model = tf.keras.Sequential()\n",
    "    model.add(layers.Dense(512, activation = 'relu', input_shape=(10,)))\n",
    "    model.add(layers.Dense(9, activation='softmax'))\n",
    "    \n",
    "    model.compile(optimizer='rmsprop', loss='categorical_crossentropy', metrics = ['accuracy', 'mae'])\n",
    "    \n",
    "    return model"
   ]
  },
  {
   "cell_type": "code",
   "execution_count": 165,
   "metadata": {},
   "outputs": [
    {
     "name": "stdout",
     "output_type": "stream",
     "text": [
      "Epoch 1/15\n",
      "6/6 [==============================] - 0s 823us/step - loss: 2.0958 - accuracy: 0.3778 - mae: 0.1945\n",
      "Epoch 2/15\n",
      "6/6 [==============================] - 0s 780us/step - loss: 1.8814 - accuracy: 0.5333 - mae: 0.1874\n",
      "Epoch 3/15\n",
      "6/6 [==============================] - 0s 769us/step - loss: 1.7465 - accuracy: 0.6667 - mae: 0.1815\n",
      "Epoch 4/15\n",
      "6/6 [==============================] - 0s 814us/step - loss: 1.6237 - accuracy: 0.9111 - mae: 0.1757\n",
      "Epoch 5/15\n",
      "6/6 [==============================] - 0s 1ms/step - loss: 1.5183 - accuracy: 0.8444 - mae: 0.1698\n",
      "Epoch 6/15\n",
      "6/6 [==============================] - 0s 1ms/step - loss: 1.4150 - accuracy: 0.9778 - mae: 0.1632\n",
      "Epoch 7/15\n",
      "6/6 [==============================] - 0s 1ms/step - loss: 1.3210 - accuracy: 0.9556 - mae: 0.1577\n",
      "Epoch 8/15\n",
      "6/6 [==============================] - 0s 871us/step - loss: 1.2306 - accuracy: 0.9778 - mae: 0.1512\n",
      "Epoch 9/15\n",
      "6/6 [==============================] - 0s 793us/step - loss: 1.1399 - accuracy: 0.9778 - mae: 0.1442\n",
      "Epoch 10/15\n",
      "6/6 [==============================] - 0s 789us/step - loss: 1.0571 - accuracy: 0.9778 - mae: 0.1380\n",
      "Epoch 11/15\n",
      "6/6 [==============================] - 0s 782us/step - loss: 0.9804 - accuracy: 0.9778 - mae: 0.1313\n",
      "Epoch 12/15\n",
      "6/6 [==============================] - 0s 829us/step - loss: 0.8984 - accuracy: 0.9778 - mae: 0.1241\n",
      "Epoch 13/15\n",
      "6/6 [==============================] - 0s 745us/step - loss: 0.8310 - accuracy: 0.9778 - mae: 0.1175\n",
      "Epoch 14/15\n",
      "6/6 [==============================] - 0s 738us/step - loss: 0.7648 - accuracy: 0.9778 - mae: 0.1110\n",
      "Epoch 15/15\n",
      "6/6 [==============================] - 0s 891us/step - loss: 0.7124 - accuracy: 0.9778 - mae: 0.1053\n"
     ]
    },
    {
     "data": {
      "text/plain": [
       "<tensorflow.python.keras.callbacks.History at 0x155133130>"
      ]
     },
     "execution_count": 165,
     "metadata": {},
     "output_type": "execute_result"
    }
   ],
   "source": [
    "model = build_model()\n",
    "\n",
    "model.fit(data, \n",
    "          labels, \n",
    "          epochs=15, \n",
    "          batch_size=8)"
   ]
  },
  {
   "cell_type": "code",
   "execution_count": 166,
   "metadata": {},
   "outputs": [
    {
     "name": "stdout",
     "output_type": "stream",
     "text": [
      "2/2 [==============================] - 0s 2ms/step - loss: 0.6490 - accuracy: 1.0000 - mae: 0.0982\n"
     ]
    },
    {
     "data": {
      "text/plain": [
       "[0.6490433812141418, 1.0, 0.09818471223115921]"
      ]
     },
     "execution_count": 166,
     "metadata": {},
     "output_type": "execute_result"
    }
   ],
   "source": [
    "model.evaluate(data, labels)"
   ]
  },
  {
   "cell_type": "code",
   "execution_count": 167,
   "metadata": {},
   "outputs": [
    {
     "data": {
      "text/plain": [
       "array([[1, 0, 0, 0, 0, 0, 0, 0, 0, 0],\n",
       "       [1, 1, 0, 0, 0, 0, 0, 0, 0, 0],\n",
       "       [1, 1, 1, 0, 0, 0, 0, 0, 0, 0],\n",
       "       [1, 1, 1, 1, 0, 0, 0, 0, 0, 0],\n",
       "       [1, 1, 1, 1, 1, 0, 0, 0, 0, 0],\n",
       "       [1, 1, 1, 1, 1, 1, 0, 0, 0, 0],\n",
       "       [1, 1, 1, 1, 1, 1, 1, 0, 0, 0],\n",
       "       [1, 1, 1, 1, 1, 1, 1, 1, 0, 0],\n",
       "       [1, 1, 1, 1, 1, 1, 1, 1, 1, 0],\n",
       "       [0, 1, 0, 0, 0, 0, 0, 0, 0, 0],\n",
       "       [0, 1, 1, 0, 0, 0, 0, 0, 0, 0],\n",
       "       [0, 1, 1, 1, 0, 0, 0, 0, 0, 0],\n",
       "       [0, 1, 1, 1, 1, 0, 0, 0, 0, 0],\n",
       "       [0, 1, 1, 1, 1, 1, 0, 0, 0, 0],\n",
       "       [0, 1, 1, 1, 1, 1, 1, 0, 0, 0],\n",
       "       [0, 1, 1, 1, 1, 1, 1, 1, 0, 0],\n",
       "       [0, 1, 1, 1, 1, 1, 1, 1, 1, 0],\n",
       "       [0, 0, 1, 0, 0, 0, 0, 0, 0, 0],\n",
       "       [0, 0, 1, 1, 0, 0, 0, 0, 0, 0],\n",
       "       [0, 0, 1, 1, 1, 0, 0, 0, 0, 0],\n",
       "       [0, 0, 1, 1, 1, 1, 0, 0, 0, 0],\n",
       "       [0, 0, 1, 1, 1, 1, 1, 0, 0, 0],\n",
       "       [0, 0, 1, 1, 1, 1, 1, 1, 0, 0],\n",
       "       [0, 0, 1, 1, 1, 1, 1, 1, 1, 0],\n",
       "       [0, 0, 0, 1, 0, 0, 0, 0, 0, 0],\n",
       "       [0, 0, 0, 1, 1, 0, 0, 0, 0, 0],\n",
       "       [0, 0, 0, 1, 1, 1, 0, 0, 0, 0],\n",
       "       [0, 0, 0, 1, 1, 1, 1, 0, 0, 0],\n",
       "       [0, 0, 0, 1, 1, 1, 1, 1, 0, 0],\n",
       "       [0, 0, 0, 1, 1, 1, 1, 1, 1, 0],\n",
       "       [0, 0, 0, 0, 1, 0, 0, 0, 0, 0],\n",
       "       [0, 0, 0, 0, 1, 1, 0, 0, 0, 0],\n",
       "       [0, 0, 0, 0, 1, 1, 1, 0, 0, 0],\n",
       "       [0, 0, 0, 0, 1, 1, 1, 1, 0, 0],\n",
       "       [0, 0, 0, 0, 1, 1, 1, 1, 1, 0],\n",
       "       [0, 0, 0, 0, 0, 1, 0, 0, 0, 0],\n",
       "       [0, 0, 0, 0, 0, 1, 1, 0, 0, 0],\n",
       "       [0, 0, 0, 0, 0, 1, 1, 1, 0, 0],\n",
       "       [0, 0, 0, 0, 0, 1, 1, 1, 1, 0],\n",
       "       [0, 0, 0, 0, 0, 0, 1, 0, 0, 0],\n",
       "       [0, 0, 0, 0, 0, 0, 1, 1, 0, 0],\n",
       "       [0, 0, 0, 0, 0, 0, 1, 1, 1, 0],\n",
       "       [0, 0, 0, 0, 0, 0, 0, 1, 0, 0],\n",
       "       [0, 0, 0, 0, 0, 0, 0, 1, 1, 0],\n",
       "       [0, 0, 0, 0, 0, 0, 0, 0, 1, 0]])"
      ]
     },
     "execution_count": 167,
     "metadata": {},
     "output_type": "execute_result"
    }
   ],
   "source": [
    "data"
   ]
  },
  {
   "cell_type": "code",
   "execution_count": 61,
   "metadata": {},
   "outputs": [
    {
     "data": {
      "text/plain": [
       "array([0, 0, 0, 1, 1, 0])"
      ]
     },
     "execution_count": 61,
     "metadata": {},
     "output_type": "execute_result"
    }
   ],
   "source": [
    "three_five"
   ]
  },
  {
   "cell_type": "code",
   "execution_count": 62,
   "metadata": {},
   "outputs": [
    {
     "data": {
      "text/plain": [
       "array([0, 0, 0, 1, 0, 0])"
      ]
     },
     "execution_count": 62,
     "metadata": {},
     "output_type": "execute_result"
    }
   ],
   "source": [
    "three_four"
   ]
  },
  {
   "cell_type": "code",
   "execution_count": 63,
   "metadata": {},
   "outputs": [
    {
     "data": {
      "text/plain": [
       "array([0, 0, 1, 1, 0, 0])"
      ]
     },
     "execution_count": 63,
     "metadata": {},
     "output_type": "execute_result"
    }
   ],
   "source": [
    "two_four"
   ]
  },
  {
   "cell_type": "code",
   "execution_count": 64,
   "metadata": {},
   "outputs": [
    {
     "data": {
      "text/plain": [
       "array([1, 1, 1, 1, 0, 0])"
      ]
     },
     "execution_count": 64,
     "metadata": {},
     "output_type": "execute_result"
    }
   ],
   "source": [
    "zero_four"
   ]
  },
  {
   "cell_type": "code",
   "execution_count": 65,
   "metadata": {},
   "outputs": [
    {
     "data": {
      "text/plain": [
       "array([0, 0, 1, 0, 0, 0])"
      ]
     },
     "execution_count": 65,
     "metadata": {},
     "output_type": "execute_result"
    }
   ],
   "source": [
    "two_three"
   ]
  },
  {
   "cell_type": "code",
   "execution_count": 66,
   "metadata": {},
   "outputs": [
    {
     "data": {
      "text/plain": [
       "array([0, 1, 1, 0, 0, 0])"
      ]
     },
     "execution_count": 66,
     "metadata": {},
     "output_type": "execute_result"
    }
   ],
   "source": [
    "one_three"
   ]
  },
  {
   "cell_type": "code",
   "execution_count": 67,
   "metadata": {},
   "outputs": [
    {
     "data": {
      "text/plain": [
       "array([1, 1, 1, 0, 0, 0])"
      ]
     },
     "execution_count": 67,
     "metadata": {},
     "output_type": "execute_result"
    }
   ],
   "source": [
    "zero_three"
   ]
  },
  {
   "cell_type": "code",
   "execution_count": 68,
   "metadata": {},
   "outputs": [
    {
     "data": {
      "text/plain": [
       "array([1, 1, 0, 0, 0, 0])"
      ]
     },
     "execution_count": 68,
     "metadata": {},
     "output_type": "execute_result"
    }
   ],
   "source": [
    "zero_two"
   ]
  },
  {
   "cell_type": "code",
   "execution_count": 69,
   "metadata": {},
   "outputs": [
    {
     "data": {
      "text/plain": [
       "array([0, 1, 0, 0, 0, 0])"
      ]
     },
     "execution_count": 69,
     "metadata": {},
     "output_type": "execute_result"
    }
   ],
   "source": [
    "one_two"
   ]
  },
  {
   "cell_type": "code",
   "execution_count": 70,
   "metadata": {},
   "outputs": [
    {
     "data": {
      "text/plain": [
       "array([1, 0, 0, 0, 0, 0])"
      ]
     },
     "execution_count": 70,
     "metadata": {},
     "output_type": "execute_result"
    }
   ],
   "source": [
    "zero_one"
   ]
  },
  {
   "cell_type": "code",
   "execution_count": null,
   "metadata": {},
   "outputs": [],
   "source": []
  },
  {
   "cell_type": "code",
   "execution_count": null,
   "metadata": {},
   "outputs": [],
   "source": []
  }
 ],
 "metadata": {
  "kernelspec": {
   "display_name": "general_ML",
   "language": "python",
   "name": "general_ml"
  },
  "language_info": {
   "codemirror_mode": {
    "name": "ipython",
    "version": 3
   },
   "file_extension": ".py",
   "mimetype": "text/x-python",
   "name": "python",
   "nbconvert_exporter": "python",
   "pygments_lexer": "ipython3",
   "version": "3.9.2"
  }
 },
 "nbformat": 4,
 "nbformat_minor": 4
}
