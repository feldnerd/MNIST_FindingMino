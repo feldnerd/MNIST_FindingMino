{
 "cells": [
  {
   "cell_type": "code",
   "execution_count": 1,
   "metadata": {},
   "outputs": [
    {
     "name": "stderr",
     "output_type": "stream",
     "text": [
      "Using TensorFlow backend.\n"
     ]
    }
   ],
   "source": [
    "import matplotlib.pyplot as plt\n",
    "import itertools\n",
    "import numpy as np\n",
    "import pandas as pd\n",
    "from keras.utils.np_utils import to_categorical\n",
    "import tensorflow as tf\n",
    "from tensorflow import keras\n",
    "from tensorflow.keras import layers\n",
    "from tensorflow.keras.models import Sequential, load_model\n",
    "from keras.datasets import mnist\n",
    "import itertools\n",
    "import random"
   ]
  },
  {
   "cell_type": "code",
   "execution_count": 2,
   "metadata": {},
   "outputs": [],
   "source": [
    "# Randomly select a defined number of image paires from a given dataset\n",
    "def get_left_min_image_combinations(number_image_pairs_selected, image_data, image_labels):\n",
    "    \n",
    "    num_images_total = len(image_labels)\n",
    "    \n",
    "    image_combination_data = []\n",
    "    image_combination_labels = []\n",
    "    \n",
    "    for i in range(number_image_pairs_selected):\n",
    "        \n",
    "        # Draw two image indices from a uniform random distribution\n",
    "        random_index_A = random.randint(0, num_images_total-1)\n",
    "        random_index_B = random.randint(0, num_images_total-1)\n",
    "        \n",
    "        # Randomly choose two images from the dataset\n",
    "        image_A = image_data[random_index_A]\n",
    "        image_B = image_data[random_index_B]\n",
    "        \n",
    "        # Merge images TODO: this could be a function with several options\n",
    "        combined_images = np.hstack((image_A, image_B))\n",
    "        \n",
    "        # Find the minimum between the two labels\n",
    "        label_A = image_labels[random_index_A]\n",
    "        label_B = image_labels[random_index_B]\n",
    "        minimum_label = min(label_A, label_B)\n",
    "        \n",
    "        if label_A < label_B:\n",
    "            # Merge images TODO: this could be a function with several options\n",
    "            combined_images = np.hstack((image_A, image_B))\n",
    "        elif label_A > label_B: \n",
    "            # Merge images TODO: this could be a function with several options\n",
    "            combined_images = np.hstack((image_B, image_A))\n",
    "        # Here we want to exclude the images where they are the same on both sides\n",
    "            \n",
    "   \n",
    "        # Append newly generated image combination and minimum label to list\n",
    "        image_combination_data.append(combined_images)\n",
    "        image_combination_labels.append(minimum_label)\n",
    "        \n",
    "    # Convert image data and labels lists to numpy arrays\n",
    "    image_combination_data = np.array(image_combination_data)\n",
    "    image_combination_labels = np.array(image_combination_labels)\n",
    "    \n",
    "    return image_combination_data, image_combination_labels"
   ]
  },
  {
   "cell_type": "code",
   "execution_count": 3,
   "metadata": {},
   "outputs": [],
   "source": [
    "# Randomly select a defined number of image paires from a given dataset\n",
    "def get_right_min_image_combinations(number_image_pairs_selected, image_data, image_labels):\n",
    "    \n",
    "    num_images_total = len(image_labels)\n",
    "    \n",
    "    image_combination_data = []\n",
    "    image_combination_labels = []\n",
    "    \n",
    "    for i in range(number_image_pairs_selected):\n",
    "        \n",
    "        # Draw two image indices from a uniform random distribution\n",
    "        random_index_A = random.randint(0, num_images_total-1)\n",
    "        random_index_B = random.randint(0, num_images_total-1)\n",
    "        \n",
    "        # Randomly choose two images from the dataset\n",
    "        image_A = image_data[random_index_A]\n",
    "        image_B = image_data[random_index_B]\n",
    "        \n",
    "        # Merge images TODO: this could be a function with several options\n",
    "        combined_images = np.hstack((image_A, image_B))\n",
    "        \n",
    "        # Find the minimum between the two labels\n",
    "        label_A = image_labels[random_index_A]\n",
    "        label_B = image_labels[random_index_B]\n",
    "        minimum_label = min(label_A, label_B)\n",
    "        \n",
    "        if label_A < label_B:\n",
    "            # Merge images TODO: this could be a function with several options\n",
    "            combined_images = np.hstack((image_B, image_A))\n",
    "        elif label_A > label_B: \n",
    "            # Merge images TODO: this could be a function with several options\n",
    "            combined_images = np.hstack((image_A, image_B))\n",
    "        # Here we want to exclude the images where they are the same on both sides\n",
    "            \n",
    "   \n",
    "        # Append newly generated image combination and minimum label to list\n",
    "        image_combination_data.append(combined_images)\n",
    "        image_combination_labels.append(minimum_label)\n",
    "        \n",
    "    # Convert image data and labels lists to numpy arrays\n",
    "    image_combination_data = np.array(image_combination_data)\n",
    "    image_combination_labels = np.array(image_combination_labels)\n",
    "    \n",
    "    return image_combination_data, image_combination_labels"
   ]
  },
  {
   "cell_type": "code",
   "execution_count": 4,
   "metadata": {},
   "outputs": [],
   "source": [
    "# Load data and split into training and test\n",
    "(train_images, train_labels), (test_images, test_labels) = mnist.load_data()"
   ]
  },
  {
   "cell_type": "code",
   "execution_count": 5,
   "metadata": {},
   "outputs": [],
   "source": [
    "# Split training set further into training and validation sets\n",
    "sample_size = 40000\n",
    "X_train, X_val, y_train, y_val = train_images[:sample_size], train_images[sample_size:sample_size*2],  train_labels[:sample_size], train_labels[sample_size:sample_size*2]"
   ]
  },
  {
   "cell_type": "code",
   "execution_count": 6,
   "metadata": {},
   "outputs": [],
   "source": [
    "combo_train_X, combo_train_y = get_left_min_image_combinations(40000, X_train, y_train)\n",
    "combo_val_X, combo_val_y = get_right_min_image_combinations(20000, X_val, y_val)"
   ]
  },
  {
   "cell_type": "code",
   "execution_count": 7,
   "metadata": {},
   "outputs": [],
   "source": [
    "# Reshape the data so they can be fed into the network, one-hot-encode the labels\n",
    "\n",
    "train_images = combo_train_X.reshape((combo_train_X.shape[0], 28, 56, 1))\n",
    "train_images = train_images/ 255\n",
    "\n",
    "val_images = combo_val_X.reshape((combo_val_X.shape[0], 28, 56, 1))\n",
    "val_images = val_images/255\n",
    "\n",
    "train_labels = to_categorical(combo_train_y)\n",
    "val_labels = to_categorical(combo_val_y)"
   ]
  },
  {
   "cell_type": "code",
   "execution_count": 8,
   "metadata": {},
   "outputs": [],
   "source": [
    "# Model architecture\n",
    "def build_CNN():\n",
    "\n",
    "    # Convolutional NN\n",
    "    model = tf.keras.Sequential()\n",
    "    model.add(layers.Conv2D(32, (3,3), activation = 'relu', input_shape = (28,56,1)))\n",
    "    model.add(layers.MaxPooling2D(2,2))\n",
    "    model.add(layers.Conv2D(64, (3,3), activation = 'relu'))\n",
    "    model.add(layers.MaxPooling2D(2,2))\n",
    "    model.add(layers.Conv2D(64, (3,3), activation = 'relu'))\n",
    "    # Adding a NN Classifier\n",
    "    model.add(layers.Flatten())\n",
    "    model.add(layers.Dense(64, activation = 'relu'))\n",
    "    model.add(layers.Dense(10, activation = 'softmax'))\n",
    "\n",
    "    model.compile(optimizer='rmsprop', \n",
    "                loss='categorical_crossentropy', \n",
    "                metrics=['accuracy', 'mae'])\n",
    "\n",
    "    return model"
   ]
  },
  {
   "cell_type": "code",
   "execution_count": 9,
   "metadata": {},
   "outputs": [
    {
     "name": "stdout",
     "output_type": "stream",
     "text": [
      "Model: \"sequential\"\n",
      "_________________________________________________________________\n",
      "Layer (type)                 Output Shape              Param #   \n",
      "=================================================================\n",
      "conv2d (Conv2D)              (None, 26, 54, 32)        320       \n",
      "_________________________________________________________________\n",
      "max_pooling2d (MaxPooling2D) (None, 13, 27, 32)        0         \n",
      "_________________________________________________________________\n",
      "conv2d_1 (Conv2D)            (None, 11, 25, 64)        18496     \n",
      "_________________________________________________________________\n",
      "max_pooling2d_1 (MaxPooling2 (None, 5, 12, 64)         0         \n",
      "_________________________________________________________________\n",
      "conv2d_2 (Conv2D)            (None, 3, 10, 64)         36928     \n",
      "_________________________________________________________________\n",
      "flatten (Flatten)            (None, 1920)              0         \n",
      "_________________________________________________________________\n",
      "dense (Dense)                (None, 64)                122944    \n",
      "_________________________________________________________________\n",
      "dense_1 (Dense)              (None, 10)                650       \n",
      "=================================================================\n",
      "Total params: 179,338\n",
      "Trainable params: 179,338\n",
      "Non-trainable params: 0\n",
      "_________________________________________________________________\n"
     ]
    }
   ],
   "source": [
    "CNN_model = build_CNN()\n",
    "CNN_model.summary()"
   ]
  },
  {
   "cell_type": "code",
   "execution_count": 10,
   "metadata": {},
   "outputs": [
    {
     "name": "stdout",
     "output_type": "stream",
     "text": [
      "Epoch 1/30\n",
      "625/625 [==============================] - 48s 75ms/step - loss: 0.1864 - accuracy: 0.9427 - mae: 0.0178\n",
      "Epoch 2/30\n",
      "625/625 [==============================] - 48s 77ms/step - loss: 0.0367 - accuracy: 0.9883 - mae: 0.0036\n",
      "Epoch 3/30\n",
      "625/625 [==============================] - 54s 86ms/step - loss: 0.0206 - accuracy: 0.9937 - mae: 0.0019\n",
      "Epoch 4/30\n",
      "625/625 [==============================] - 48s 76ms/step - loss: 0.0123 - accuracy: 0.9960 - mae: 0.0012\n",
      "Epoch 5/30\n",
      "625/625 [==============================] - 48s 77ms/step - loss: 0.0091 - accuracy: 0.9972 - mae: 7.9244e-04\n",
      "Epoch 6/30\n",
      "625/625 [==============================] - 51s 81ms/step - loss: 0.0063 - accuracy: 0.9979 - mae: 6.1226e-04\n",
      "Epoch 7/30\n",
      "625/625 [==============================] - 51s 82ms/step - loss: 0.0048 - accuracy: 0.9985 - mae: 4.3623e-04\n",
      "Epoch 8/30\n",
      "625/625 [==============================] - 50s 80ms/step - loss: 0.0039 - accuracy: 0.9988 - mae: 3.4045e-04\n",
      "Epoch 9/30\n",
      "625/625 [==============================] - 48s 77ms/step - loss: 0.0024 - accuracy: 0.9991 - mae: 2.0338e-04\n",
      "Epoch 10/30\n",
      "625/625 [==============================] - 47s 75ms/step - loss: 0.0021 - accuracy: 0.9992 - mae: 1.7228e-04\n",
      "Epoch 11/30\n",
      "625/625 [==============================] - 47s 75ms/step - loss: 0.0033 - accuracy: 0.9992 - mae: 2.0898e-04\n",
      "Epoch 12/30\n",
      "625/625 [==============================] - 47s 76ms/step - loss: 0.0017 - accuracy: 0.9995 - mae: 1.4403e-04\n",
      "Epoch 13/30\n",
      "625/625 [==============================] - 46s 74ms/step - loss: 0.0012 - accuracy: 0.9996 - mae: 9.2795e-05\n",
      "Epoch 14/30\n",
      "625/625 [==============================] - 46s 74ms/step - loss: 0.0021 - accuracy: 0.9995 - mae: 1.2816e-04\n",
      "Epoch 15/30\n",
      "625/625 [==============================] - 47s 75ms/step - loss: 0.0011 - accuracy: 0.9998 - mae: 5.9125e-05\n",
      "Epoch 16/30\n",
      "625/625 [==============================] - 47s 75ms/step - loss: 0.0022 - accuracy: 0.9994 - mae: 1.3251e-04\n",
      "Epoch 17/30\n",
      "625/625 [==============================] - 48s 77ms/step - loss: 0.0010 - accuracy: 0.9998 - mae: 6.7489e-05\n",
      "Epoch 18/30\n",
      "625/625 [==============================] - 46s 74ms/step - loss: 0.0016 - accuracy: 0.9996 - mae: 8.9497e-05\n",
      "Epoch 19/30\n",
      "625/625 [==============================] - 46s 74ms/step - loss: 0.0015 - accuracy: 0.9997 - mae: 7.0100e-05\n",
      "Epoch 20/30\n",
      "625/625 [==============================] - 47s 75ms/step - loss: 5.3337e-04 - accuracy: 0.9998 - mae: 4.3816e-05\n",
      "Epoch 21/30\n",
      "625/625 [==============================] - 47s 75ms/step - loss: 4.7874e-04 - accuracy: 0.9999 - mae: 2.9363e-05\n",
      "Epoch 22/30\n",
      "625/625 [==============================] - 47s 75ms/step - loss: 0.0012 - accuracy: 0.9996 - mae: 7.8643e-05\n",
      "Epoch 23/30\n",
      "625/625 [==============================] - 47s 75ms/step - loss: 3.9468e-04 - accuracy: 0.9998 - mae: 3.9020e-05\n",
      "Epoch 24/30\n",
      "625/625 [==============================] - 47s 75ms/step - loss: 0.0011 - accuracy: 0.9997 - mae: 5.9475e-05\n",
      "Epoch 25/30\n",
      "625/625 [==============================] - 47s 75ms/step - loss: 0.0021 - accuracy: 0.9997 - mae: 6.4964e-05\n",
      "Epoch 26/30\n",
      "625/625 [==============================] - 46s 74ms/step - loss: 0.0011 - accuracy: 0.9998 - mae: 3.1623e-05\n",
      "Epoch 27/30\n",
      "625/625 [==============================] - 47s 76ms/step - loss: 2.2932e-04 - accuracy: 0.9999 - mae: 1.2531e-05\n",
      "Epoch 28/30\n",
      "625/625 [==============================] - 46s 74ms/step - loss: 3.4645e-04 - accuracy: 1.0000 - mae: 1.0536e-05\n",
      "Epoch 29/30\n",
      "625/625 [==============================] - 49s 79ms/step - loss: 5.4989e-04 - accuracy: 0.9999 - mae: 2.6048e-05\n",
      "Epoch 30/30\n",
      "625/625 [==============================] - 44s 70ms/step - loss: 0.0021 - accuracy: 0.9997 - mae: 5.5517e-05\n"
     ]
    },
    {
     "data": {
      "text/plain": [
       "<tensorflow.python.keras.callbacks.History at 0x11e2ac220>"
      ]
     },
     "execution_count": 10,
     "metadata": {},
     "output_type": "execute_result"
    }
   ],
   "source": [
    "# Fit model\n",
    "CNN_model.fit(train_images, \n",
    "          train_labels, \n",
    "          epochs = 30, \n",
    "          batch_size = 64)"
   ]
  },
  {
   "cell_type": "code",
   "execution_count": 11,
   "metadata": {},
   "outputs": [
    {
     "name": "stdout",
     "output_type": "stream",
     "text": [
      "625/625 [==============================] - 4s 6ms/step - loss: 82.2440 - accuracy: 0.1086 - mae: 0.1783\n"
     ]
    },
    {
     "data": {
      "text/plain": [
       "[82.24396514892578, 0.10864999890327454, 0.17834483087062836]"
      ]
     },
     "execution_count": 11,
     "metadata": {},
     "output_type": "execute_result"
    }
   ],
   "source": [
    "# Print loss, mae and accuracy\n",
    "eval_model = CNN_model.evaluate(val_images, val_labels)\n",
    "eval_model"
   ]
  },
  {
   "cell_type": "code",
   "execution_count": 12,
   "metadata": {},
   "outputs": [],
   "source": [
    "# Model architecture\n",
    "def build_DNN():\n",
    "\n",
    "    # Convolutional NN\n",
    "    model = tf.keras.Sequential()\n",
    "    model.add(layers.Conv2D(32, (3,3), activation = 'relu', input_shape = (28,56,1)))\n",
    "    model.add(layers.MaxPooling2D(2,2))\n",
    "    model.add(layers.Conv2D(64, (3,3), activation = 'relu'))\n",
    "    model.add(layers.MaxPooling2D(2,2))\n",
    "    model.add(layers.Conv2D(64, (3,3), activation = 'relu'))\n",
    "    # Adding a NN Classifier\n",
    "    model.add(layers.Flatten())\n",
    "    model.add(layers.Dropout(0.5))\n",
    "    model.add(layers.Dense(64, activation = 'relu'))\n",
    "    model.add(layers.Dense(10, activation = 'softmax'))\n",
    "\n",
    "    # Compile model\n",
    "    model.compile(optimizer='rmsprop', \n",
    "                loss='categorical_crossentropy', \n",
    "                metrics=['accuracy', 'mae'])\n",
    "\n",
    "    return model"
   ]
  },
  {
   "cell_type": "code",
   "execution_count": 15,
   "metadata": {},
   "outputs": [
    {
     "name": "stdout",
     "output_type": "stream",
     "text": [
      "Model: \"sequential_2\"\n",
      "_________________________________________________________________\n",
      "Layer (type)                 Output Shape              Param #   \n",
      "=================================================================\n",
      "conv2d_6 (Conv2D)            (None, 26, 54, 32)        320       \n",
      "_________________________________________________________________\n",
      "max_pooling2d_4 (MaxPooling2 (None, 13, 27, 32)        0         \n",
      "_________________________________________________________________\n",
      "conv2d_7 (Conv2D)            (None, 11, 25, 64)        18496     \n",
      "_________________________________________________________________\n",
      "max_pooling2d_5 (MaxPooling2 (None, 5, 12, 64)         0         \n",
      "_________________________________________________________________\n",
      "conv2d_8 (Conv2D)            (None, 3, 10, 64)         36928     \n",
      "_________________________________________________________________\n",
      "flatten_2 (Flatten)          (None, 1920)              0         \n",
      "_________________________________________________________________\n",
      "dropout (Dropout)            (None, 1920)              0         \n",
      "_________________________________________________________________\n",
      "dense_4 (Dense)              (None, 64)                122944    \n",
      "_________________________________________________________________\n",
      "dense_5 (Dense)              (None, 10)                650       \n",
      "=================================================================\n",
      "Total params: 179,338\n",
      "Trainable params: 179,338\n",
      "Non-trainable params: 0\n",
      "_________________________________________________________________\n"
     ]
    }
   ],
   "source": [
    "DNN_model = build_DNN()\n",
    "DNN_model.summary()"
   ]
  },
  {
   "cell_type": "code",
   "execution_count": 16,
   "metadata": {},
   "outputs": [
    {
     "name": "stdout",
     "output_type": "stream",
     "text": [
      "Epoch 1/30\n",
      "625/625 [==============================] - 68s 105ms/step - loss: 0.2147 - accuracy: 0.9323 - mae: 0.0206\n",
      "Epoch 2/30\n",
      "625/625 [==============================] - 73s 116ms/step - loss: 0.0570 - accuracy: 0.9822 - mae: 0.0054\n",
      "Epoch 3/30\n",
      "625/625 [==============================] - 69s 111ms/step - loss: 0.0387 - accuracy: 0.9879 - mae: 0.0036\n",
      "Epoch 4/30\n",
      "625/625 [==============================] - 66s 105ms/step - loss: 0.0300 - accuracy: 0.9908 - mae: 0.0027\n",
      "Epoch 5/30\n",
      "625/625 [==============================] - 61s 98ms/step - loss: 0.0234 - accuracy: 0.9923 - mae: 0.0021\n",
      "Epoch 6/30\n",
      "625/625 [==============================] - 63s 100ms/step - loss: 0.0201 - accuracy: 0.9938 - mae: 0.0018\n",
      "Epoch 7/30\n",
      "625/625 [==============================] - 66s 105ms/step - loss: 0.0171 - accuracy: 0.9944 - mae: 0.0015\n",
      "Epoch 8/30\n",
      "625/625 [==============================] - 61s 98ms/step - loss: 0.0137 - accuracy: 0.9955 - mae: 0.0012\n",
      "Epoch 9/30\n",
      "625/625 [==============================] - 60s 96ms/step - loss: 0.0140 - accuracy: 0.9958 - mae: 0.0011\n",
      "Epoch 10/30\n",
      "625/625 [==============================] - 58s 92ms/step - loss: 0.0118 - accuracy: 0.9961 - mae: 0.0010\n",
      "Epoch 11/30\n",
      "625/625 [==============================] - 44s 71ms/step - loss: 0.0099 - accuracy: 0.9966 - mae: 8.6379e-04\n",
      "Epoch 12/30\n",
      "625/625 [==============================] - 45s 72ms/step - loss: 0.0104 - accuracy: 0.9970 - mae: 7.8071e-04\n",
      "Epoch 13/30\n",
      "625/625 [==============================] - 44s 70ms/step - loss: 0.0093 - accuracy: 0.9972 - mae: 7.4345e-04\n",
      "Epoch 14/30\n",
      "625/625 [==============================] - 45s 72ms/step - loss: 0.0092 - accuracy: 0.9970 - mae: 7.4706e-04\n",
      "Epoch 15/30\n",
      "625/625 [==============================] - 44s 70ms/step - loss: 0.0098 - accuracy: 0.9972 - mae: 7.0449e-04\n",
      "Epoch 16/30\n",
      "625/625 [==============================] - 44s 71ms/step - loss: 0.0086 - accuracy: 0.9974 - mae: 6.4209e-04\n",
      "Epoch 17/30\n",
      "625/625 [==============================] - 46s 73ms/step - loss: 0.0063 - accuracy: 0.9981 - mae: 4.8557e-04\n",
      "Epoch 18/30\n",
      "625/625 [==============================] - 46s 74ms/step - loss: 0.0074 - accuracy: 0.9977 - mae: 5.4513e-04\n",
      "Epoch 19/30\n",
      "625/625 [==============================] - 47s 75ms/step - loss: 0.0067 - accuracy: 0.9983 - mae: 4.2199e-04\n",
      "Epoch 20/30\n",
      "625/625 [==============================] - 57s 91ms/step - loss: 0.0069 - accuracy: 0.9979 - mae: 4.8570e-04\n",
      "Epoch 21/30\n",
      "625/625 [==============================] - 48s 77ms/step - loss: 0.0067 - accuracy: 0.9981 - mae: 4.4670e-04\n",
      "Epoch 22/30\n",
      "625/625 [==============================] - 46s 73ms/step - loss: 0.0064 - accuracy: 0.9981 - mae: 4.4061e-04\n",
      "Epoch 23/30\n",
      "625/625 [==============================] - 48s 76ms/step - loss: 0.0068 - accuracy: 0.9978 - mae: 4.7139e-04\n",
      "Epoch 24/30\n",
      "625/625 [==============================] - 48s 76ms/step - loss: 0.0055 - accuracy: 0.9984 - mae: 3.5935e-04\n",
      "Epoch 25/30\n",
      "625/625 [==============================] - 48s 76ms/step - loss: 0.0070 - accuracy: 0.9981 - mae: 4.1628e-04\n",
      "Epoch 26/30\n",
      "625/625 [==============================] - 49s 78ms/step - loss: 0.0061 - accuracy: 0.9983 - mae: 4.1706e-04\n",
      "Epoch 27/30\n",
      "625/625 [==============================] - 49s 79ms/step - loss: 0.0070 - accuracy: 0.9979 - mae: 4.4747e-04\n",
      "Epoch 28/30\n",
      "625/625 [==============================] - 48s 76ms/step - loss: 0.0060 - accuracy: 0.9982 - mae: 4.0434e-04\n",
      "Epoch 29/30\n",
      "625/625 [==============================] - 50s 80ms/step - loss: 0.0057 - accuracy: 0.9984 - mae: 3.4202e-04\n",
      "Epoch 30/30\n",
      "625/625 [==============================] - 51s 82ms/step - loss: 0.0069 - accuracy: 0.9984 - mae: 3.7574e-04\n"
     ]
    },
    {
     "data": {
      "text/plain": [
       "<tensorflow.python.keras.callbacks.History at 0x19964b520>"
      ]
     },
     "execution_count": 16,
     "metadata": {},
     "output_type": "execute_result"
    }
   ],
   "source": [
    "# Fit model\n",
    "DNN_model.fit(train_images, \n",
    "          train_labels, \n",
    "          epochs = 30, \n",
    "          batch_size = 64)"
   ]
  },
  {
   "cell_type": "code",
   "execution_count": 17,
   "metadata": {},
   "outputs": [
    {
     "name": "stdout",
     "output_type": "stream",
     "text": [
      "625/625 [==============================] - 5s 7ms/step - loss: 45.3017 - accuracy: 0.1077 - mae: 0.1785\n"
     ]
    },
    {
     "data": {
      "text/plain": [
       "[45.301734924316406, 0.10769999772310257, 0.1784740388393402]"
      ]
     },
     "execution_count": 17,
     "metadata": {},
     "output_type": "execute_result"
    }
   ],
   "source": [
    "# Print loss, mae and accuracy\n",
    "DNN_eval_model = DNN_model.evaluate(val_images, val_labels)\n",
    "DNN_eval_model"
   ]
  },
  {
   "cell_type": "code",
   "execution_count": null,
   "metadata": {},
   "outputs": [],
   "source": []
  }
 ],
 "metadata": {
  "kernelspec": {
   "display_name": "general_ML",
   "language": "python",
   "name": "general_ml"
  },
  "language_info": {
   "codemirror_mode": {
    "name": "ipython",
    "version": 3
   },
   "file_extension": ".py",
   "mimetype": "text/x-python",
   "name": "python",
   "nbconvert_exporter": "python",
   "pygments_lexer": "ipython3",
   "version": "3.9.2"
  }
 },
 "nbformat": 4,
 "nbformat_minor": 4
}
