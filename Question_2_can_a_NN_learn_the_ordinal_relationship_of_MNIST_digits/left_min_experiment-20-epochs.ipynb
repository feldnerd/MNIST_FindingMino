{
 "cells": [
  {
   "cell_type": "code",
   "execution_count": 1,
   "metadata": {},
   "outputs": [
    {
     "name": "stderr",
     "output_type": "stream",
     "text": [
      "Using TensorFlow backend.\n"
     ]
    }
   ],
   "source": [
    "import matplotlib.pyplot as plt\n",
    "import itertools\n",
    "import numpy as np\n",
    "import pandas as pd\n",
    "from keras.utils.np_utils import to_categorical\n",
    "import tensorflow as tf\n",
    "from tensorflow import keras\n",
    "from tensorflow.keras import layers\n",
    "from tensorflow.keras.models import Sequential, load_model\n",
    "from keras.datasets import mnist\n",
    "import itertools\n",
    "import random"
   ]
  },
  {
   "cell_type": "code",
   "execution_count": 2,
   "metadata": {},
   "outputs": [],
   "source": [
    "# Randomly select a defined number of image paires from a given dataset\n",
    "def get_left_min_image_combinations(number_image_pairs_selected, image_data, image_labels):\n",
    "    \n",
    "    num_images_total = len(image_labels)\n",
    "    \n",
    "    image_combination_data = []\n",
    "    image_combination_labels = []\n",
    "    \n",
    "    for i in range(number_image_pairs_selected):\n",
    "        \n",
    "        # Draw two image indices from a uniform random distribution\n",
    "        random_index_A = random.randint(0, num_images_total-1)\n",
    "        random_index_B = random.randint(0, num_images_total-1)\n",
    "        \n",
    "        # Randomly choose two images from the dataset\n",
    "        image_A = image_data[random_index_A]\n",
    "        image_B = image_data[random_index_B]\n",
    "        \n",
    "        # Merge images TODO: this could be a function with several options\n",
    "        combined_images = np.hstack((image_A, image_B))\n",
    "        \n",
    "        # Find the minimum between the two labels\n",
    "        label_A = image_labels[random_index_A]\n",
    "        label_B = image_labels[random_index_B]\n",
    "        minimum_label = min(label_A, label_B)\n",
    "        \n",
    "        if label_A <= label_B:\n",
    "            # Merge images TODO: this could be a function with several options\n",
    "            combined_images = np.hstack((image_A, image_B))\n",
    "        elif label_A > label_B: \n",
    "            # Merge images TODO: this could be a function with several options\n",
    "            combined_images = np.hstack((image_B, image_A))\n",
    "        # Here we want to exclude the images where they are the same on both sides\n",
    "            \n",
    "   \n",
    "        # Append newly generated image combination and minimum label to list\n",
    "        image_combination_data.append(combined_images)\n",
    "        image_combination_labels.append(minimum_label)\n",
    "        \n",
    "    # Convert image data and labels lists to numpy arrays\n",
    "    image_combination_data = np.array(image_combination_data)\n",
    "    image_combination_labels = np.array(image_combination_labels)\n",
    "    \n",
    "    return image_combination_data, image_combination_labels"
   ]
  },
  {
   "cell_type": "code",
   "execution_count": 3,
   "metadata": {},
   "outputs": [],
   "source": [
    "# Randomly select a defined number of image paires from a given dataset\n",
    "def get_right_min_image_combinations(number_image_pairs_selected, image_data, image_labels):\n",
    "    \n",
    "    num_images_total = len(image_labels)\n",
    "    \n",
    "    image_combination_data = []\n",
    "    image_combination_labels = []\n",
    "    \n",
    "    for i in range(number_image_pairs_selected):\n",
    "        \n",
    "        # Draw two image indices from a uniform random distribution\n",
    "        random_index_A = random.randint(0, num_images_total-1)\n",
    "        random_index_B = random.randint(0, num_images_total-1)\n",
    "        \n",
    "        # Randomly choose two images from the dataset\n",
    "        image_A = image_data[random_index_A]\n",
    "        image_B = image_data[random_index_B]\n",
    "        \n",
    "        # Merge images TODO: this could be a function with several options\n",
    "        combined_images = np.hstack((image_A, image_B))\n",
    "        \n",
    "        # Find the minimum between the two labels\n",
    "        label_A = image_labels[random_index_A]\n",
    "        label_B = image_labels[random_index_B]\n",
    "        minimum_label = min(label_A, label_B)\n",
    "        \n",
    "        if label_A < label_B:\n",
    "            # Merge images TODO: this could be a function with several options\n",
    "            combined_images = np.hstack((image_B, image_A))\n",
    "        elif label_A > label_B: \n",
    "            # Merge images TODO: this could be a function with several options\n",
    "            combined_images = np.hstack((image_A, image_B))\n",
    "        # Here we want to exclude the images where they are the same on both sides\n",
    "            \n",
    "   \n",
    "        # Append newly generated image combination and minimum label to list\n",
    "        image_combination_data.append(combined_images)\n",
    "        image_combination_labels.append(minimum_label)\n",
    "        \n",
    "    # Convert image data and labels lists to numpy arrays\n",
    "    image_combination_data = np.array(image_combination_data)\n",
    "    image_combination_labels = np.array(image_combination_labels)\n",
    "    \n",
    "    return image_combination_data, image_combination_labels"
   ]
  },
  {
   "cell_type": "code",
   "execution_count": 4,
   "metadata": {},
   "outputs": [],
   "source": [
    "# Load data and split into training and test\n",
    "(train_images, train_labels), (test_images, test_labels) = mnist.load_data()"
   ]
  },
  {
   "cell_type": "code",
   "execution_count": 5,
   "metadata": {},
   "outputs": [],
   "source": [
    "# Split training set further into training and validation sets\n",
    "sample_size = 40000\n",
    "X_train, X_val, y_train, y_val = train_images[:sample_size], train_images[sample_size:sample_size*2],  train_labels[:sample_size], train_labels[sample_size:sample_size*2]"
   ]
  },
  {
   "cell_type": "code",
   "execution_count": 6,
   "metadata": {},
   "outputs": [],
   "source": [
    "combo_train_X, combo_train_y = get_left_min_image_combinations(40000, X_train, y_train)\n",
    "combo_val_X, combo_val_y = get_right_min_image_combinations(20000, X_val, y_val)"
   ]
  },
  {
   "cell_type": "code",
   "execution_count": 7,
   "metadata": {},
   "outputs": [],
   "source": [
    "# Reshape the data so they can be fed into the network, one-hot-encode the labels\n",
    "\n",
    "train_images = combo_train_X.reshape((combo_train_X.shape[0], 28, 56, 1))\n",
    "train_images = train_images/ 255\n",
    "\n",
    "val_images = combo_val_X.reshape((combo_val_X.shape[0], 28, 56, 1))\n",
    "val_images = val_images/255\n",
    "\n",
    "train_labels = to_categorical(combo_train_y)\n",
    "val_labels = to_categorical(combo_val_y)"
   ]
  },
  {
   "cell_type": "code",
   "execution_count": 12,
   "metadata": {},
   "outputs": [],
   "source": [
    "# Experiment parameters\n",
    "\n",
    "num_epochs = 20\n",
    "num_iterations = 5"
   ]
  },
  {
   "cell_type": "code",
   "execution_count": 13,
   "metadata": {},
   "outputs": [],
   "source": [
    "# Model architecture\n",
    "def build_CNN():\n",
    "\n",
    "    # Convolutional NN\n",
    "    model = tf.keras.Sequential()\n",
    "    model.add(layers.Conv2D(32, (3,3), activation = 'relu', input_shape = (28,56,1)))\n",
    "    model.add(layers.MaxPooling2D(2,2))\n",
    "    model.add(layers.Conv2D(64, (3,3), activation = 'relu'))\n",
    "    model.add(layers.MaxPooling2D(2,2))\n",
    "    model.add(layers.Conv2D(64, (3,3), activation = 'relu'))\n",
    "    # Adding a NN Classifier\n",
    "    model.add(layers.Flatten())\n",
    "    model.add(layers.Dense(64, activation = 'relu'))\n",
    "    model.add(layers.Dense(10, activation = 'softmax'))\n",
    "\n",
    "    model.compile(optimizer='rmsprop', \n",
    "                loss='categorical_crossentropy', \n",
    "                metrics=['accuracy', 'mae'])\n",
    "\n",
    "    return model"
   ]
  },
  {
   "cell_type": "code",
   "execution_count": 14,
   "metadata": {},
   "outputs": [
    {
     "name": "stdout",
     "output_type": "stream",
     "text": [
      "Model: \"sequential_1\"\n",
      "_________________________________________________________________\n",
      "Layer (type)                 Output Shape              Param #   \n",
      "=================================================================\n",
      "conv2d_3 (Conv2D)            (None, 26, 54, 32)        320       \n",
      "_________________________________________________________________\n",
      "max_pooling2d_2 (MaxPooling2 (None, 13, 27, 32)        0         \n",
      "_________________________________________________________________\n",
      "conv2d_4 (Conv2D)            (None, 11, 25, 64)        18496     \n",
      "_________________________________________________________________\n",
      "max_pooling2d_3 (MaxPooling2 (None, 5, 12, 64)         0         \n",
      "_________________________________________________________________\n",
      "conv2d_5 (Conv2D)            (None, 3, 10, 64)         36928     \n",
      "_________________________________________________________________\n",
      "flatten_1 (Flatten)          (None, 1920)              0         \n",
      "_________________________________________________________________\n",
      "dense_2 (Dense)              (None, 64)                122944    \n",
      "_________________________________________________________________\n",
      "dense_3 (Dense)              (None, 10)                650       \n",
      "=================================================================\n",
      "Total params: 179,338\n",
      "Trainable params: 179,338\n",
      "Non-trainable params: 0\n",
      "_________________________________________________________________\n"
     ]
    }
   ],
   "source": [
    "CNN_model = build_CNN()\n",
    "CNN_model.summary()"
   ]
  },
  {
   "cell_type": "code",
   "execution_count": 11,
   "metadata": {},
   "outputs": [
    {
     "name": "stdout",
     "output_type": "stream",
     "text": [
      "Epoch 1/5\n",
      "625/625 [==============================] - 28s 44ms/step - loss: 0.1787 - accuracy: 0.9444 - mae: 0.0172\n",
      "Epoch 2/5\n",
      "625/625 [==============================] - 51s 82ms/step - loss: 0.0370 - accuracy: 0.9887 - mae: 0.0035\n",
      "Epoch 3/5\n",
      "625/625 [==============================] - 38s 61ms/step - loss: 0.0198 - accuracy: 0.9937 - mae: 0.0019\n",
      "Epoch 4/5\n",
      "625/625 [==============================] - 36s 57ms/step - loss: 0.0137 - accuracy: 0.9956 - mae: 0.0012\n",
      "Epoch 5/5\n",
      "625/625 [==============================] - 36s 58ms/step - loss: 0.0087 - accuracy: 0.9976 - mae: 7.6991e-04\n",
      "625/625 [==============================] - 3s 5ms/step - loss: 20.8963 - accuracy: 0.1042 - mae: 0.1790\n",
      "Epoch 1/5\n",
      "625/625 [==============================] - 36s 58ms/step - loss: 0.0070 - accuracy: 0.9979 - mae: 5.9058e-04\n",
      "Epoch 2/5\n",
      "625/625 [==============================] - 47s 75ms/step - loss: 0.0048 - accuracy: 0.9984 - mae: 4.1264e-04\n",
      "Epoch 3/5\n",
      "625/625 [==============================] - 75s 120ms/step - loss: 0.0029 - accuracy: 0.9989 - mae: 2.7838e-04\n",
      "Epoch 4/5\n",
      "625/625 [==============================] - 42s 68ms/step - loss: 0.0029 - accuracy: 0.9991 - mae: 2.6251e-04\n",
      "Epoch 5/5\n",
      "625/625 [==============================] - 39s 62ms/step - loss: 0.0039 - accuracy: 0.9989 - mae: 2.6901e-04\n",
      "625/625 [==============================] - 4s 7ms/step - loss: 35.6674 - accuracy: 0.1073 - mae: 0.1785\n",
      "Epoch 1/5\n",
      "625/625 [==============================] - 38s 61ms/step - loss: 0.0035 - accuracy: 0.9990 - mae: 2.4664e-04\n",
      "Epoch 2/5\n",
      "625/625 [==============================] - 37s 59ms/step - loss: 0.0023 - accuracy: 0.9992 - mae: 1.7272e-04\n",
      "Epoch 3/5\n",
      "625/625 [==============================] - 34s 54ms/step - loss: 0.0034 - accuracy: 0.9994 - mae: 1.3736e-04\n",
      "Epoch 4/5\n",
      "625/625 [==============================] - 32s 51ms/step - loss: 8.4638e-04 - accuracy: 0.9997 - mae: 7.4314e-05\n",
      "Epoch 5/5\n",
      "625/625 [==============================] - 37s 60ms/step - loss: 0.0016 - accuracy: 0.9996 - mae: 9.0639e-05\n",
      "625/625 [==============================] - 4s 6ms/step - loss: 53.5350 - accuracy: 0.1062 - mae: 0.1787\n",
      "Epoch 1/5\n",
      "625/625 [==============================] - 34s 55ms/step - loss: 0.0019 - accuracy: 0.9995 - mae: 1.1370e-04\n",
      "Epoch 2/5\n",
      "625/625 [==============================] - 35s 55ms/step - loss: 0.0011 - accuracy: 0.9998 - mae: 5.8274e-05\n",
      "Epoch 3/5\n",
      "625/625 [==============================] - 30s 48ms/step - loss: 9.4429e-04 - accuracy: 0.9998 - mae: 5.8371e-05\n",
      "Epoch 4/5\n",
      "625/625 [==============================] - 33s 54ms/step - loss: 9.4638e-04 - accuracy: 0.9998 - mae: 5.2741e-05\n",
      "Epoch 5/5\n",
      "625/625 [==============================] - 35s 55ms/step - loss: 0.0013 - accuracy: 0.9997 - mae: 7.7273e-05\n",
      "625/625 [==============================] - 3s 4ms/step - loss: 61.4208 - accuracy: 0.1117 - mae: 0.1776\n",
      "Epoch 1/5\n",
      "625/625 [==============================] - 31s 50ms/step - loss: 0.0015 - accuracy: 0.9997 - mae: 7.0667e-05\n",
      "Epoch 2/5\n",
      "625/625 [==============================] - 32s 52ms/step - loss: 0.0015 - accuracy: 0.9997 - mae: 7.3100e-05\n",
      "Epoch 3/5\n",
      "625/625 [==============================] - 33s 53ms/step - loss: 0.0023 - accuracy: 0.9997 - mae: 8.8832e-05\n",
      "Epoch 4/5\n",
      "625/625 [==============================] - 32s 51ms/step - loss: 0.0013 - accuracy: 0.9996 - mae: 8.0518e-05\n",
      "Epoch 5/5\n",
      "625/625 [==============================] - 33s 52ms/step - loss: 8.3062e-04 - accuracy: 0.9998 - mae: 3.9514e-05\n",
      "625/625 [==============================] - 3s 5ms/step - loss: 71.7989 - accuracy: 0.1059 - mae: 0.1788\n"
     ]
    }
   ],
   "source": [
    "# Fit model\n",
    "CNN_accuracy = []\n",
    "\n",
    "for i in range(num_iterations):\n",
    "\n",
    "    CNN_model.fit(train_images, \n",
    "              train_labels, \n",
    "              epochs = num_epochs, \n",
    "              batch_size = 64)\n",
    "    \n",
    "    # Print loss, mae and accuracy\n",
    "    CNN_eval_model = CNN_model.evaluate(val_images, val_labels)\n",
    "    CNN_accuracy.append(CNN_eval_model[1])"
   ]
  },
  {
   "cell_type": "code",
   "execution_count": 14,
   "metadata": {},
   "outputs": [
    {
     "name": "stdout",
     "output_type": "stream",
     "text": [
      "Epoch 1/5\n",
      "625/625 [==============================] - 27s 43ms/step - loss: 0.2125 - accuracy: 0.9336 - mae: 0.0202\n",
      "Epoch 2/5\n",
      "625/625 [==============================] - 32s 52ms/step - loss: 0.0428 - accuracy: 0.9865 - mae: 0.0041\n",
      "Epoch 3/5\n",
      "625/625 [==============================] - 30s 47ms/step - loss: 0.0259 - accuracy: 0.9919 - mae: 0.0024\n",
      "Epoch 4/5\n",
      "625/625 [==============================] - 30s 48ms/step - loss: 0.0161 - accuracy: 0.9949 - mae: 0.0015\n",
      "Epoch 5/5\n",
      "625/625 [==============================] - 31s 49ms/step - loss: 0.0108 - accuracy: 0.9962 - mae: 0.0011\n",
      "625/625 [==============================] - 3s 5ms/step - loss: 16.8169 - accuracy: 0.1104 - mae: 0.1777\n"
     ]
    }
   ],
   "source": [
    "CNN_model = build_CNN()\n",
    "CNN_model.fit(train_images, \n",
    "              train_labels, \n",
    "              epochs = num_epochs, \n",
    "              batch_size = 64)\n",
    "\n",
    " # Print loss, mae and accuracy\n",
    "CNN_eval_model = CNN_model.evaluate(val_images, val_labels)\n",
    "CNN_accuracy.append(CNN_eval_model[1])\n",
    "CNN_eval_model"
   ]
  },
  {
   "cell_type": "code",
   "execution_count": 16,
   "metadata": {},
   "outputs": [
    {
     "data": {
      "text/plain": [
       "[16.816865921020508, 0.11044999957084656, 0.17765407264232635]"
      ]
     },
     "execution_count": 16,
     "metadata": {},
     "output_type": "execute_result"
    }
   ],
   "source": [
    "CNN_eval_model"
   ]
  },
  {
   "cell_type": "code",
   "execution_count": 15,
   "metadata": {},
   "outputs": [],
   "source": [
    "# Model architecture\n",
    "def build_DNN():\n",
    "\n",
    "    # Convolutional NN\n",
    "    model = tf.keras.Sequential()\n",
    "    model.add(layers.Conv2D(32, (3,3), activation = 'relu', input_shape = (28,56,1)))\n",
    "    model.add(layers.MaxPooling2D(2,2))\n",
    "    model.add(layers.Conv2D(64, (3,3), activation = 'relu'))\n",
    "    model.add(layers.MaxPooling2D(2,2))\n",
    "    model.add(layers.Conv2D(64, (3,3), activation = 'relu'))\n",
    "    # Adding a NN Classifier\n",
    "    model.add(layers.Flatten())\n",
    "    model.add(layers.Dropout(0.5))\n",
    "    model.add(layers.Dense(64, activation = 'relu'))\n",
    "    model.add(layers.Dense(10, activation = 'softmax'))\n",
    "\n",
    "    # Compile model\n",
    "    model.compile(optimizer='rmsprop', \n",
    "                loss='categorical_crossentropy', \n",
    "                metrics=['accuracy', 'mae'])\n",
    "\n",
    "    return model"
   ]
  },
  {
   "cell_type": "code",
   "execution_count": 16,
   "metadata": {},
   "outputs": [
    {
     "name": "stdout",
     "output_type": "stream",
     "text": [
      "Model: \"sequential_2\"\n",
      "_________________________________________________________________\n",
      "Layer (type)                 Output Shape              Param #   \n",
      "=================================================================\n",
      "conv2d_6 (Conv2D)            (None, 26, 54, 32)        320       \n",
      "_________________________________________________________________\n",
      "max_pooling2d_4 (MaxPooling2 (None, 13, 27, 32)        0         \n",
      "_________________________________________________________________\n",
      "conv2d_7 (Conv2D)            (None, 11, 25, 64)        18496     \n",
      "_________________________________________________________________\n",
      "max_pooling2d_5 (MaxPooling2 (None, 5, 12, 64)         0         \n",
      "_________________________________________________________________\n",
      "conv2d_8 (Conv2D)            (None, 3, 10, 64)         36928     \n",
      "_________________________________________________________________\n",
      "flatten_2 (Flatten)          (None, 1920)              0         \n",
      "_________________________________________________________________\n",
      "dropout (Dropout)            (None, 1920)              0         \n",
      "_________________________________________________________________\n",
      "dense_4 (Dense)              (None, 64)                122944    \n",
      "_________________________________________________________________\n",
      "dense_5 (Dense)              (None, 10)                650       \n",
      "=================================================================\n",
      "Total params: 179,338\n",
      "Trainable params: 179,338\n",
      "Non-trainable params: 0\n",
      "_________________________________________________________________\n"
     ]
    }
   ],
   "source": [
    "DNN_model = build_DNN()\n",
    "DNN_model.summary()"
   ]
  },
  {
   "cell_type": "code",
   "execution_count": 17,
   "metadata": {},
   "outputs": [
    {
     "name": "stdout",
     "output_type": "stream",
     "text": [
      "Epoch 1/20\n",
      "625/625 [==============================] - 35s 54ms/step - loss: 0.2318 - accuracy: 0.9287 - mae: 0.0219\n",
      "Epoch 2/20\n",
      "625/625 [==============================] - 33s 53ms/step - loss: 0.0586 - accuracy: 0.9813 - mae: 0.0056\n",
      "Epoch 3/20\n",
      "625/625 [==============================] - 33s 53ms/step - loss: 0.0413 - accuracy: 0.9869 - mae: 0.0038\n",
      "Epoch 4/20\n",
      "625/625 [==============================] - 34s 54ms/step - loss: 0.0296 - accuracy: 0.9908 - mae: 0.0027\n",
      "Epoch 5/20\n",
      "625/625 [==============================] - 33s 53ms/step - loss: 0.0244 - accuracy: 0.9919 - mae: 0.0022\n",
      "Epoch 6/20\n",
      "625/625 [==============================] - 34s 54ms/step - loss: 0.0199 - accuracy: 0.9934 - mae: 0.0018\n",
      "Epoch 7/20\n",
      "625/625 [==============================] - 35s 56ms/step - loss: 0.0176 - accuracy: 0.9943 - mae: 0.0015\n",
      "Epoch 8/20\n",
      "625/625 [==============================] - 34s 54ms/step - loss: 0.0145 - accuracy: 0.9955 - mae: 0.0012\n",
      "Epoch 9/20\n",
      "625/625 [==============================] - 35s 56ms/step - loss: 0.0130 - accuracy: 0.9960 - mae: 0.0011\n",
      "Epoch 10/20\n",
      "625/625 [==============================] - 32s 51ms/step - loss: 0.0132 - accuracy: 0.9956 - mae: 0.0011\n",
      "Epoch 11/20\n",
      "625/625 [==============================] - 31s 50ms/step - loss: 0.0114 - accuracy: 0.9962 - mae: 9.9892e-04\n",
      "Epoch 12/20\n",
      "625/625 [==============================] - 32s 51ms/step - loss: 0.0100 - accuracy: 0.9968 - mae: 8.2445e-04\n",
      "Epoch 13/20\n",
      "625/625 [==============================] - 31s 50ms/step - loss: 0.0107 - accuracy: 0.9968 - mae: 8.4620e-04\n",
      "Epoch 14/20\n",
      "625/625 [==============================] - 32s 51ms/step - loss: 0.0078 - accuracy: 0.9977 - mae: 6.1718e-04\n",
      "Epoch 15/20\n",
      "625/625 [==============================] - 34s 55ms/step - loss: 0.0084 - accuracy: 0.9973 - mae: 6.7140e-04\n",
      "Epoch 16/20\n",
      "625/625 [==============================] - 35s 56ms/step - loss: 0.0082 - accuracy: 0.9976 - mae: 6.3039e-04\n",
      "Epoch 17/20\n",
      "625/625 [==============================] - 47s 76ms/step - loss: 0.0084 - accuracy: 0.9975 - mae: 5.8619e-04\n",
      "Epoch 18/20\n",
      "625/625 [==============================] - 35s 57ms/step - loss: 0.0085 - accuracy: 0.9972 - mae: 6.2945e-04\n",
      "Epoch 19/20\n",
      "625/625 [==============================] - 42s 68ms/step - loss: 0.0082 - accuracy: 0.9978 - mae: 5.1698e-04\n",
      "Epoch 20/20\n",
      "625/625 [==============================] - 38s 61ms/step - loss: 0.0070 - accuracy: 0.9979 - mae: 5.3483e-04\n",
      "625/625 [==============================] - 2s 4ms/step - loss: 28.7863 - accuracy: 0.1069 - mae: 0.1785\n",
      "Epoch 1/20\n",
      "625/625 [==============================] - 28s 45ms/step - loss: 0.0065 - accuracy: 0.9980 - mae: 4.6987e-04\n",
      "Epoch 2/20\n",
      "625/625 [==============================] - 30s 48ms/step - loss: 0.0069 - accuracy: 0.9980 - mae: 4.6887e-04\n",
      "Epoch 3/20\n",
      "625/625 [==============================] - 30s 49ms/step - loss: 0.0067 - accuracy: 0.9980 - mae: 4.6841e-04\n",
      "Epoch 4/20\n",
      "625/625 [==============================] - 31s 49ms/step - loss: 0.0067 - accuracy: 0.9980 - mae: 4.5520e-04\n",
      "Epoch 5/20\n",
      "625/625 [==============================] - 31s 49ms/step - loss: 0.0069 - accuracy: 0.9982 - mae: 4.1233e-04\n",
      "Epoch 6/20\n",
      "625/625 [==============================] - 31s 49ms/step - loss: 0.0072 - accuracy: 0.9980 - mae: 4.3732e-04\n",
      "Epoch 7/20\n",
      "625/625 [==============================] - 33s 53ms/step - loss: 0.0052 - accuracy: 0.9986 - mae: 3.3913e-04\n",
      "Epoch 8/20\n",
      "625/625 [==============================] - 31s 50ms/step - loss: 0.0071 - accuracy: 0.9984 - mae: 3.8619e-04\n",
      "Epoch 9/20\n",
      "625/625 [==============================] - 31s 49ms/step - loss: 0.0054 - accuracy: 0.9985 - mae: 3.4962e-04\n",
      "Epoch 10/20\n",
      "625/625 [==============================] - 31s 49ms/step - loss: 0.0069 - accuracy: 0.9980 - mae: 4.4741e-04\n",
      "Epoch 11/20\n",
      "625/625 [==============================] - 30s 49ms/step - loss: 0.0052 - accuracy: 0.9987 - mae: 2.9837e-04\n",
      "Epoch 12/20\n",
      "625/625 [==============================] - 31s 49ms/step - loss: 0.0046 - accuracy: 0.9986 - mae: 3.2396e-04\n",
      "Epoch 13/20\n",
      "625/625 [==============================] - 30s 49ms/step - loss: 0.0046 - accuracy: 0.9988 - mae: 2.8784e-04\n",
      "Epoch 14/20\n",
      "625/625 [==============================] - 31s 50ms/step - loss: 0.0062 - accuracy: 0.9988 - mae: 2.9524e-04\n",
      "Epoch 15/20\n",
      "625/625 [==============================] - 31s 50ms/step - loss: 0.0067 - accuracy: 0.9987 - mae: 3.1275e-04\n",
      "Epoch 16/20\n",
      "625/625 [==============================] - 31s 49ms/step - loss: 0.0056 - accuracy: 0.9987 - mae: 3.0906e-04\n",
      "Epoch 17/20\n",
      "625/625 [==============================] - 31s 49ms/step - loss: 0.0047 - accuracy: 0.9988 - mae: 2.5776e-04\n",
      "Epoch 18/20\n",
      "625/625 [==============================] - 31s 49ms/step - loss: 0.0044 - accuracy: 0.9990 - mae: 2.3430e-04\n",
      "Epoch 19/20\n",
      "625/625 [==============================] - 31s 49ms/step - loss: 0.0052 - accuracy: 0.9987 - mae: 2.8127e-04\n",
      "Epoch 20/20\n",
      "625/625 [==============================] - 31s 50ms/step - loss: 0.0041 - accuracy: 0.9988 - mae: 2.6006e-04\n",
      "625/625 [==============================] - 3s 4ms/step - loss: 51.7852 - accuracy: 0.1035 - mae: 0.1793\n",
      "Epoch 1/20\n",
      "625/625 [==============================] - 30s 48ms/step - loss: 0.0053 - accuracy: 0.9988 - mae: 2.8255e-04\n",
      "Epoch 2/20\n",
      "625/625 [==============================] - 30s 48ms/step - loss: 0.0045 - accuracy: 0.9988 - mae: 2.6917e-04\n",
      "Epoch 3/20\n",
      "625/625 [==============================] - 30s 49ms/step - loss: 0.0074 - accuracy: 0.9985 - mae: 3.1016e-04\n",
      "Epoch 4/20\n",
      "625/625 [==============================] - 31s 49ms/step - loss: 0.0039 - accuracy: 0.9990 - mae: 2.2622e-04\n",
      "Epoch 5/20\n",
      "625/625 [==============================] - 31s 49ms/step - loss: 0.0063 - accuracy: 0.9986 - mae: 3.1735e-04\n",
      "Epoch 6/20\n",
      "625/625 [==============================] - 31s 49ms/step - loss: 0.0045 - accuracy: 0.9988 - mae: 2.5039e-04\n",
      "Epoch 7/20\n",
      "625/625 [==============================] - 30s 48ms/step - loss: 0.0046 - accuracy: 0.9991 - mae: 2.0668e-04\n",
      "Epoch 8/20\n",
      "625/625 [==============================] - 30s 48ms/step - loss: 0.0044 - accuracy: 0.9990 - mae: 2.2904e-04\n",
      "Epoch 9/20\n",
      "625/625 [==============================] - 30s 48ms/step - loss: 0.0058 - accuracy: 0.9986 - mae: 3.0005e-04\n",
      "Epoch 10/20\n",
      "625/625 [==============================] - 31s 49ms/step - loss: 0.0063 - accuracy: 0.9985 - mae: 3.1321e-04\n",
      "Epoch 11/20\n",
      "625/625 [==============================] - 30s 49ms/step - loss: 0.0053 - accuracy: 0.9989 - mae: 2.3727e-04\n",
      "Epoch 12/20\n",
      "625/625 [==============================] - 30s 48ms/step - loss: 0.0055 - accuracy: 0.9989 - mae: 2.5467e-04\n",
      "Epoch 13/20\n",
      "625/625 [==============================] - 30s 48ms/step - loss: 0.0044 - accuracy: 0.9991 - mae: 2.2562e-04\n",
      "Epoch 14/20\n",
      "625/625 [==============================] - 30s 49ms/step - loss: 0.0058 - accuracy: 0.9989 - mae: 2.3993e-04\n",
      "Epoch 15/20\n",
      "625/625 [==============================] - 30s 48ms/step - loss: 0.0051 - accuracy: 0.9990 - mae: 2.1031e-04\n",
      "Epoch 16/20\n",
      "625/625 [==============================] - 30s 48ms/step - loss: 0.0045 - accuracy: 0.9990 - mae: 2.0045e-04\n",
      "Epoch 17/20\n",
      "625/625 [==============================] - 30s 48ms/step - loss: 0.0050 - accuracy: 0.9989 - mae: 2.2201e-04\n",
      "Epoch 18/20\n",
      "625/625 [==============================] - 30s 48ms/step - loss: 0.0047 - accuracy: 0.9991 - mae: 2.0394e-04\n",
      "Epoch 19/20\n",
      "625/625 [==============================] - 30s 48ms/step - loss: 0.0046 - accuracy: 0.9991 - mae: 2.0789e-04\n",
      "Epoch 20/20\n",
      "625/625 [==============================] - 30s 49ms/step - loss: 0.0047 - accuracy: 0.9992 - mae: 1.6292e-04\n",
      "625/625 [==============================] - 3s 4ms/step - loss: 69.4725 - accuracy: 0.1053 - mae: 0.1789\n",
      "Epoch 1/20\n",
      "625/625 [==============================] - 31s 50ms/step - loss: 0.0060 - accuracy: 0.9991 - mae: 1.8557e-04\n",
      "Epoch 2/20\n",
      "625/625 [==============================] - 30s 49ms/step - loss: 0.0049 - accuracy: 0.9990 - mae: 2.1090e-04\n",
      "Epoch 3/20\n",
      "625/625 [==============================] - 30s 48ms/step - loss: 0.0045 - accuracy: 0.9991 - mae: 1.9478e-04\n",
      "Epoch 4/20\n",
      "625/625 [==============================] - 32s 51ms/step - loss: 0.0053 - accuracy: 0.9991 - mae: 1.9817e-04\n",
      "Epoch 5/20\n",
      "625/625 [==============================] - 30s 48ms/step - loss: 0.0057 - accuracy: 0.9991 - mae: 1.8502e-04\n",
      "Epoch 6/20\n",
      "625/625 [==============================] - 31s 49ms/step - loss: 0.0039 - accuracy: 0.9990 - mae: 1.9699e-04\n",
      "Epoch 7/20\n",
      "625/625 [==============================] - 31s 49ms/step - loss: 0.0054 - accuracy: 0.9990 - mae: 2.0274e-04\n",
      "Epoch 8/20\n",
      "625/625 [==============================] - 30s 49ms/step - loss: 0.0046 - accuracy: 0.9993 - mae: 1.7100e-04\n",
      "Epoch 9/20\n",
      "625/625 [==============================] - 31s 50ms/step - loss: 0.0059 - accuracy: 0.9990 - mae: 2.0924e-04\n",
      "Epoch 10/20\n",
      "625/625 [==============================] - 31s 49ms/step - loss: 0.0056 - accuracy: 0.9992 - mae: 1.7234e-04\n",
      "Epoch 11/20\n",
      "625/625 [==============================] - 31s 49ms/step - loss: 0.0035 - accuracy: 0.9994 - mae: 1.2921e-04\n",
      "Epoch 12/20\n",
      "625/625 [==============================] - 31s 49ms/step - loss: 0.0047 - accuracy: 0.9990 - mae: 2.1731e-04\n",
      "Epoch 13/20\n",
      "625/625 [==============================] - 31s 49ms/step - loss: 0.0048 - accuracy: 0.9990 - mae: 1.9853e-04\n",
      "Epoch 14/20\n",
      "625/625 [==============================] - 31s 49ms/step - loss: 0.0055 - accuracy: 0.9990 - mae: 2.0257e-04\n",
      "Epoch 15/20\n",
      "625/625 [==============================] - 31s 49ms/step - loss: 0.0047 - accuracy: 0.9991 - mae: 1.9661e-04\n",
      "Epoch 16/20\n",
      "625/625 [==============================] - 31s 49ms/step - loss: 0.0051 - accuracy: 0.9991 - mae: 1.7943e-04\n",
      "Epoch 17/20\n",
      "625/625 [==============================] - 31s 49ms/step - loss: 0.0035 - accuracy: 0.9992 - mae: 1.6444e-04\n",
      "Epoch 18/20\n",
      "625/625 [==============================] - 31s 49ms/step - loss: 0.0039 - accuracy: 0.9991 - mae: 1.7344e-04\n",
      "Epoch 19/20\n",
      "625/625 [==============================] - 31s 50ms/step - loss: 0.0071 - accuracy: 0.9990 - mae: 2.3375e-04\n",
      "Epoch 20/20\n",
      "625/625 [==============================] - 31s 49ms/step - loss: 0.0052 - accuracy: 0.9990 - mae: 2.0936e-04\n",
      "625/625 [==============================] - 3s 4ms/step - loss: 77.1097 - accuracy: 0.1018 - mae: 0.1796\n",
      "Epoch 1/20\n",
      "625/625 [==============================] - 30s 48ms/step - loss: 0.0031 - accuracy: 0.9993 - mae: 1.4992e-04\n",
      "Epoch 2/20\n",
      "625/625 [==============================] - 30s 48ms/step - loss: 0.0036 - accuracy: 0.9992 - mae: 1.4735e-04\n",
      "Epoch 3/20\n",
      "625/625 [==============================] - 30s 48ms/step - loss: 0.0066 - accuracy: 0.9989 - mae: 2.2464e-04\n",
      "Epoch 4/20\n",
      "625/625 [==============================] - 30s 48ms/step - loss: 0.0049 - accuracy: 0.9993 - mae: 1.5032e-04\n",
      "Epoch 5/20\n",
      "625/625 [==============================] - 30s 48ms/step - loss: 0.0036 - accuracy: 0.9993 - mae: 1.3680e-04\n",
      "Epoch 6/20\n",
      "625/625 [==============================] - 30s 49ms/step - loss: 0.0044 - accuracy: 0.9991 - mae: 1.7567e-04\n",
      "Epoch 7/20\n",
      "625/625 [==============================] - 31s 49ms/step - loss: 0.0057 - accuracy: 0.9990 - mae: 2.0058e-04\n",
      "Epoch 8/20\n",
      "625/625 [==============================] - 30s 48ms/step - loss: 0.0040 - accuracy: 0.9995 - mae: 1.1237e-04\n",
      "Epoch 9/20\n",
      "625/625 [==============================] - 31s 49ms/step - loss: 0.0059 - accuracy: 0.9991 - mae: 1.8821e-04\n",
      "Epoch 10/20\n",
      "625/625 [==============================] - 31s 49ms/step - loss: 0.0039 - accuracy: 0.9993 - mae: 1.5584e-04\n",
      "Epoch 11/20\n",
      "625/625 [==============================] - 30s 49ms/step - loss: 0.0059 - accuracy: 0.9989 - mae: 2.0978e-04\n",
      "Epoch 12/20\n",
      "625/625 [==============================] - 31s 50ms/step - loss: 0.0047 - accuracy: 0.9993 - mae: 1.4390e-04\n",
      "Epoch 13/20\n",
      "625/625 [==============================] - 32s 51ms/step - loss: 0.0040 - accuracy: 0.9991 - mae: 1.8216e-04\n",
      "Epoch 14/20\n",
      "625/625 [==============================] - 32s 51ms/step - loss: 0.0045 - accuracy: 0.9992 - mae: 1.6470e-04\n",
      "Epoch 15/20\n",
      "625/625 [==============================] - 33s 53ms/step - loss: 0.0040 - accuracy: 0.9994 - mae: 1.3847e-04\n",
      "Epoch 16/20\n",
      "625/625 [==============================] - 32s 52ms/step - loss: 0.0041 - accuracy: 0.9992 - mae: 1.4766e-04\n",
      "Epoch 17/20\n",
      "625/625 [==============================] - 33s 52ms/step - loss: 0.0054 - accuracy: 0.9990 - mae: 1.9887e-04\n",
      "Epoch 18/20\n",
      "625/625 [==============================] - 33s 52ms/step - loss: 0.0033 - accuracy: 0.9993 - mae: 1.5279e-04\n",
      "Epoch 19/20\n",
      "625/625 [==============================] - 33s 53ms/step - loss: 0.0042 - accuracy: 0.9993 - mae: 1.5424e-04\n",
      "Epoch 20/20\n",
      "625/625 [==============================] - 33s 53ms/step - loss: 0.0057 - accuracy: 0.9990 - mae: 1.9386e-04\n",
      "625/625 [==============================] - 3s 4ms/step - loss: 97.6995 - accuracy: 0.1017 - mae: 0.1797\n"
     ]
    }
   ],
   "source": [
    "# Fit model\n",
    "DNN_accuracy = []\n",
    "\n",
    "for i in range(num_iterations):\n",
    "\n",
    "    DNN_model.fit(train_images, \n",
    "              train_labels, \n",
    "              epochs = num_epochs, \n",
    "              batch_size = 64)\n",
    "    \n",
    "    # Print loss, mae and accuracy\n",
    "    DNN_eval_model = DNN_model.evaluate(val_images, val_labels)\n",
    "    DNN_accuracy.append(DNN_eval_model[1])"
   ]
  },
  {
   "cell_type": "code",
   "execution_count": 18,
   "metadata": {},
   "outputs": [
    {
     "name": "stdout",
     "output_type": "stream",
     "text": [
      "625/625 [==============================] - 3s 4ms/step - loss: 97.6995 - accuracy: 0.1017 - mae: 0.1797\n"
     ]
    },
    {
     "data": {
      "text/plain": [
       "[97.6994857788086, 0.10170000046491623, 0.17965711653232574]"
      ]
     },
     "execution_count": 18,
     "metadata": {},
     "output_type": "execute_result"
    }
   ],
   "source": [
    "# Print loss, mae and accuracy\n",
    "DNN_eval_model = DNN_model.evaluate(val_images, val_labels)\n",
    "DNN_eval_model"
   ]
  },
  {
   "cell_type": "code",
   "execution_count": 19,
   "metadata": {},
   "outputs": [],
   "source": [
    "# Interesting that the DNN is slightly better than the CNN at this task"
   ]
  },
  {
   "cell_type": "code",
   "execution_count": 21,
   "metadata": {},
   "outputs": [
    {
     "data": {
      "text/plain": [
       "<BarContainer object of 2 artists>"
      ]
     },
     "execution_count": 21,
     "metadata": {},
     "output_type": "execute_result"
    },
    {
     "data": {
      "image/png": "[encoded data removed]",
      "text/plain": [
       "<Figure size 432x288 with 1 Axes>"
      ]
     },
     "metadata": {
      "needs_background": "light"
     },
     "output_type": "display_data"
    }
   ],
   "source": [
    "# PLotting\n",
    "plt.title('Comparing validation accuracy between DNN and CNN')\n",
    "plt.bar(['DNN','CNN'], [DNN_eval_model[1],CNN_eval_model[1]])"
   ]
  },
  {
   "cell_type": "code",
   "execution_count": null,
   "metadata": {},
   "outputs": [],
   "source": []
  }
 ],
 "metadata": {
  "kernelspec": {
   "display_name": "general_ML",
   "language": "python",
   "name": "general_ml"
  },
  "language_info": {
   "codemirror_mode": {
    "name": "ipython",
    "version": 3
   },
   "file_extension": ".py",
   "mimetype": "text/x-python",
   "name": "python",
   "nbconvert_exporter": "python",
   "pygments_lexer": "ipython3",
   "version": "3.9.2"
  }
 },
 "nbformat": 4,
 "nbformat_minor": 4
}
