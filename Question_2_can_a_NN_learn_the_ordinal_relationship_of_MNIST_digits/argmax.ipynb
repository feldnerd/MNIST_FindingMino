{
 "cells": [
  {
   "cell_type": "code",
   "execution_count": 10,
   "metadata": {},
   "outputs": [],
   "source": [
    "import numpy as np\n",
    "# from keras.models import Model\n",
    "# from keras.layers import Input, Dense, Dropout\n",
    "# from keras.utils import to_categorical\n",
    "from sklearn.model_selection import train_test_split\n",
    "# from keras.callbacks import EarlyStopping\n",
    "\n",
    "from keras.utils.np_utils import to_categorical\n",
    "import tensorflow as tf\n",
    "from tensorflow import keras\n",
    "from tensorflow.keras import layers\n",
    "from tensorflow.keras.models import Sequential, load_model\n",
    "from keras.datasets import mnist\n",
    "import itertools\n",
    "import random\n",
    "\n",
    "# Create an input array of 50,000 samples of 20 random numbers each\n",
    "x = np.random.randint(0, 100, size=(50000, 10))\n",
    "\n",
    "# And a one-hot encoded target denoting the index of the maximum of the inputs\n",
    "y = to_categorical(np.argmax(x, axis=1), num_classes=10)\n",
    "\n",
    "# Split into training and testing datasets\n",
    "x_train, x_test, y_train, y_test = train_test_split(x, y)\n",
    "\n"
   ]
  },
  {
   "cell_type": "code",
   "execution_count": 11,
   "metadata": {},
   "outputs": [
    {
     "data": {
      "text/plain": [
       "(37500, 10)"
      ]
     },
     "execution_count": 11,
     "metadata": {},
     "output_type": "execute_result"
    }
   ],
   "source": [
    "x_train.shape"
   ]
  },
  {
   "cell_type": "code",
   "execution_count": 12,
   "metadata": {},
   "outputs": [
    {
     "data": {
      "text/plain": [
       "(37500, 10)"
      ]
     },
     "execution_count": 12,
     "metadata": {},
     "output_type": "execute_result"
    }
   ],
   "source": [
    "y_train.shape"
   ]
  },
  {
   "cell_type": "code",
   "execution_count": 16,
   "metadata": {},
   "outputs": [
    {
     "name": "stdout",
     "output_type": "stream",
     "text": [
      "Epoch 1/30\n",
      "4688/4688 [==============================] - 3s 576us/step - loss: 0.9133 - accuracy: 0.7573 - mae: 0.0513\n",
      "Epoch 2/30\n",
      "4688/4688 [==============================] - 3s 555us/step - loss: 0.6315 - accuracy: 0.8202 - mae: 0.0381\n",
      "Epoch 3/30\n",
      "4688/4688 [==============================] - 3s 559us/step - loss: 0.5892 - accuracy: 0.8377 - mae: 0.0345\n",
      "Epoch 4/30\n",
      "4688/4688 [==============================] - 2s 521us/step - loss: 0.5901 - accuracy: 0.8456 - mae: 0.0327\n",
      "Epoch 5/30\n",
      "4688/4688 [==============================] - 2s 511us/step - loss: 0.5768 - accuracy: 0.8526 - mae: 0.0310\n",
      "Epoch 6/30\n",
      "4688/4688 [==============================] - 2s 505us/step - loss: 0.5566 - accuracy: 0.8573 - mae: 0.0298\n",
      "Epoch 7/30\n",
      "4688/4688 [==============================] - 2s 523us/step - loss: 0.5599 - accuracy: 0.8648 - mae: 0.0283\n",
      "Epoch 8/30\n",
      "4688/4688 [==============================] - 3s 558us/step - loss: 0.5483 - accuracy: 0.8668 - mae: 0.0276\n",
      "Epoch 9/30\n",
      "4688/4688 [==============================] - 3s 562us/step - loss: 0.5464 - accuracy: 0.8742 - mae: 0.0262\n",
      "Epoch 10/30\n",
      "4688/4688 [==============================] - 3s 576us/step - loss: 0.5202 - accuracy: 0.8790 - mae: 0.0253\n",
      "Epoch 11/30\n",
      "4688/4688 [==============================] - 3s 539us/step - loss: 0.5288 - accuracy: 0.8808 - mae: 0.0248\n",
      "Epoch 12/30\n",
      "4688/4688 [==============================] - 2s 525us/step - loss: 0.5157 - accuracy: 0.8839 - mae: 0.0242\n",
      "Epoch 13/30\n",
      "4688/4688 [==============================] - 3s 605us/step - loss: 0.5187 - accuracy: 0.8838 - mae: 0.0240\n",
      "Epoch 14/30\n",
      "4688/4688 [==============================] - 3s 554us/step - loss: 0.5088 - accuracy: 0.8892 - mae: 0.0230\n",
      "Epoch 15/30\n",
      "4688/4688 [==============================] - 2s 518us/step - loss: 0.5035 - accuracy: 0.8897 - mae: 0.0228\n",
      "Epoch 16/30\n",
      "4688/4688 [==============================] - 2s 520us/step - loss: 0.4717 - accuracy: 0.8946 - mae: 0.0220\n",
      "Epoch 17/30\n",
      "4688/4688 [==============================] - 3s 534us/step - loss: 0.4765 - accuracy: 0.8949 - mae: 0.0217\n",
      "Epoch 18/30\n",
      "4688/4688 [==============================] - 2s 514us/step - loss: 0.4519 - accuracy: 0.8982 - mae: 0.0211\n",
      "Epoch 19/30\n",
      "4688/4688 [==============================] - 2s 509us/step - loss: 0.4461 - accuracy: 0.9031 - mae: 0.0202\n",
      "Epoch 20/30\n",
      "4688/4688 [==============================] - 2s 509us/step - loss: 0.4461 - accuracy: 0.9021 - mae: 0.0204\n",
      "Epoch 21/30\n",
      "4688/4688 [==============================] - 2s 512us/step - loss: 0.4300 - accuracy: 0.9046 - mae: 0.0197\n",
      "Epoch 22/30\n",
      "4688/4688 [==============================] - 2s 506us/step - loss: 0.4380 - accuracy: 0.9041 - mae: 0.0198\n",
      "Epoch 23/30\n",
      "4688/4688 [==============================] - 2s 522us/step - loss: 0.4291 - accuracy: 0.9080 - mae: 0.0191\n",
      "Epoch 24/30\n",
      "4688/4688 [==============================] - 2s 510us/step - loss: 0.4292 - accuracy: 0.9090 - mae: 0.0189\n",
      "Epoch 25/30\n",
      "4688/4688 [==============================] - 2s 526us/step - loss: 0.4259 - accuracy: 0.9106 - mae: 0.0185\n",
      "Epoch 26/30\n",
      "4688/4688 [==============================] - 3s 652us/step - loss: 0.4074 - accuracy: 0.9123 - mae: 0.0181\n",
      "Epoch 27/30\n",
      "4688/4688 [==============================] - 4s 825us/step - loss: 0.4074 - accuracy: 0.9141 - mae: 0.0178\n",
      "Epoch 28/30\n",
      "4688/4688 [==============================] - 5s 1ms/step - loss: 0.3841 - accuracy: 0.9164 - mae: 0.0174\n",
      "Epoch 29/30\n",
      "4688/4688 [==============================] - 5s 996us/step - loss: 0.3782 - accuracy: 0.9167 - mae: 0.0173\n",
      "Epoch 30/30\n",
      "4688/4688 [==============================] - 3s 735us/step - loss: 0.3860 - accuracy: 0.9178 - mae: 0.0171\n",
      "0.91104\n"
     ]
    }
   ],
   "source": [
    "# Build a network, probaly needlessly complicated since it needs a lot of dropout to\n",
    "# perform even reasonably well.\n",
    "\n",
    "# i = layers.Input(shape=(20, ))\n",
    "# a = layers.Dense(1024, activation='relu')(i)\n",
    "# b = layers.Dense(512, activation='relu')(a)\n",
    "# ba = layers.Dropout(0.3)(b)\n",
    "# c = layers.Dense(256, activation='relu')(ba)\n",
    "# d = layers.Dense(128, activation='relu')(c)\n",
    "# o = layers.Dense(20, activation='softmax')(d)\n",
    "\n",
    "# Convolutional NN\n",
    "model = tf.keras.Sequential()\n",
    "model.add(layers.Dense(512, activation = 'relu', input_shape=(10,)))\n",
    "model.add(layers.Dense(10, activation='softmax'))\n",
    "\n",
    "\n",
    "\n",
    "# model = Model(inputs=i, outputs=o)\n",
    "\n",
    "# es = EarlyStopping(monitor='val_loss', patience=3)\n",
    "\n",
    "model.compile(optimizer='rmsprop', loss='categorical_crossentropy', metrics = ['accuracy', 'mae'])\n",
    "\n",
    "model.fit(x_train, y_train, epochs=30, batch_size=8)\n",
    "\n",
    "print(np.where(np.argmax(model.predict(x_test), axis=1) == np.argmax(y_test, axis=1), 1, 0).mean())"
   ]
  },
  {
   "cell_type": "code",
   "execution_count": 17,
   "metadata": {},
   "outputs": [
    {
     "name": "stdout",
     "output_type": "stream",
     "text": [
      "391/391 [==============================] - 0s 460us/step - loss: 0.4060 - accuracy: 0.9110 - mae: 0.0182\n"
     ]
    }
   ],
   "source": [
    "eval_model = model.evaluate(x_test, y_test)"
   ]
  },
  {
   "cell_type": "code",
   "execution_count": 48,
   "metadata": {},
   "outputs": [],
   "source": [
    "list_A = []\n",
    "list_B = []\n",
    "list_2D = []\n",
    "\n",
    "list_label = []\n",
    "\n",
    "num_iterations = 50000\n",
    "\n",
    "for i in range(num_iterations):\n",
    "    \n",
    "    num_A = random.randint(0,9)\n",
    "    num_B = random.randint(0,9)\n",
    "    \n",
    "    list_2D.append([min(num_A,num_B), max(num_A,num_B)])\n",
    "    \n",
    "    label = min(num_A,num_B)\n",
    "    list_label.append(label)\n",
    "    "
   ]
  },
  {
   "cell_type": "code",
   "execution_count": 76,
   "metadata": {},
   "outputs": [],
   "source": [
    "val_list_A = []\n",
    "val_list_B = []\n",
    "val_list_2D = []\n",
    "\n",
    "val_list_label = []\n",
    "\n",
    "num_iterations = 50000\n",
    "\n",
    "for i in range(num_iterations):\n",
    "    \n",
    "    num_A = random.randint(0,9)\n",
    "    num_B = random.randint(0,9)\n",
    "    \n",
    "    val_list_2D.append([max(num_A,num_B), min(num_A,num_B)])\n",
    "    \n",
    "    label = min(num_A,num_B)\n",
    "    val_list_label.append(label)"
   ]
  },
  {
   "cell_type": "code",
   "execution_count": 78,
   "metadata": {},
   "outputs": [
    {
     "data": {
      "text/plain": [
       "(50000, 2)"
      ]
     },
     "execution_count": 78,
     "metadata": {},
     "output_type": "execute_result"
    }
   ],
   "source": [
    "val_list_2D.shape"
   ]
  },
  {
   "cell_type": "code",
   "execution_count": 49,
   "metadata": {},
   "outputs": [
    {
     "data": {
      "text/plain": [
       "[0, 4, 0, 3, 0]"
      ]
     },
     "execution_count": 49,
     "metadata": {},
     "output_type": "execute_result"
    }
   ],
   "source": [
    "list_label[:5]"
   ]
  },
  {
   "cell_type": "code",
   "execution_count": null,
   "metadata": {},
   "outputs": [],
   "source": [
    "list_2D"
   ]
  },
  {
   "cell_type": "code",
   "execution_count": 75,
   "metadata": {},
   "outputs": [
    {
     "data": {
      "text/plain": [
       "(50000, 2)"
      ]
     },
     "execution_count": 75,
     "metadata": {},
     "output_type": "execute_result"
    }
   ],
   "source": [
    "list_2D.shape"
   ]
  },
  {
   "cell_type": "code",
   "execution_count": 51,
   "metadata": {},
   "outputs": [
    {
     "data": {
      "text/plain": [
       "array([0, 1, 2, 3, 4, 5, 6, 7, 8, 9])"
      ]
     },
     "execution_count": 51,
     "metadata": {},
     "output_type": "execute_result"
    }
   ],
   "source": [
    "np.unique(list_label)"
   ]
  },
  {
   "cell_type": "code",
   "execution_count": 52,
   "metadata": {},
   "outputs": [
    {
     "data": {
      "text/plain": [
       "array([0, 1, 2, 3, 4, 5, 6, 7, 8, 9])"
      ]
     },
     "execution_count": 52,
     "metadata": {},
     "output_type": "execute_result"
    }
   ],
   "source": [
    "np.unique(list_label)"
   ]
  },
  {
   "cell_type": "code",
   "execution_count": 77,
   "metadata": {},
   "outputs": [],
   "source": [
    "list_2D = np.array(list_2D)\n",
    "list_label = to_categorical(np.array(list_label))\n",
    "\n",
    "val_list_2D = np.array(val_list_2D)\n",
    "val_list_label = to_categorical(np.array(val_list_label))"
   ]
  },
  {
   "cell_type": "code",
   "execution_count": 67,
   "metadata": {},
   "outputs": [
    {
     "data": {
      "text/plain": [
       "(50000, 2, 10)"
      ]
     },
     "execution_count": 67,
     "metadata": {},
     "output_type": "execute_result"
    }
   ],
   "source": [
    "val_list_2D.shape"
   ]
  },
  {
   "cell_type": "code",
   "execution_count": 69,
   "metadata": {},
   "outputs": [
    {
     "data": {
      "text/plain": [
       "(50000, 10)"
      ]
     },
     "execution_count": 69,
     "metadata": {},
     "output_type": "execute_result"
    }
   ],
   "source": [
    "val_list_label.shape"
   ]
  },
  {
   "cell_type": "code",
   "execution_count": 72,
   "metadata": {},
   "outputs": [
    {
     "data": {
      "text/plain": [
       "array([[0., 1., 0., 0., 0., 0., 0., 0., 0., 0.],\n",
       "       [0., 0., 0., 0., 1., 0., 0., 0., 0., 0.],\n",
       "       [1., 0., 0., 0., 0., 0., 0., 0., 0., 0.],\n",
       "       [0., 0., 0., 0., 1., 0., 0., 0., 0., 0.],\n",
       "       [0., 0., 1., 0., 0., 0., 0., 0., 0., 0.]])"
      ]
     },
     "execution_count": 72,
     "metadata": {},
     "output_type": "execute_result"
    }
   ],
   "source": [
    "val_list_label[:5]"
   ]
  },
  {
   "cell_type": "code",
   "execution_count": 73,
   "metadata": {},
   "outputs": [
    {
     "data": {
      "text/plain": [
       "(50000, 2, 10)"
      ]
     },
     "execution_count": 73,
     "metadata": {},
     "output_type": "execute_result"
    }
   ],
   "source": [
    "val_list_2D.shape"
   ]
  },
  {
   "cell_type": "code",
   "execution_count": 54,
   "metadata": {},
   "outputs": [
    {
     "data": {
      "text/plain": [
       "array([[1., 0., 0., 0., 0., 0., 0., 0., 0., 0.],\n",
       "       [0., 0., 0., 0., 1., 0., 0., 0., 0., 0.],\n",
       "       [1., 0., 0., 0., 0., 0., 0., 0., 0., 0.],\n",
       "       [0., 0., 0., 1., 0., 0., 0., 0., 0., 0.],\n",
       "       [1., 0., 0., 0., 0., 0., 0., 0., 0., 0.]])"
      ]
     },
     "execution_count": 54,
     "metadata": {},
     "output_type": "execute_result"
    }
   ],
   "source": [
    "list_label[:5]"
   ]
  },
  {
   "cell_type": "code",
   "execution_count": 55,
   "metadata": {},
   "outputs": [
    {
     "data": {
      "text/plain": [
       "array([[0, 8],\n",
       "       [4, 5],\n",
       "       [0, 8],\n",
       "       [3, 8],\n",
       "       [0, 0]])"
      ]
     },
     "execution_count": 55,
     "metadata": {},
     "output_type": "execute_result"
    }
   ],
   "source": [
    "list_2D[:5]"
   ]
  },
  {
   "cell_type": "code",
   "execution_count": null,
   "metadata": {},
   "outputs": [],
   "source": [
    "model = tf.keras.Sequential()\n",
    "model.add(layers.Dense(512, activation = 'relu', input_shape=(2,)))\n",
    "model.add(layers.Dense(10, activation='softmax'))\n",
    "\n",
    "model.compile(optimizer='rmsprop', loss='categorical_crossentropy', metrics = ['accuracy', 'mae'])\n",
    "\n",
    "model.fit(list_2D, list_label, epochs=4, batch_size=1)\n",
    "\n",
    "#print(np.where(np.argmax(model.predict(x_test), axis=1) == np.argmax(y_test, axis=1), 1, 0).mean())"
   ]
  },
  {
   "cell_type": "code",
   "execution_count": 79,
   "metadata": {},
   "outputs": [
    {
     "name": "stdout",
     "output_type": "stream",
     "text": [
      "1563/1563 [==============================] - 1s 639us/step - loss: 158.2463 - accuracy: 0.0974 - mae: 0.1805\n"
     ]
    }
   ],
   "source": [
    "eval_model = model.evaluate(val_list_2D, val_list_label)"
   ]
  },
  {
   "cell_type": "code",
   "execution_count": null,
   "metadata": {},
   "outputs": [],
   "source": []
  },
  {
   "cell_type": "code",
   "execution_count": null,
   "metadata": {},
   "outputs": [],
   "source": []
  }
 ],
 "metadata": {
  "kernelspec": {
   "display_name": "general_ML",
   "language": "python",
   "name": "general_ml"
  },
  "language_info": {
   "codemirror_mode": {
    "name": "ipython",
    "version": 3
   },
   "file_extension": ".py",
   "mimetype": "text/x-python",
   "name": "python",
   "nbconvert_exporter": "python",
   "pygments_lexer": "ipython3",
   "version": "3.9.2"
  }
 },
 "nbformat": 4,
 "nbformat_minor": 4
}
