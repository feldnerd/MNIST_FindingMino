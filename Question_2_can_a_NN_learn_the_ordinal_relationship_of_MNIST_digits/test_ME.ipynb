{
 "cells": [
  {
   "cell_type": "code",
   "execution_count": 9,
   "metadata": {},
   "outputs": [],
   "source": [
    "import matplotlib.pyplot as plt\n",
    "import itertools\n",
    "import numpy as np\n",
    "import pandas as pd\n",
    "from keras.utils.np_utils import to_categorical\n",
    "import tensorflow as tf\n",
    "from tensorflow import keras\n",
    "from tensorflow.keras import layers\n",
    "from tensorflow.keras.models import Sequential, load_model\n",
    "from keras.datasets import mnist\n",
    "import itertools\n",
    "import random\n",
    "\n",
    "import sys\n",
    "sys.path.append('../')\n",
    "from Core_Functions import multi_hot_encoding\n",
    "from sklearn.model_selection import train_test_split"
   ]
  },
  {
   "cell_type": "code",
   "execution_count": 11,
   "metadata": {},
   "outputs": [],
   "source": [
    "# Randomly select a defined number of image paires from a given dataset\n",
    "def get_left_min_image_combinations(number_image_pairs_selected, image_data, image_labels):\n",
    "    \n",
    "    num_images_total = len(image_labels)\n",
    "    \n",
    "    image_combination_data = []\n",
    "    image_combination_labels = []\n",
    "    \n",
    "    for i in range(number_image_pairs_selected):\n",
    "        \n",
    "        # Draw two image indices from a uniform random distribution\n",
    "        random_index_A = random.randint(0, num_images_total-1)\n",
    "        random_index_B = random.randint(0, num_images_total-1)\n",
    "        \n",
    "        # Randomly choose two images from the dataset\n",
    "        image_A = image_data[random_index_A]\n",
    "        image_B = image_data[random_index_B]\n",
    "        \n",
    "        # Merge images TODO: this could be a function with several options\n",
    "        combined_images = np.hstack((image_A, image_B))\n",
    "        \n",
    "        # Find the minimum between the two labels\n",
    "        label_A = image_labels[random_index_A]\n",
    "        label_B = image_labels[random_index_B]\n",
    "        minimum_label = min(label_A, label_B)\n",
    "        \n",
    "        if label_A < label_B:\n",
    "            # Merge images TODO: this could be a function with several options\n",
    "            combined_images = np.hstack((image_A, image_B))\n",
    "            image_combination_data.append(combined_images)\n",
    "            image_combination_labels.append([min(label_A, label_B), max(label_A,label_B)])\n",
    "        elif label_A > label_B: \n",
    "            # Merge images TODO: this could be a function with several options\n",
    "            combined_images = np.hstack((image_B, image_A))\n",
    "            image_combination_data.append(combined_images)\n",
    "            image_combination_labels.append([min(label_A, label_B), max(label_A,label_B)])\n",
    "        # Here we want to exclude the images where they are the same on both sides\n",
    "\n",
    "        \n",
    "        \n",
    "    # Convert image data and labels lists to numpy arrays\n",
    "    image_combination_data = np.array(image_combination_data)\n",
    "    image_combination_labels = np.array(image_combination_labels)\n",
    "    \n",
    "    return image_combination_data, image_combination_labels"
   ]
  },
  {
   "cell_type": "code",
   "execution_count": 12,
   "metadata": {},
   "outputs": [],
   "source": [
    "# Randomly select a defined number of image paires from a given dataset\n",
    "def get_right_min_image_combinations(number_image_pairs_selected, image_data, image_labels):\n",
    "    \n",
    "    num_images_total = len(image_labels)\n",
    "    \n",
    "    image_combination_data = []\n",
    "    image_combination_labels = []\n",
    "    \n",
    "    for i in range(number_image_pairs_selected):\n",
    "        \n",
    "        # Draw two image indices from a uniform random distribution\n",
    "        random_index_A = random.randint(0, num_images_total-1)\n",
    "        random_index_B = random.randint(0, num_images_total-1)\n",
    "        \n",
    "        # Randomly choose two images from the dataset\n",
    "        image_A = image_data[random_index_A]\n",
    "        image_B = image_data[random_index_B]\n",
    "        \n",
    "        # Merge images TODO: this could be a function with several options\n",
    "        combined_images = np.hstack((image_A, image_B))\n",
    "        \n",
    "        # Find the minimum between the two labels\n",
    "        label_A = image_labels[random_index_A]\n",
    "        label_B = image_labels[random_index_B]\n",
    "        minimum_label = min(label_A, label_B)\n",
    "        \n",
    "        if label_A < label_B:\n",
    "            # Merge images TODO: this could be a function with several options\n",
    "            combined_images = np.hstack((image_B, image_A))\n",
    "            # Append newly generated image combination and minimum label to list\n",
    "            image_combination_data.append(combined_images)\n",
    "            image_combination_labels.append([min(label_A, label_B), max(label_A,label_B)])\n",
    "        elif label_A > label_B: \n",
    "            # Merge images TODO: this could be a function with several options\n",
    "            combined_images = np.hstack((image_A, image_B))\n",
    "            # Here we want to exclude the images where they are the same on both sides\n",
    "            # Append newly generated image combination and minimum label to list\n",
    "            image_combination_data.append(combined_images)\n",
    "            image_combination_labels.append([min(label_A, label_B), max(label_A,label_B)])\n",
    "            \n",
    "\n",
    "        \n",
    "        \n",
    "    # Convert image data and labels lists to numpy arrays\n",
    "    image_combination_data = np.array(image_combination_data)\n",
    "    image_combination_labels = np.array(image_combination_labels)\n",
    "    \n",
    "    return image_combination_data, image_combination_labels"
   ]
  },
  {
   "cell_type": "code",
   "execution_count": 13,
   "metadata": {},
   "outputs": [],
   "source": [
    "# Load data and split into training and test\n",
    "(train_images, train_labels), (test_images, test_labels) = mnist.load_data()"
   ]
  },
  {
   "cell_type": "code",
   "execution_count": 14,
   "metadata": {},
   "outputs": [],
   "source": [
    "# Split training set further into training and validation sets\n",
    "sample_size = 40000\n",
    "X_train, X_val, y_train, y_val = train_images[:sample_size], train_images[sample_size:sample_size*2],  train_labels[:sample_size], train_labels[sample_size:sample_size*2]"
   ]
  },
  {
   "cell_type": "code",
   "execution_count": 15,
   "metadata": {},
   "outputs": [],
   "source": [
    "combo_train_X, combo_train_y = get_left_min_image_combinations(40000, X_train, y_train)\n",
    "combo_val_X, combo_val_y = get_right_min_image_combinations(20000, X_val, y_val)"
   ]
  },
  {
   "cell_type": "code",
   "execution_count": 16,
   "metadata": {},
   "outputs": [],
   "source": [
    "# Reshape the data so they can be fed into the network, one-hot-encode the labels\n",
    "\n",
    "train_images = combo_train_X.reshape((combo_train_X.shape[0], 28* 56))\n",
    "train_images = train_images/ 255\n",
    "\n",
    "val_images = combo_val_X.reshape((combo_val_X.shape[0], 28* 56))\n",
    "val_images = val_images/255\n"
   ]
  },
  {
   "cell_type": "code",
   "execution_count": 19,
   "metadata": {},
   "outputs": [
    {
     "data": {
      "text/plain": [
       "(35860, 2)"
      ]
     },
     "execution_count": 19,
     "metadata": {},
     "output_type": "execute_result"
    }
   ],
   "source": [
    "combo_train_y.shape"
   ]
  },
  {
   "cell_type": "code",
   "execution_count": 20,
   "metadata": {},
   "outputs": [],
   "source": [
    "# Here instead of using to_categorical, I use my custom multi-hot encoding\n",
    "\"\"\"\n",
    "train_labels = to_categorical(combo_train_y)\n",
    "val_labels = to_categorical(combo_val_y)\n",
    "\"\"\"\n",
    "\n",
    "train_labels = np.array(multi_hot_encoding.multi_hot_encode(combo_train_y))\n",
    "val_labels =  np.array(multi_hot_encoding.multi_hot_encode(combo_val_y))"
   ]
  },
  {
   "cell_type": "code",
   "execution_count": 21,
   "metadata": {},
   "outputs": [],
   "source": [
    "# Experiment parameters\n",
    "\n",
    "num_epochs = 5\n",
    "num_iterations = 5"
   ]
  },
  {
   "cell_type": "code",
   "execution_count": 22,
   "metadata": {},
   "outputs": [],
   "source": [
    "# Model architecture\n",
    "def build_DNN():\n",
    "\n",
    "    inputs = keras.Input(shape=(28* 56,))\n",
    "\n",
    "    dense = layers.Dense(512, activation=\"relu\")\n",
    "    x = dense(inputs)\n",
    "\n",
    "    outputs = layers.Dense(10, \"sigmoid\")(x)\n",
    "    \n",
    "    model = keras.Model(inputs = inputs,\n",
    "                       outputs = outputs)\n",
    "\n",
    "    model.compile(\n",
    "        loss=keras.losses.BinaryCrossentropy(),\n",
    "        optimizer=keras.optimizers.RMSprop(),\n",
    "        metrics=[\"accuracy\", \"mae\"],\n",
    "    )\n",
    "\n",
    "    return model"
   ]
  },
  {
   "cell_type": "code",
   "execution_count": 23,
   "metadata": {},
   "outputs": [
    {
     "name": "stdout",
     "output_type": "stream",
     "text": [
      "Model: \"model\"\n",
      "_________________________________________________________________\n",
      "Layer (type)                 Output Shape              Param #   \n",
      "=================================================================\n",
      "input_1 (InputLayer)         [(None, 1568)]            0         \n",
      "_________________________________________________________________\n",
      "dense (Dense)                (None, 512)               803328    \n",
      "_________________________________________________________________\n",
      "dense_1 (Dense)              (None, 10)                5130      \n",
      "=================================================================\n",
      "Total params: 808,458\n",
      "Trainable params: 808,458\n",
      "Non-trainable params: 0\n",
      "_________________________________________________________________\n"
     ]
    }
   ],
   "source": [
    "DNN_model = build_DNN()\n",
    "DNN_model.summary()"
   ]
  },
  {
   "cell_type": "code",
   "execution_count": 29,
   "metadata": {},
   "outputs": [
    {
     "name": "stdout",
     "output_type": "stream",
     "text": [
      "Epoch 1/20\n",
      "561/561 [==============================] - 2s 3ms/step - loss: 0.0010 - accuracy: 0.7898 - mae: 7.8863e-04\n",
      "Epoch 2/20\n",
      "561/561 [==============================] - 2s 3ms/step - loss: 7.0391e-04 - accuracy: 0.8092 - mae: 5.9451e-04\n",
      "Epoch 3/20\n",
      "561/561 [==============================] - 2s 3ms/step - loss: 6.3012e-04 - accuracy: 0.8269 - mae: 4.9290e-04\n",
      "Epoch 4/20\n",
      "561/561 [==============================] - 2s 3ms/step - loss: 5.4167e-04 - accuracy: 0.8422 - mae: 4.2201e-04\n",
      "Epoch 5/20\n",
      "561/561 [==============================] - 2s 3ms/step - loss: 4.2228e-04 - accuracy: 0.8558 - mae: 3.1217e-04\n",
      "Epoch 6/20\n",
      "561/561 [==============================] - 2s 3ms/step - loss: 2.8965e-04 - accuracy: 0.8622 - mae: 2.3778e-04\n",
      "Epoch 7/20\n",
      "561/561 [==============================] - 2s 3ms/step - loss: 2.4193e-04 - accuracy: 0.8781 - mae: 1.8670e-04\n",
      "Epoch 8/20\n",
      "561/561 [==============================] - 2s 3ms/step - loss: 1.7309e-04 - accuracy: 0.8855 - mae: 1.4311e-04\n",
      "Epoch 9/20\n",
      "561/561 [==============================] - 2s 3ms/step - loss: 2.0503e-04 - accuracy: 0.8969 - mae: 1.3667e-04\n",
      "Epoch 10/20\n",
      "561/561 [==============================] - 2s 3ms/step - loss: 1.3211e-04 - accuracy: 0.9033 - mae: 9.8851e-05\n",
      "Epoch 11/20\n",
      "561/561 [==============================] - 2s 3ms/step - loss: 9.2099e-05 - accuracy: 0.9088 - mae: 7.7722e-05\n",
      "Epoch 12/20\n",
      "561/561 [==============================] - 2s 3ms/step - loss: 7.4526e-05 - accuracy: 0.9134 - mae: 5.9210e-05\n",
      "Epoch 13/20\n",
      "561/561 [==============================] - 2s 3ms/step - loss: 6.0819e-05 - accuracy: 0.9221 - mae: 4.5521e-05\n",
      "Epoch 14/20\n",
      "561/561 [==============================] - 2s 3ms/step - loss: 5.0497e-05 - accuracy: 0.9263 - mae: 3.8163e-05\n",
      "Epoch 15/20\n",
      "561/561 [==============================] - 2s 3ms/step - loss: 3.0778e-05 - accuracy: 0.9303 - mae: 2.8205e-05\n",
      "Epoch 16/20\n",
      "561/561 [==============================] - 2s 3ms/step - loss: 2.8026e-05 - accuracy: 0.9367 - mae: 2.3857e-05\n",
      "Epoch 17/20\n",
      "561/561 [==============================] - 2s 3ms/step - loss: 4.5784e-05 - accuracy: 0.9427 - mae: 2.2862e-05\n",
      "Epoch 18/20\n",
      "561/561 [==============================] - 2s 3ms/step - loss: 9.1620e-06 - accuracy: 0.9452 - mae: 8.6981e-06\n",
      "Epoch 19/20\n",
      "561/561 [==============================] - 2s 3ms/step - loss: 8.1826e-06 - accuracy: 0.9523 - mae: 7.5445e-06\n",
      "Epoch 20/20\n",
      "561/561 [==============================] - 2s 3ms/step - loss: 5.8961e-06 - accuracy: 0.9559 - mae: 5.5200e-06\n"
     ]
    },
    {
     "data": {
      "text/plain": [
       "<tensorflow.python.keras.callbacks.History at 0x16fb34820>"
      ]
     },
     "execution_count": 29,
     "metadata": {},
     "output_type": "execute_result"
    }
   ],
   "source": [
    "\n",
    "\n",
    "DNN_model.fit(train_images, \n",
    "          train_labels, \n",
    "          epochs = 20, \n",
    "          batch_size = 64)\n",
    "\n"
   ]
  },
  {
   "cell_type": "code",
   "execution_count": 30,
   "metadata": {},
   "outputs": [
    {
     "name": "stdout",
     "output_type": "stream",
     "text": [
      "565/565 [==============================] - 1s 1ms/step - loss: 23.4337 - accuracy: 0.0037 - mae: 0.4577\n"
     ]
    },
    {
     "data": {
      "text/plain": [
       "[23.433746337890625, 0.0037121169734746218, 0.457720011472702]"
      ]
     },
     "execution_count": 30,
     "metadata": {},
     "output_type": "execute_result"
    }
   ],
   "source": [
    "# Print loss, mae and accuracy\n",
    "DNN_eval_model = DNN_model.evaluate(val_images, val_labels)\n",
    "DNN_eval_model"
   ]
  },
  {
   "cell_type": "code",
   "execution_count": 18,
   "metadata": {},
   "outputs": [],
   "source": [
    "# Interesting that the DNN is slightly better than the CNN at this task"
   ]
  },
  {
   "cell_type": "code",
   "execution_count": 29,
   "metadata": {},
   "outputs": [
    {
     "data": {
      "text/plain": [
       "<BarContainer object of 2 artists>"
      ]
     },
     "execution_count": 29,
     "metadata": {},
     "output_type": "execute_result"
    },
    {
     "data": {
      "image/png": "[encoded data removed]",
      "text/plain": [
       "<Figure size 432x288 with 1 Axes>"
      ]
     },
     "metadata": {
      "needs_background": "light"
     },
     "output_type": "display_data"
    }
   ],
   "source": [
    "# PLotting\n",
    "plt.title('Comparing validation accuracy between DNN and CNN')\n",
    "plt.bar(['DNN','CNN'], [DNN_eval_model[1],CNN_eval_model[1]])"
   ]
  },
  {
   "cell_type": "code",
   "execution_count": null,
   "metadata": {},
   "outputs": [],
   "source": []
  }
 ],
 "metadata": {
  "kernelspec": {
   "display_name": "general_ML",
   "language": "python",
   "name": "general_ml"
  },
  "language_info": {
   "codemirror_mode": {
    "name": "ipython",
    "version": 3
   },
   "file_extension": ".py",
   "mimetype": "text/x-python",
   "name": "python",
   "nbconvert_exporter": "python",
   "pygments_lexer": "ipython3",
   "version": "3.9.2"
  }
 },
 "nbformat": 4,
 "nbformat_minor": 4
}
