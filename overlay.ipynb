{
 "cells": [
  {
   "cell_type": "code",
   "execution_count": 1,
   "metadata": {},
   "outputs": [
    {
     "name": "stderr",
     "output_type": "stream",
     "text": [
      "Using TensorFlow backend.\n"
     ]
    }
   ],
   "source": [
    "from sklearn.datasets import fetch_openml\n",
    "import matplotlib.pyplot as plt\n",
    "import itertools\n",
    "import numpy as np\n",
    "import pandas as pd\n",
    "from keras.utils.np_utils import to_categorical\n",
    "import tensorflow as tf\n",
    "from tensorflow import keras\n",
    "from tensorflow.keras import layers\n",
    "from tensorflow.keras.models import Sequential, load_model\n",
    "from keras.datasets import mnist\n",
    "import itertools\n",
    "import random\n",
    "random.seed(42)\n",
    "plt.style.use('dark_background')"
   ]
  },
  {
   "cell_type": "code",
   "execution_count": 2,
   "metadata": {},
   "outputs": [],
   "source": [
    "(train_images, train_labels), (test_images, test_labels) = mnist.load_data()"
   ]
  },
  {
   "cell_type": "code",
   "execution_count": 3,
   "metadata": {},
   "outputs": [
    {
     "data": {
      "text/plain": [
       "(60000, 28, 28)"
      ]
     },
     "execution_count": 3,
     "metadata": {},
     "output_type": "execute_result"
    }
   ],
   "source": [
    "train_images.shape"
   ]
  },
  {
   "cell_type": "markdown",
   "metadata": {},
   "source": [
    "Randomly sampling a subset of the data, to make the combinations more tractable. "
   ]
  },
  {
   "cell_type": "code",
   "execution_count": 4,
   "metadata": {},
   "outputs": [
    {
     "name": "stdout",
     "output_type": "stream",
     "text": [
      "(28, 28)\n"
     ]
    },
    {
     "data": {
      "text/plain": [
       "<matplotlib.image.AxesImage at 0x15b3bf1f0>"
      ]
     },
     "execution_count": 4,
     "metadata": {},
     "output_type": "execute_result"
    },
    {
     "data": {
      "image/png": "[encoded data removed]",
      "text/plain": [
       "<Figure size 432x288 with 1 Axes>"
      ]
     },
     "metadata": {},
     "output_type": "display_data"
    }
   ],
   "source": [
    "image_A = train_images[0]\n",
    "print(image_A.shape)\n",
    "plt.imshow(image_A, cmap = plt.cm.binary)"
   ]
  },
  {
   "cell_type": "code",
   "execution_count": 5,
   "metadata": {},
   "outputs": [
    {
     "data": {
      "text/plain": [
       "<matplotlib.image.AxesImage at 0x11186e370>"
      ]
     },
     "execution_count": 5,
     "metadata": {},
     "output_type": "execute_result"
    },
    {
     "data": {
      "image/png": "[encoded data removed]",
      "text/plain": [
       "<Figure size 432x288 with 1 Axes>"
      ]
     },
     "metadata": {},
     "output_type": "display_data"
    }
   ],
   "source": [
    "image_B = train_images[1]\n",
    "plt.imshow(image_B, cmap = plt.cm.binary)"
   ]
  },
  {
   "cell_type": "code",
   "execution_count": 6,
   "metadata": {},
   "outputs": [
    {
     "data": {
      "text/plain": [
       "<matplotlib.image.AxesImage at 0x12bb713a0>"
      ]
     },
     "execution_count": 6,
     "metadata": {},
     "output_type": "execute_result"
    },
    {
     "data": {
      "image/png": "[encoded data removed]",
      "text/plain": [
       "<Figure size 432x288 with 1 Axes>"
      ]
     },
     "metadata": {},
     "output_type": "display_data"
    }
   ],
   "source": [
    "images_A_and_B = image_A + image_B\n",
    "plt.imshow(images_A_and_B, cmap = plt.cm.binary)"
   ]
  },
  {
   "cell_type": "code",
   "execution_count": 7,
   "metadata": {},
   "outputs": [],
   "source": [
    "# Create mini training set so that it's not too computationally intensive\n",
    "sample_size = 40000\n",
    "X_train, X_val, y_train, y_val = train_images[:sample_size], train_images[sample_size:sample_size*2],  train_labels[:sample_size], train_labels[sample_size:sample_size*2]"
   ]
  },
  {
   "cell_type": "code",
   "execution_count": 8,
   "metadata": {},
   "outputs": [],
   "source": [
    "# fold = X_train.shape[0]//2\n",
    "# X_train_A, X_train_B, y_train_A, y_train_B = X_train[:fold], X_train[fold:], y_train[fold:], y_train[:fold]\n",
    "\n",
    "# val_fold = X_val.shape[0]//2\n",
    "# X_val_A, X_val_B, y_val_A, y_val_B = X_val[:val_fold], X_val[val_fold:], y_val[val_fold:], y_val[:val_fold]\n"
   ]
  },
  {
   "cell_type": "code",
   "execution_count": 9,
   "metadata": {},
   "outputs": [],
   "source": [
    "# Randomly draw 40k training images\n",
    "\n",
    "num_images_chosen = 300000\n",
    "num_images_total = 40000\n",
    "\n",
    "combo_train_X = []\n",
    "combo_train_y = []\n",
    "\n",
    "for i in range(num_images_chosen):\n",
    "    \n",
    "    # Randomly draw indices\n",
    "    rand_A = random.randint(0, num_images_total-1)\n",
    "    rand_B = random.randint(0, num_images_total-1)\n",
    "    \n",
    "    # Concatenate images\n",
    "    image_A = X_train[rand_A]\n",
    "    image_B = X_train[rand_B]\n",
    "    concatenated_images = image_A + image_B\n",
    "    \n",
    "    # Find the minimum label\n",
    "    intermediate_label_A = y_train[rand_A]\n",
    "    intermediate_label_B = y_train[rand_B]\n",
    "    minimum_label = min(intermediate_label_A, intermediate_label_B)\n",
    "    \n",
    "    # Append to lists\n",
    "    combo_train_X.append(concatenated_images)\n",
    "    combo_train_y.append(minimum_label)\n",
    "    \n",
    "combo_train_X = np.array(combo_train_X)\n",
    "combo_train_y = np.array(combo_train_y)"
   ]
  },
  {
   "cell_type": "code",
   "execution_count": 10,
   "metadata": {},
   "outputs": [],
   "source": [
    "# Randomly draw 20k validation images\n",
    "\n",
    "num_images_chosen = 10000\n",
    "num_images_total = 20000\n",
    "\n",
    "combo_val_X = []\n",
    "combo_val_y = []\n",
    "\n",
    "for i in range(num_images_chosen):\n",
    "    \n",
    "    # Randomly draw indices\n",
    "    rand_A = random.randint(0, num_images_total-1)\n",
    "    rand_B = random.randint(0, num_images_total-1)\n",
    "    \n",
    "    # Concatenate images\n",
    "    image_A = X_val[rand_A]\n",
    "    image_B = X_val[rand_B]\n",
    "    concatenated_images = image_A + image_B\n",
    "    \n",
    "    # Find the minimum label\n",
    "    intermediate_label_A = y_val[rand_A]\n",
    "    intermediate_label_B = y_val[rand_B]\n",
    "    minimum_label = min(intermediate_label_A, intermediate_label_B)\n",
    "    \n",
    "    # Append to lists\n",
    "    combo_val_X.append(concatenated_images)\n",
    "    combo_val_y.append(minimum_label)\n",
    "    \n",
    "combo_val_X = np.array(combo_val_X)\n",
    "combo_val_y = np.array(combo_val_y)"
   ]
  },
  {
   "cell_type": "code",
   "execution_count": 11,
   "metadata": {},
   "outputs": [
    {
     "data": {
      "text/plain": [
       "(10000, 28, 28)"
      ]
     },
     "execution_count": 11,
     "metadata": {},
     "output_type": "execute_result"
    }
   ],
   "source": [
    "combo_val_X.shape"
   ]
  },
  {
   "cell_type": "code",
   "execution_count": 12,
   "metadata": {},
   "outputs": [
    {
     "data": {
      "text/plain": [
       "<matplotlib.image.AxesImage at 0x12bc49670>"
      ]
     },
     "execution_count": 12,
     "metadata": {},
     "output_type": "execute_result"
    },
    {
     "data": {
      "image/png": "[encoded data removed]",
      "text/plain": [
       "<Figure size 432x288 with 1 Axes>"
      ]
     },
     "metadata": {},
     "output_type": "display_data"
    }
   ],
   "source": [
    "plt.imshow(combo_val_X[1000])"
   ]
  },
  {
   "cell_type": "code",
   "execution_count": 13,
   "metadata": {},
   "outputs": [
    {
     "data": {
      "text/plain": [
       "1"
      ]
     },
     "execution_count": 13,
     "metadata": {},
     "output_type": "execute_result"
    }
   ],
   "source": [
    "combo_val_y[1000]"
   ]
  },
  {
   "cell_type": "code",
   "execution_count": 14,
   "metadata": {},
   "outputs": [],
   "source": [
    "train_images = combo_train_X.reshape((combo_train_X.shape[0], 28, 28, 1))\n",
    "train_images = train_images.astype('float32')/ 255\n",
    "\n",
    "val_images = combo_val_X.reshape((combo_val_X.shape[0], 28, 28, 1))\n",
    "val_images = val_images.astype('float32')/255\n",
    "\n",
    "train_labels = to_categorical(combo_train_y)\n",
    "val_labels = to_categorical(combo_val_y)"
   ]
  },
  {
   "cell_type": "code",
   "execution_count": 15,
   "metadata": {},
   "outputs": [
    {
     "data": {
      "text/plain": [
       "(300000, 28, 28, 1)"
      ]
     },
     "execution_count": 15,
     "metadata": {},
     "output_type": "execute_result"
    }
   ],
   "source": [
    "train_images.shape"
   ]
  },
  {
   "cell_type": "code",
   "execution_count": 16,
   "metadata": {},
   "outputs": [
    {
     "data": {
      "text/plain": [
       "(10000, 28, 28, 1)"
      ]
     },
     "execution_count": 16,
     "metadata": {},
     "output_type": "execute_result"
    }
   ],
   "source": [
    "val_images.shape"
   ]
  },
  {
   "cell_type": "code",
   "execution_count": 17,
   "metadata": {},
   "outputs": [
    {
     "data": {
      "text/plain": [
       "(300000, 10)"
      ]
     },
     "execution_count": 17,
     "metadata": {},
     "output_type": "execute_result"
    }
   ],
   "source": [
    "train_labels.shape"
   ]
  },
  {
   "cell_type": "code",
   "execution_count": 18,
   "metadata": {},
   "outputs": [],
   "source": [
    "model = tf.keras.Sequential()\n",
    "model.add(layers.Conv2D(32, (3,3), activation = 'relu', input_shape = (28,28,1)))\n",
    "model.add(layers.MaxPooling2D(2,2))\n",
    "model.add(layers.Conv2D(64, (3,3), activation = 'relu'))\n",
    "model.add(layers.MaxPooling2D(2,2))\n",
    "model.add(layers.Conv2D(64, (3,3), activation = 'relu'))\n",
    "# Adding a classifier\n",
    "model.add(layers.Flatten())\n",
    "model.add(layers.Dropout(0.5))\n",
    "model.add(layers.Dense(64, activation = 'relu'))\n",
    "model.add(layers.Dense(10, activation = 'softmax'))"
   ]
  },
  {
   "cell_type": "code",
   "execution_count": 19,
   "metadata": {},
   "outputs": [
    {
     "name": "stdout",
     "output_type": "stream",
     "text": [
      "Model: \"sequential\"\n",
      "_________________________________________________________________\n",
      "Layer (type)                 Output Shape              Param #   \n",
      "=================================================================\n",
      "conv2d (Conv2D)              (None, 26, 26, 32)        320       \n",
      "_________________________________________________________________\n",
      "max_pooling2d (MaxPooling2D) (None, 13, 13, 32)        0         \n",
      "_________________________________________________________________\n",
      "conv2d_1 (Conv2D)            (None, 11, 11, 64)        18496     \n",
      "_________________________________________________________________\n",
      "max_pooling2d_1 (MaxPooling2 (None, 5, 5, 64)          0         \n",
      "_________________________________________________________________\n",
      "conv2d_2 (Conv2D)            (None, 3, 3, 64)          36928     \n",
      "_________________________________________________________________\n",
      "flatten (Flatten)            (None, 576)               0         \n",
      "_________________________________________________________________\n",
      "dropout (Dropout)            (None, 576)               0         \n",
      "_________________________________________________________________\n",
      "dense (Dense)                (None, 64)                36928     \n",
      "_________________________________________________________________\n",
      "dense_1 (Dense)              (None, 10)                650       \n",
      "=================================================================\n",
      "Total params: 93,322\n",
      "Trainable params: 93,322\n",
      "Non-trainable params: 0\n",
      "_________________________________________________________________\n"
     ]
    }
   ],
   "source": [
    "model.summary()"
   ]
  },
  {
   "cell_type": "code",
   "execution_count": 20,
   "metadata": {},
   "outputs": [],
   "source": [
    "\n",
    "opt = tf.keras.optimizers.RMSprop(learning_rate=0.0002)\n",
    "\n",
    "model.compile(optimizer = opt,\n",
    "             loss = 'categorical_crossentropy',\n",
    "             metrics = ['mae'])\n",
    "\n",
    "# model.compile(optimizer = 'rmsprop',\n",
    "#              loss = 'categorical_crossentropy',\n",
    "#              metrics = ['accuracy', 'mae'])\n"
   ]
  },
  {
   "cell_type": "code",
   "execution_count": 21,
   "metadata": {},
   "outputs": [
    {
     "name": "stdout",
     "output_type": "stream",
     "text": [
      "Epoch 1/30\n",
      "4688/4688 [==============================] - 92s 19ms/step - loss: 0.8367 - mae: 0.0802 - val_loss: 0.4743 - val_mae: 0.0496\n",
      "Epoch 2/30\n",
      "4688/4688 [==============================] - 90s 19ms/step - loss: 0.5126 - mae: 0.0511 - val_loss: 0.3673 - val_mae: 0.0379\n",
      "Epoch 3/30\n",
      "4688/4688 [==============================] - 93s 20ms/step - loss: 0.4295 - mae: 0.0428 - val_loss: 0.3303 - val_mae: 0.0349\n",
      "Epoch 4/30\n",
      "4688/4688 [==============================] - 97s 21ms/step - loss: 0.3808 - mae: 0.0379 - val_loss: 0.3001 - val_mae: 0.0292\n",
      "Epoch 5/30\n",
      "4688/4688 [==============================] - 93s 20ms/step - loss: 0.3478 - mae: 0.0345 - val_loss: 0.2835 - val_mae: 0.0274\n",
      "Epoch 6/30\n",
      "4688/4688 [==============================] - 90s 19ms/step - loss: 0.3249 - mae: 0.0321 - val_loss: 0.2489 - val_mae: 0.0268\n",
      "Epoch 7/30\n",
      "4688/4688 [==============================] - 90s 19ms/step - loss: 0.3078 - mae: 0.0305 - val_loss: 0.2340 - val_mae: 0.0247\n",
      "Epoch 8/30\n",
      "4688/4688 [==============================] - 92s 20ms/step - loss: 0.2930 - mae: 0.0289 - val_loss: 0.2260 - val_mae: 0.0224\n",
      "Epoch 9/30\n",
      "4688/4688 [==============================] - 92s 20ms/step - loss: 0.2835 - mae: 0.0279 - val_loss: 0.2233 - val_mae: 0.0214\n",
      "Epoch 10/30\n",
      "4688/4688 [==============================] - 88s 19ms/step - loss: 0.2751 - mae: 0.0269 - val_loss: 0.2182 - val_mae: 0.0226\n",
      "Epoch 11/30\n",
      "4688/4688 [==============================] - 90s 19ms/step - loss: 0.2663 - mae: 0.0261 - val_loss: 0.2384 - val_mae: 0.0230\n",
      "Epoch 12/30\n",
      "4688/4688 [==============================] - 93s 20ms/step - loss: 0.2618 - mae: 0.0255 - val_loss: 0.2215 - val_mae: 0.0200\n",
      "Epoch 13/30\n",
      "4688/4688 [==============================] - 92s 20ms/step - loss: 0.2580 - mae: 0.0251 - val_loss: 0.2098 - val_mae: 0.0214\n",
      "Epoch 14/30\n",
      "4688/4688 [==============================] - 93s 20ms/step - loss: 0.2541 - mae: 0.0246 - val_loss: 0.2121 - val_mae: 0.0214\n",
      "Epoch 15/30\n",
      "4688/4688 [==============================] - 95s 20ms/step - loss: 0.2521 - mae: 0.0244 - val_loss: 0.2036 - val_mae: 0.0193\n",
      "Epoch 16/30\n",
      "4688/4688 [==============================] - 96s 21ms/step - loss: 0.2498 - mae: 0.0241 - val_loss: 0.2182 - val_mae: 0.0183\n",
      "Epoch 17/30\n",
      "4688/4688 [==============================] - 96s 20ms/step - loss: 0.2478 - mae: 0.0238 - val_loss: 0.1991 - val_mae: 0.0189\n",
      "Epoch 18/30\n",
      "4688/4688 [==============================] - 98s 21ms/step - loss: 0.2455 - mae: 0.0236 - val_loss: 0.2048 - val_mae: 0.0204\n",
      "Epoch 19/30\n",
      "4688/4688 [==============================] - 97s 21ms/step - loss: 0.2463 - mae: 0.0235 - val_loss: 0.2016 - val_mae: 0.0187\n",
      "Epoch 20/30\n",
      "4688/4688 [==============================] - 95s 20ms/step - loss: 0.2425 - mae: 0.0232 - val_loss: 0.2136 - val_mae: 0.0174\n",
      "Epoch 21/30\n",
      "4688/4688 [==============================] - 93s 20ms/step - loss: 0.2441 - mae: 0.0232 - val_loss: 0.2100 - val_mae: 0.0171\n",
      "Epoch 22/30\n",
      "4688/4688 [==============================] - 95s 20ms/step - loss: 0.2428 - mae: 0.0231 - val_loss: 0.1957 - val_mae: 0.0176\n",
      "Epoch 23/30\n",
      "4688/4688 [==============================] - 94s 20ms/step - loss: 0.2426 - mae: 0.0230 - val_loss: 0.1950 - val_mae: 0.0182\n",
      "Epoch 24/30\n",
      "4688/4688 [==============================] - 95s 20ms/step - loss: 0.2423 - mae: 0.0230 - val_loss: 0.2219 - val_mae: 0.0162\n",
      "Epoch 25/30\n",
      "4688/4688 [==============================] - 95s 20ms/step - loss: 0.2403 - mae: 0.0228 - val_loss: 0.2128 - val_mae: 0.0168\n",
      "Epoch 26/30\n",
      "4688/4688 [==============================] - 96s 20ms/step - loss: 0.2419 - mae: 0.0228 - val_loss: 0.1967 - val_mae: 0.0191\n",
      "Epoch 27/30\n",
      "4688/4688 [==============================] - 99s 21ms/step - loss: 0.2407 - mae: 0.0228 - val_loss: 0.1970 - val_mae: 0.0190\n",
      "Epoch 28/30\n",
      "4688/4688 [==============================] - 95s 20ms/step - loss: 0.2414 - mae: 0.0228 - val_loss: 0.2143 - val_mae: 0.0219\n",
      "Epoch 29/30\n",
      "4688/4688 [==============================] - 98s 21ms/step - loss: 0.2415 - mae: 0.0228 - val_loss: 0.2424 - val_mae: 0.0178\n",
      "Epoch 30/30\n",
      "4688/4688 [==============================] - 98s 21ms/step - loss: 0.2416 - mae: 0.0227 - val_loss: 0.2189 - val_mae: 0.0209\n",
      "[0.04958673194050789, 0.037858959287405014, 0.03492378070950508, 0.02920255996286869, 0.027419747784733772, 0.02683931589126587, 0.02472073584794998, 0.022389935329556465, 0.021408576518297195, 0.02256622165441513, 0.022959139198064804, 0.020036811009049416, 0.021363835781812668, 0.021356409415602684, 0.019284479320049286, 0.01828557252883911, 0.018929772078990936, 0.020400548353791237, 0.018727725371718407, 0.017350293695926666, 0.01713639870285988, 0.0176157858222723, 0.018230821937322617, 0.016230495646595955, 0.01684115082025528, 0.019124552607536316, 0.019015779718756676, 0.021901674568653107, 0.017844676971435547, 0.020941540598869324]\n"
     ]
    }
   ],
   "source": [
    "# Run model in one go\n",
    "model.reset_states()\n",
    "history = model.fit(train_images, \n",
    "          train_labels, \n",
    "          epochs = 30, \n",
    "          batch_size = 64,\n",
    "          validation_data = (val_images, val_labels))\n",
    "\n",
    "\n",
    "#     history = model.fit(partial_train_data,\n",
    "#               partial_train_targets,\n",
    "#               validation_data = (val_data, val_targets),\n",
    "#               epochs = num_epochs,\n",
    "#               batch_size = 64,\n",
    "#               verbose = 0)\n",
    "\n",
    "val_mae_history = history.history['val_mae']\n",
    "print(val_mae_history)\n",
    "#val_acc_history = history.history['accuracy']\n",
    "#print(history.history.keys())\n",
    "#all_mae_histories.append(val_mae_history)"
   ]
  },
  {
   "cell_type": "code",
   "execution_count": 22,
   "metadata": {},
   "outputs": [
    {
     "data": {
      "image/png": "[encoded data removed]",
      "text/plain": [
       "<Figure size 432x288 with 1 Axes>"
      ]
     },
     "metadata": {},
     "output_type": "display_data"
    }
   ],
   "source": [
    "plt.plot(range(1, len(val_mae_history) + 1), val_mae_history)\n",
    "plt.xlabel('Epochs')\n",
    "plt.ylabel('val_mae')\n",
    "plt.show()"
   ]
  },
  {
   "cell_type": "code",
   "execution_count": 23,
   "metadata": {},
   "outputs": [
    {
     "name": "stdout",
     "output_type": "stream",
     "text": [
      "Val Accuracy: 0.9302\n"
     ]
    }
   ],
   "source": [
    "y_predict = model.predict(val_images)\n",
    "#y_predict = y_predict.astype(int)\n",
    "\n",
    "\n",
    "correct = 0\n",
    "#check_baseline\n",
    "\n",
    "for label in range(len(val_labels)):\n",
    "    \n",
    "    if np.argmax(val_labels[label], axis=None, out=None) == np.argmax(y_predict[label], axis=None, out=None):\n",
    "        correct = correct + 1\n",
    "        \n",
    "print(\"Val Accuracy: \" + str(correct/len(val_labels)))"
   ]
  },
  {
   "cell_type": "markdown",
   "metadata": {},
   "source": [
    "Baseline for above is 10%"
   ]
  },
  {
   "cell_type": "code",
   "execution_count": 24,
   "metadata": {},
   "outputs": [
    {
     "name": "stdout",
     "output_type": "stream",
     "text": [
      "313/313 [==============================] - 1s 2ms/step - loss: 0.2189 - mae: 0.0209\n"
     ]
    },
    {
     "data": {
      "text/plain": [
       "[0.2189028263092041, 0.02094152942299843]"
      ]
     },
     "execution_count": 24,
     "metadata": {},
     "output_type": "execute_result"
    }
   ],
   "source": [
    "eval_model = model.evaluate(val_images, val_labels)\n",
    "eval_model"
   ]
  },
  {
   "cell_type": "code",
   "execution_count": 22,
   "metadata": {},
   "outputs": [],
   "source": []
  },
  {
   "cell_type": "code",
   "execution_count": 23,
   "metadata": {},
   "outputs": [
    {
     "name": "stdout",
     "output_type": "stream",
     "text": [
      "processing fold # 0\n",
      "[0.10015103965997696, 0.07854054868221283, 0.06976654380559921, 0.06518711894750595, 0.06123950332403183, 0.0586366206407547, 0.04995421692728996, 0.061121199280023575, 0.0504055954515934, 0.04447520896792412, 0.039783328771591187, 0.04706171154975891, 0.04072960093617439, 0.04122878238558769, 0.03526578098535538, 0.03635024279356003, 0.04414273425936699, 0.033674128353595734, 0.03839120641350746, 0.03324676677584648, 0.03246698155999184, 0.03291046991944313, 0.03284728527069092, 0.03280035778880119, 0.03326550871133804, 0.03363596275448799, 0.03037921153008938, 0.032406944781541824, 0.0329052172601223, 0.031927548348903656]\n",
      "processing fold # 1\n",
      "[0.018611304461956024, 0.01897256076335907, 0.017715128138661385, 0.018661780282855034, 0.016278764232993126, 0.02344367280602455, 0.01580817624926567, 0.020697953179478645, 0.019673166796565056, 0.015816258266568184, 0.018120383843779564, 0.020183753222227097, 0.02121661975979805, 0.019098425284028053, 0.01920454204082489, 0.01948736235499382, 0.016346167773008347, 0.02100127562880516, 0.016224537044763565, 0.02067306451499462, 0.015417146496474743, 0.016180653125047684, 0.01836232841014862, 0.01700722612440586, 0.01629900187253952, 0.019751761108636856, 0.017294863238930702, 0.01830509677529335, 0.01693713665008545, 0.016897564753890038]\n"
     ]
    }
   ],
   "source": [
    "# Perform k-fold cross-validation\n",
    "# Set up parameters for cross-validation\n",
    "k = 2\n",
    "num_val_samples = len(train_images)//k\n",
    "\n",
    "num_epochs = 30\n",
    "all_mae_histories = []\n",
    "\n",
    "for i in range(k):\n",
    "    \n",
    "    print('processing fold #', i)\n",
    "    val_data = train_images[i * num_val_samples: (i + 1) * num_val_samples]\n",
    "    val_targets = train_labels[i * num_val_samples: (i + 1) * num_val_samples]\n",
    "    \n",
    "    partial_train_data = np.concatenate(\n",
    "    [train_images[:i * num_val_samples],\n",
    "    train_images[(i+1) * num_val_samples:]],\n",
    "    axis = 0)\n",
    "    \n",
    "    partial_train_targets = np.concatenate(\n",
    "    [train_labels[:i*num_val_samples],\n",
    "    train_labels[(i+1)*num_val_samples:]],\n",
    "    axis = 0)\n",
    "    \n",
    "    model.reset_states()\n",
    "    history = model.fit(partial_train_data,\n",
    "              partial_train_targets,\n",
    "              validation_data = (val_data, val_targets),\n",
    "              epochs = num_epochs,\n",
    "              batch_size = 64,\n",
    "              verbose = 0)\n",
    "    \n",
    "    val_mae_history = history.history['val_mae']\n",
    "    print(val_mae_history)\n",
    "    #val_acc_history = history.history['accuracy']\n",
    "    #print(history.history.keys())\n",
    "    all_mae_histories.append(val_mae_history)"
   ]
  },
  {
   "cell_type": "code",
   "execution_count": null,
   "metadata": {},
   "outputs": [],
   "source": [
    "# Perform k-fold cross-validation\n",
    "# Set up parameters for cross-validation\n",
    "k = 2\n",
    "num_val_samples = len(train_images)//k\n",
    "\n",
    "num_epochs = 30\n",
    "all_mae_histories = []\n",
    "\n",
    "for i in range(k):\n",
    "    \n",
    "    print('processing fold #', i)\n",
    "    val_data = train_images[num_val_samples: (i + 1) * num_val_samples]\n",
    "    val_targets = train_labels[i * num_val_samples: (i + 1) * num_val_samples]\n",
    "    \n",
    "    partial_train_data = np.concatenate(\n",
    "    [train_images[:i * num_val_samples],\n",
    "    train_images[(i+1) * num_val_samples:]],\n",
    "    axis = 0)\n",
    "    \n",
    "    partial_train_targets = np.concatenate(\n",
    "    [train_labels[:i*num_val_samples],\n",
    "    train_labels[(i+1)*num_val_samples:]],\n",
    "    axis = 0)\n",
    "    \n",
    "    model.reset_states()\n",
    "    history = model.fit(partial_train_data,\n",
    "              partial_train_targets,\n",
    "              validation_data = (val_data, val_targets),\n",
    "              epochs = num_epochs,\n",
    "              batch_size = 64,\n",
    "              verbose = 0)\n",
    "    \n",
    "    val_mae_history = history.history['val_mae']\n",
    "    print(val_mae_history)\n",
    "    #val_acc_history = history.history['accuracy']\n",
    "    #print(history.history.keys())\n",
    "    all_mae_histories.append(val_mae_history)"
   ]
  },
  {
   "cell_type": "code",
   "execution_count": 24,
   "metadata": {},
   "outputs": [],
   "source": [
    "# Compute the average of the per-epoch MAE scores for all folds\n",
    "# Building the history of successive mean K-fold validation scores\n",
    "\n",
    "average_mae_history = [\n",
    "    np.mean([x[i] for x in all_mae_histories]) for i in range(num_epochs)]"
   ]
  },
  {
   "cell_type": "code",
   "execution_count": 25,
   "metadata": {},
   "outputs": [
    {
     "data": {
      "image/png": "[encoded data removed]",
      "text/plain": [
       "<Figure size 432x288 with 1 Axes>"
      ]
     },
     "metadata": {},
     "output_type": "display_data"
    }
   ],
   "source": [
    "plt.plot(range(1, len(average_mae_history[:30]) + 1), average_mae_history[:30])\n",
    "plt.xlabel('Epochs')\n",
    "plt.ylabel('val_mae')\n",
    "plt.show()"
   ]
  },
  {
   "cell_type": "code",
   "execution_count": 28,
   "metadata": {},
   "outputs": [],
   "source": [
    "def smooth_curve(points, factor =0.9):\n",
    "    \n",
    "    smoothed_points = []\n",
    "    \n",
    "    for point in points:\n",
    "        if smoothed_points:\n",
    "            previous = smoothed_points[-1]\n",
    "            smoothed_points.append(previous * factor + point * (1 - factor))\n",
    "        else:\n",
    "            smoothed_points.append(point)\n",
    "        \n",
    "    return smoothed_points\n",
    "\n",
    "smooth_mae_history = smooth_curve(average_mae_history)"
   ]
  },
  {
   "cell_type": "code",
   "execution_count": 29,
   "metadata": {},
   "outputs": [
    {
     "data": {
      "image/png": "[encoded data removed]",
      "text/plain": [
       "<Figure size 432x288 with 1 Axes>"
      ]
     },
     "metadata": {},
     "output_type": "display_data"
    }
   ],
   "source": [
    "# Difficult to understand plot due to scaling issues\n",
    "plt.plot(range(1, len(smooth_mae_history) + 1), smooth_mae_history)\n",
    "plt.xlabel('Epochs')\n",
    "plt.ylabel('val_mae')\n",
    "plt.show()"
   ]
  },
  {
   "cell_type": "code",
   "execution_count": null,
   "metadata": {},
   "outputs": [],
   "source": []
  },
  {
   "cell_type": "code",
   "execution_count": null,
   "metadata": {},
   "outputs": [],
   "source": []
  }
 ],
 "metadata": {
  "kernelspec": {
   "display_name": "general_ML",
   "language": "python",
   "name": "general_ml"
  },
  "language_info": {
   "codemirror_mode": {
    "name": "ipython",
    "version": 3
   },
   "file_extension": ".py",
   "mimetype": "text/x-python",
   "name": "python",
   "nbconvert_exporter": "python",
   "pygments_lexer": "ipython3",
   "version": "3.9.2"
  }
 },
 "nbformat": 4,
 "nbformat_minor": 4
}
