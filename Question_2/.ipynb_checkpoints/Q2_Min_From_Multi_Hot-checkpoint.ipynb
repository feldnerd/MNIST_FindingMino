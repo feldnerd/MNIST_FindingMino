{
 "cells": [
  {
   "cell_type": "code",
   "execution_count": 9,
   "metadata": {},
   "outputs": [],
   "source": [
    "import matplotlib.pyplot as plt\n",
    "import numpy as np\n",
    "import pandas as pd\n",
    "from keras.utils.np_utils import to_categorical\n",
    "import tensorflow as tf\n",
    "from tensorflow import keras\n",
    "from tensorflow.keras import layers\n",
    "from tensorflow.keras.models import Sequential, load_model\n",
    "from keras.datasets import mnist\n",
    "import random\n",
    "\n",
    "import sys\n",
    "sys.path.append('../')\n",
    "from Core_Functions import multi_hot_encoding, neural_networks\n",
    "from sklearn.model_selection import train_test_split"
   ]
  },
  {
   "cell_type": "code",
   "execution_count": 10,
   "metadata": {},
   "outputs": [],
   "source": [
    "# And a one-hot encoded target denoting the index of the maximum of the inputs\n",
    "y = []\n",
    "x = []\n",
    "for ints in range(5000):\n",
    "    \n",
    "    x1 = np.random.randint(0,10)\n",
    "    x2 = np.random.randint(0,10)\n",
    "    \n",
    "    if x1!= x2:\n",
    "        x.append([x1,x2])\n",
    "        y.append(min(x1,x2))\n"
   ]
  },
  {
   "cell_type": "code",
   "execution_count": 11,
   "metadata": {},
   "outputs": [],
   "source": [
    "# And a one-hot encoded target denoting the index of the maximum of the inputs\n",
    "y_val = []\n",
    "x_val = []\n",
    "for ints in range(5000):\n",
    "    \n",
    "    x1 = np.random.randint(0,10)\n",
    "    x2 = np.random.randint(0,10)\n",
    "    \n",
    "    if x1!= x2:\n",
    "        x_val.append([x1,x2])\n",
    "        y_val.append(min(x1,x2))"
   ]
  },
  {
   "cell_type": "code",
   "execution_count": 12,
   "metadata": {},
   "outputs": [],
   "source": [
    "# Conversion to umopy arrays\n",
    "x = np.array(x)\n",
    "y = np.array(y)\n",
    "\n",
    "x_val = np.array(x_val)\n",
    "y_val = np.array(y_val)"
   ]
  },
  {
   "cell_type": "code",
   "execution_count": 13,
   "metadata": {},
   "outputs": [
    {
     "data": {
      "text/plain": [
       "array([[2, 8],\n",
       "       [4, 7],\n",
       "       [1, 9],\n",
       "       [8, 4],\n",
       "       [4, 7],\n",
       "       [3, 5],\n",
       "       [7, 4],\n",
       "       [9, 7],\n",
       "       [1, 5],\n",
       "       [4, 6]])"
      ]
     },
     "execution_count": 13,
     "metadata": {},
     "output_type": "execute_result"
    }
   ],
   "source": [
    "x[:10]"
   ]
  },
  {
   "cell_type": "code",
   "execution_count": 14,
   "metadata": {},
   "outputs": [],
   "source": [
    "x = np.array(multi_hot_encoding.multi_hot_encode(x))\n",
    "x_val =  np.array(multi_hot_encoding.multi_hot_encode(x_val))\n",
    "\n",
    "y = to_categorical(y)\n",
    "y_val =  to_categorical(y_val)"
   ]
  },
  {
   "cell_type": "code",
   "execution_count": 16,
   "metadata": {},
   "outputs": [],
   "source": [
    "# Model architecture\n",
    "def build_DNN_multi_hot_decode():\n",
    "\n",
    "    model = tf.keras.Sequential()\n",
    "    model.add(layers.Dense(512, activation = 'relu', input_shape=(10,)))\n",
    "    model.add(layers.Dense(9, activation='sigmoid'))\n",
    "\n",
    "    model.compile(optimizer='rmsprop', \n",
    "                loss='categorical_crossentropy', \n",
    "                metrics=['accuracy', 'mae'])\n",
    "\n",
    "    return model"
   ]
  },
  {
   "cell_type": "code",
   "execution_count": 17,
   "metadata": {},
   "outputs": [
    {
     "name": "stdout",
     "output_type": "stream",
     "text": [
      "Model: \"sequential\"\n",
      "_________________________________________________________________\n",
      "Layer (type)                 Output Shape              Param #   \n",
      "=================================================================\n",
      "dense (Dense)                (None, 512)               5632      \n",
      "_________________________________________________________________\n",
      "dense_1 (Dense)              (None, 9)                 4617      \n",
      "=================================================================\n",
      "Total params: 10,249\n",
      "Trainable params: 10,249\n",
      "Non-trainable params: 0\n",
      "_________________________________________________________________\n"
     ]
    }
   ],
   "source": [
    "DNN_model = build_DNN()\n",
    "DNN_model.summary()"
   ]
  },
  {
   "cell_type": "code",
   "execution_count": 23,
   "metadata": {},
   "outputs": [
    {
     "name": "stdout",
     "output_type": "stream",
     "text": [
      "Epoch 1/3\n",
      "4504/4504 [==============================] - 3s 525us/step - loss: 0.1050 - accuracy: 0.9769 - mae: 0.1102\n",
      "Epoch 2/3\n",
      "4504/4504 [==============================] - 2s 538us/step - loss: 3.0438e-09 - accuracy: 1.0000 - mae: 0.1105\n",
      "Epoch 3/3\n",
      "4504/4504 [==============================] - 2s 529us/step - loss: 3.1761e-10 - accuracy: 1.0000 - mae: 0.1111\n"
     ]
    },
    {
     "data": {
      "text/plain": [
       "<tensorflow.python.keras.callbacks.History at 0x14bb78670>"
      ]
     },
     "execution_count": 23,
     "metadata": {},
     "output_type": "execute_result"
    }
   ],
   "source": [
    "# Fit model\n",
    "DNN_model = build_DNN()\n",
    "DNN_model.fit(x, \n",
    "          y, \n",
    "          epochs = 3, \n",
    "          batch_size = 1)\n"
   ]
  },
  {
   "cell_type": "code",
   "execution_count": 25,
   "metadata": {},
   "outputs": [
    {
     "name": "stdout",
     "output_type": "stream",
     "text": [
      "140/140 [==============================] - 0s 479us/step - loss: 0.0000e+00 - accuracy: 1.0000 - mae: 0.1111\n"
     ]
    },
    {
     "data": {
      "text/plain": [
       "[0.0, 1.0, 0.1111002042889595]"
      ]
     },
     "execution_count": 25,
     "metadata": {},
     "output_type": "execute_result"
    }
   ],
   "source": [
    "test = DNN_model.evaluate(x_val, y_val)\n",
    "test"
   ]
  },
  {
   "cell_type": "code",
   "execution_count": null,
   "metadata": {},
   "outputs": [],
   "source": []
  }
 ],
 "metadata": {
  "kernelspec": {
   "display_name": "general_ML",
   "language": "python",
   "name": "general_ml"
  },
  "language_info": {
   "codemirror_mode": {
    "name": "ipython",
    "version": 3
   },
   "file_extension": ".py",
   "mimetype": "text/x-python",
   "name": "python",
   "nbconvert_exporter": "python",
   "pygments_lexer": "ipython3",
   "version": "3.9.2"
  }
 },
 "nbformat": 4,
 "nbformat_minor": 4
}
