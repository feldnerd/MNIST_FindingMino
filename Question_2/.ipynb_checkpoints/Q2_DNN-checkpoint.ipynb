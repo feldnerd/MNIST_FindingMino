{
 "cells": [
  {
   "cell_type": "code",
   "execution_count": 1,
   "metadata": {},
   "outputs": [
    {
     "name": "stderr",
     "output_type": "stream",
     "text": [
      "Using TensorFlow backend.\n"
     ]
    }
   ],
   "source": [
    "import matplotlib.pyplot as plt\n",
    "plt.rcParams.update({'font.size': 18})\n",
    "import numpy as np\n",
    "import pandas as pd\n",
    "from keras.utils.np_utils import to_categorical\n",
    "import tensorflow as tf\n",
    "from tensorflow import keras\n",
    "from tensorflow.keras import layers\n",
    "from tensorflow.keras.models import Sequential, load_model\n",
    "from keras.datasets import mnist\n",
    "import random\n",
    "import sys\n",
    "sys.path.append('../')\n",
    "from Core_Functions import neural_networks, generate_image_set"
   ]
  },
  {
   "cell_type": "code",
   "execution_count": 2,
   "metadata": {},
   "outputs": [],
   "source": [
    "# Load data and split into training and test\n",
    "(train_images, train_labels), (test_images, test_labels) = mnist.load_data()"
   ]
  },
  {
   "cell_type": "code",
   "execution_count": 3,
   "metadata": {},
   "outputs": [],
   "source": [
    "# Split training set further into training and validation sets\n",
    "sample_size = 40000\n",
    "X_train, X_val, y_train, y_val = train_images[:sample_size], train_images[sample_size:sample_size*2],  train_labels[:sample_size], train_labels[sample_size:sample_size*2]"
   ]
  },
  {
   "cell_type": "code",
   "execution_count": 27,
   "metadata": {},
   "outputs": [],
   "source": [
    "combo_train_X, combo_train_y = generate_image_set.get_left_min_image_combinations(40000, X_train, y_train)\n",
    "combo_val_X, combo_val_y = generate_image_set.get_right_min_image_combinations(20000, X_val, y_val)"
   ]
  },
  {
   "cell_type": "code",
   "execution_count": 28,
   "metadata": {},
   "outputs": [],
   "source": [
    "# Reshape the data so they can be fed into the network, one-hot-encode the labels\n",
    "\n",
    "train_images = combo_train_X.reshape((combo_train_X.shape[0], 28*56,))\n",
    "train_images = train_images/ 255\n",
    "\n",
    "val_images = combo_val_X.reshape((combo_val_X.shape[0], 28*56,))\n",
    "val_images = val_images/255\n",
    "\n",
    "test_images = combo_test_X.reshape((combo_test_X.shape[0], 28*56,))\n",
    "test_images = test_images/255\n",
    "\n",
    "train_labels = to_categorical(combo_train_y)\n",
    "val_labels = to_categorical(combo_val_y)\n",
    "\n",
    "test_labels = to_categorical(combo_test_y)"
   ]
  },
  {
   "cell_type": "code",
   "execution_count": 29,
   "metadata": {},
   "outputs": [
    {
     "name": "stdout",
     "output_type": "stream",
     "text": [
      "Model: \"sequential_8\"\n",
      "_________________________________________________________________\n",
      "Layer (type)                 Output Shape              Param #   \n",
      "=================================================================\n",
      "dense_16 (Dense)             (None, 512)               803328    \n",
      "_________________________________________________________________\n",
      "dense_17 (Dense)             (None, 10)                5130      \n",
      "=================================================================\n",
      "Total params: 808,458\n",
      "Trainable params: 808,458\n",
      "Non-trainable params: 0\n",
      "_________________________________________________________________\n"
     ]
    }
   ],
   "source": [
    "model = neural_networks.build_DNN(28*56)\n",
    "model.summary()"
   ]
  },
  {
   "cell_type": "code",
   "execution_count": 30,
   "metadata": {},
   "outputs": [
    {
     "name": "stdout",
     "output_type": "stream",
     "text": [
      "Epoch 1/6\n",
      "1250/1250 [==============================] - 6s 5ms/step - loss: 0.2323 - accuracy: 0.9299 - mae: 0.0209\n",
      "Epoch 2/6\n",
      "1250/1250 [==============================] - 6s 5ms/step - loss: 0.0881 - accuracy: 0.9735 - mae: 0.0074\n",
      "Epoch 3/6\n",
      "1250/1250 [==============================] - 6s 5ms/step - loss: 0.0548 - accuracy: 0.9841 - mae: 0.0043\n",
      "Epoch 4/6\n",
      "1250/1250 [==============================] - 6s 5ms/step - loss: 0.0357 - accuracy: 0.9898 - mae: 0.0028\n",
      "Epoch 5/6\n",
      "1250/1250 [==============================] - 6s 5ms/step - loss: 0.0221 - accuracy: 0.9934 - mae: 0.0018\n",
      "Epoch 6/6\n",
      "1250/1250 [==============================] - 6s 4ms/step - loss: 0.0159 - accuracy: 0.9954 - mae: 0.0013\n"
     ]
    },
    {
     "data": {
      "text/plain": [
       "<tensorflow.python.keras.callbacks.History at 0x198401e20>"
      ]
     },
     "execution_count": 30,
     "metadata": {},
     "output_type": "execute_result"
    }
   ],
   "source": [
    "model.fit(train_images, train_labels, epochs = 6)"
   ]
  },
  {
   "cell_type": "code",
   "execution_count": 31,
   "metadata": {},
   "outputs": [
    {
     "name": "stdout",
     "output_type": "stream",
     "text": [
      "625/625 [==============================] - 1s 918us/step - loss: 24.7415 - accuracy: 0.1151 - mae: 0.1769\n"
     ]
    },
    {
     "data": {
      "text/plain": [
       "[24.741512298583984, 0.11514999717473984, 0.17694270610809326]"
      ]
     },
     "execution_count": 31,
     "metadata": {},
     "output_type": "execute_result"
    }
   ],
   "source": [
    "test = model.evaluate(val_images, val_labels)\n",
    "test"
   ]
  },
  {
   "cell_type": "code",
   "execution_count": 32,
   "metadata": {},
   "outputs": [],
   "source": [
    "model = neural_networks.build_DNN(28*56)\n",
    "history = model.fit(train_images,\n",
    "          train_labels,\n",
    "          validation_data = (val_images, val_labels),\n",
    "          epochs = 20,\n",
    "          batch_size = 64,\n",
    "          verbose = 0)"
   ]
  },
  {
   "cell_type": "code",
   "execution_count": 33,
   "metadata": {},
   "outputs": [
    {
     "data": {
      "image/png": "[encoded data removed]",
      "text/plain": [
       "<Figure size 432x288 with 1 Axes>"
      ]
     },
     "metadata": {
      "needs_background": "light"
     },
     "output_type": "display_data"
    }
   ],
   "source": [
    "plt.plot(range(1, len(history.history['mae']) + 1), history.history['mae'], label = 'Training', c ='mediumseagreen', lw=2.5)\n",
    "plt.plot(range(1, len(history.history['val_mae']) + 1), history.history['val_mae'], label='Validation', c = 'mediumvioletred', lw=2.5)\n",
    "\n",
    "plt.xlabel('Epochs')\n",
    "plt.ylabel('Mean Absolute Error')\n",
    "plt.legend()\n",
    "plt.title('DNN Mean Absolute Error')\n",
    "plt.savefig('Q2_Figures/Q2_DNN_MAE.png', dpi = 400, bbox_inches=\"tight\")"
   ]
  },
  {
   "cell_type": "code",
   "execution_count": 34,
   "metadata": {},
   "outputs": [
    {
     "data": {
      "image/png": "[encoded data removed]",
      "text/plain": [
       "<Figure size 432x288 with 1 Axes>"
      ]
     },
     "metadata": {
      "needs_background": "light"
     },
     "output_type": "display_data"
    }
   ],
   "source": [
    "plt.plot(range(1, len(history.history['accuracy']) + 1), history.history['accuracy'], label = 'Training', c ='mediumseagreen', lw=2.5)\n",
    "plt.plot(range(1, len(history.history['val_accuracy']) + 1), history.history['val_accuracy'], label='Validation', c = 'mediumvioletred', lw=2.5)\n",
    "\n",
    "plt.xlabel('Epochs')\n",
    "plt.ylabel('Accuracy')\n",
    "plt.legend()\n",
    "plt.tight_layout()\n",
    "plt.title('DNN Accuracy')\n",
    "plt.savefig('Q2_Figures/Q2_DNN_Accuracy.png', dpi = 400, bbox_inches=\"tight\")"
   ]
  },
  {
   "cell_type": "code",
   "execution_count": 40,
   "metadata": {},
   "outputs": [
    {
     "name": "stdout",
     "output_type": "stream",
     "text": [
      "Predicted: 9\n",
      "True: 0\n"
     ]
    },
    {
     "data": {
      "image/png": "[encoded data removed]",
      "text/plain": [
       "<Figure size 432x288 with 1 Axes>"
      ]
     },
     "metadata": {
      "needs_background": "light"
     },
     "output_type": "display_data"
    }
   ],
   "source": [
    "# Verify above by visually inspecting images from the predicted set\n",
    "y_predict = model.predict(val_images)\n",
    "num_val_images = 10000\n",
    "\n",
    "# Run this cell repeatedly to see multiple examples\n",
    "check_index = random.randint(0,num_val_images)\n",
    "plt.imshow(val_images[check_index].reshape(28,56), cmap = plt.cm.binary)\n",
    "print(\"Predicted: \" + str(np.argmax(y_predict[check_index])))\n",
    "print(\"True: \" + str(np.argmax(val_labels[check_index])))"
   ]
  },
  {
   "cell_type": "code",
   "execution_count": 42,
   "metadata": {},
   "outputs": [
    {
     "name": "stdout",
     "output_type": "stream",
     "text": [
      "Saved model to disk\n"
     ]
    }
   ],
   "source": [
    "# Save trained model for later use\n",
    "\n",
    "# serialize model to JSON\n",
    "model_json = model.to_json()\n",
    "with open(\"Q2_Trained_Models/Q2_DNN_Model.json\", \"w\") as json_file:\n",
    "    json_file.write(model_json)\n",
    "# serialize weights to HDF5\n",
    "model.save_weights(\"Q2_Trained_Models/Q2_DNN_Model.h5\")\n",
    "print(\"Saved model to disk\")"
   ]
  },
  {
   "cell_type": "code",
   "execution_count": null,
   "metadata": {},
   "outputs": [],
   "source": []
  },
  {
   "cell_type": "code",
   "execution_count": null,
   "metadata": {},
   "outputs": [],
   "source": []
  }
 ],
 "metadata": {
  "kernelspec": {
   "display_name": "general_ML",
   "language": "python",
   "name": "general_ml"
  },
  "language_info": {
   "codemirror_mode": {
    "name": "ipython",
    "version": 3
   },
   "file_extension": ".py",
   "mimetype": "text/x-python",
   "name": "python",
   "nbconvert_exporter": "python",
   "pygments_lexer": "ipython3",
   "version": "3.9.2"
  }
 },
 "nbformat": 4,
 "nbformat_minor": 4
}
