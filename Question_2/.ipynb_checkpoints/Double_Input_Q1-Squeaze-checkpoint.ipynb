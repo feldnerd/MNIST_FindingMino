{
 "cells": [
  {
   "cell_type": "code",
   "execution_count": 1,
   "metadata": {},
   "outputs": [
    {
     "name": "stderr",
     "output_type": "stream",
     "text": [
      "Using TensorFlow backend.\n"
     ]
    }
   ],
   "source": [
    "import matplotlib.pyplot as plt\n",
    "import itertools\n",
    "import numpy as np\n",
    "import pandas as pd\n",
    "from keras.utils.np_utils import to_categorical\n",
    "import tensorflow as tf\n",
    "from tensorflow import keras\n",
    "from tensorflow.keras import layers\n",
    "from tensorflow.keras.models import Sequential, load_model\n",
    "from keras.datasets import mnist\n",
    "import itertools\n",
    "import random"
   ]
  },
  {
   "cell_type": "code",
   "execution_count": 2,
   "metadata": {},
   "outputs": [],
   "source": [
    "# Load data and split into training and test\n",
    "(train_images, train_labels), (test_images, test_labels) = mnist.load_data()"
   ]
  },
  {
   "cell_type": "code",
   "execution_count": 3,
   "metadata": {},
   "outputs": [],
   "source": [
    "# Split training set further into training and validation sets\n",
    "sample_size = 40000\n",
    "X_train, X_val, y_train, y_val = train_images[:sample_size], train_images[sample_size:sample_size*2],  train_labels[:sample_size], train_labels[sample_size:sample_size*2]"
   ]
  },
  {
   "cell_type": "code",
   "execution_count": 4,
   "metadata": {},
   "outputs": [],
   "source": [
    "# Randomly select a defined number of image paires from a given dataset\n",
    "def get_left_min_image_combinations(number_image_pairs_selected, image_data, image_labels):\n",
    "    \n",
    "    num_images_total = len(image_labels)\n",
    "    \n",
    "    image_list_left = []\n",
    "    image_list_right = []\n",
    "    image_combination_labels = []\n",
    "    \n",
    "    for i in range(number_image_pairs_selected):\n",
    "        \n",
    "        # Draw two image indices from a uniform random distribution\n",
    "        random_index_A = random.randint(0, num_images_total-1)\n",
    "        random_index_B = random.randint(0, num_images_total-1)\n",
    "        \n",
    "        # Randomly choose two images from the dataset\n",
    "        image_A = image_data[random_index_A]\n",
    "        image_B = image_data[random_index_B]\n",
    "        \n",
    "        # Find the minimum between the two labels\n",
    "        label_A = image_labels[random_index_A]\n",
    "        label_B = image_labels[random_index_B]\n",
    "        minimum_label = min(label_A, label_B)\n",
    "        \n",
    "        if label_A < label_B:\n",
    "            image_list_left.append(image_A)\n",
    "            image_list_right.append(image_B)\n",
    "            \n",
    "        elif label_A > label_B: \n",
    "            image_list_left.append(image_B)\n",
    "            image_list_right.append(image_A)\n",
    "           \n",
    "        image_combination_labels.append(minimum_label)\n",
    "        \n",
    "    # Convert image data and labels lists to numpy arrays\n",
    "    image_list_left = np.array(image_list_left)\n",
    "    image_list_right = np.array(image_list_right)\n",
    "    \n",
    "    image_combination_labels = np.array(image_combination_labels)\n",
    "    \n",
    "    return image_list_left, image_list_right , image_combination_labels"
   ]
  },
  {
   "cell_type": "code",
   "execution_count": 5,
   "metadata": {},
   "outputs": [],
   "source": [
    "# Randomly select a defined number of image paires from a given dataset\n",
    "def get_right_min_image_combinations(number_image_pairs_selected, image_data, image_labels):\n",
    "    \n",
    "    num_images_total = len(image_labels)\n",
    "    \n",
    "    image_list_left = []\n",
    "    image_list_right = []\n",
    "    image_combination_labels = []\n",
    "    \n",
    "    for i in range(number_image_pairs_selected):\n",
    "        \n",
    "        # Draw two image indices from a uniform random distribution\n",
    "        random_index_A = random.randint(0, num_images_total-1)\n",
    "        random_index_B = random.randint(0, num_images_total-1)\n",
    "        \n",
    "        # Randomly choose two images from the dataset\n",
    "        image_A = image_data[random_index_A]\n",
    "        image_B = image_data[random_index_B]\n",
    "        \n",
    "        # Find the minimum between the two labels\n",
    "        label_A = image_labels[random_index_A]\n",
    "        label_B = image_labels[random_index_B]\n",
    "        minimum_label = min(label_A, label_B)\n",
    "        \n",
    "        if label_A < label_B:\n",
    "            image_list_left.append(image_B)\n",
    "            image_list_right.append(image_A)\n",
    "\n",
    "        elif label_A > label_B: \n",
    "            image_list_left.append(image_A)\n",
    "            image_list_right.append(image_B)\n",
    "   \n",
    "        # Append newly generated image combination and minimum label to list\n",
    "        image_combination_labels.append(minimum_label)\n",
    "        \n",
    "    # Convert image data and labels lists to numpy arrays\n",
    "    image_list_left = np.array(image_list_left)\n",
    "    image_list_right = np.array(image_list_right)\n",
    "    image_combination_labels = np.array(image_combination_labels)\n",
    "    \n",
    "    return image_list_left, image_list_right , image_combination_labels"
   ]
  },
  {
   "cell_type": "code",
   "execution_count": 6,
   "metadata": {},
   "outputs": [],
   "source": [
    "# Randomly select a defined number of image paires from a given dataset\n",
    "def get_image_combinations(number_image_pairs_selected, image_data, image_labels):\n",
    "    \n",
    "    num_images_total = len(image_labels)\n",
    "    \n",
    "    image_list_left = []\n",
    "    image_list_right = []\n",
    "    image_combination_labels = []\n",
    "    \n",
    "    for i in range(number_image_pairs_selected):\n",
    "        \n",
    "        # Draw two image indices from a uniform random distribution\n",
    "        random_index_A = random.randint(0, num_images_total-1)\n",
    "        random_index_B = random.randint(0, num_images_total-1)\n",
    "        \n",
    "        # Randomly choose two images from the dataset\n",
    "        image_A = image_data[random_index_A]\n",
    "        image_B = image_data[random_index_B]\n",
    "        \n",
    "        # Find the minimum between the two labels\n",
    "        label_A = image_labels[random_index_A]\n",
    "        label_B = image_labels[random_index_B]\n",
    "        minimum_label = min(label_A, label_B)\n",
    "        \n",
    "        # Append newly generated image combination and minimum label to list\n",
    "        image_list_left.append(image_A)\n",
    "        \n",
    "        # Append newly generated image combination and minimum label to list\n",
    "        image_list_right.append(image_B)\n",
    "        \n",
    "        # Append labels\n",
    "        image_combination_labels.append(minimum_label)\n",
    "        \n",
    "    # Convert image data and labels lists to numpy arrays\n",
    "    image_list_left = np.array(image_list_left)\n",
    "    image_list_right = np.array(image_list_right)\n",
    "    image_combination_labels = np.array(image_combination_labels)\n",
    "    \n",
    "    return image_list_left, image_list_right, image_combination_labels"
   ]
  },
  {
   "cell_type": "code",
   "execution_count": 7,
   "metadata": {},
   "outputs": [],
   "source": [
    "combo_train_X_1, combo_train_X_2, combo_train_y = get_image_combinations(40000, X_train, y_train)\n",
    "combo_val_X_1, combo_val_X_2, combo_val_y = get_image_combinations(20000, X_val, y_val)"
   ]
  },
  {
   "cell_type": "code",
   "execution_count": 8,
   "metadata": {},
   "outputs": [],
   "source": [
    "combo_train_X_1 = combo_train_X_1.reshape(40000, 784).astype(\"float32\") / 255\n",
    "combo_train_X_2 = combo_train_X_2.reshape(40000, 784).astype(\"float32\") / 255\n",
    "\n",
    "combo_val_X_1 = combo_val_X_1.reshape(20000, 784).astype(\"float32\") / 255\n",
    "combo_val_X_2 = combo_val_X_2.reshape(20000, 784).astype(\"float32\") / 255\n",
    "\n",
    "train_labels = to_categorical(combo_train_y)\n",
    "val_labels = to_categorical(combo_val_y)"
   ]
  },
  {
   "cell_type": "code",
   "execution_count": 9,
   "metadata": {},
   "outputs": [
    {
     "data": {
      "text/plain": [
       "(40000, 10)"
      ]
     },
     "execution_count": 9,
     "metadata": {},
     "output_type": "execute_result"
    }
   ],
   "source": [
    "train_labels.shape"
   ]
  },
  {
   "cell_type": "code",
   "execution_count": 10,
   "metadata": {},
   "outputs": [
    {
     "data": {
      "text/plain": [
       "(20000, 10)"
      ]
     },
     "execution_count": 10,
     "metadata": {},
     "output_type": "execute_result"
    }
   ],
   "source": [
    "val_labels.shape"
   ]
  },
  {
   "cell_type": "code",
   "execution_count": 11,
   "metadata": {},
   "outputs": [
    {
     "data": {
      "text/plain": [
       "(20000, 784)"
      ]
     },
     "execution_count": 11,
     "metadata": {},
     "output_type": "execute_result"
    }
   ],
   "source": [
    "combo_val_X_1.shape"
   ]
  },
  {
   "cell_type": "code",
   "execution_count": 12,
   "metadata": {},
   "outputs": [
    {
     "data": {
      "text/plain": [
       "(20000, 784)"
      ]
     },
     "execution_count": 12,
     "metadata": {},
     "output_type": "execute_result"
    }
   ],
   "source": [
    "combo_val_X_2.shape"
   ]
  },
  {
   "cell_type": "code",
   "execution_count": 13,
   "metadata": {},
   "outputs": [],
   "source": [
    "def build_DNN_2_inputs():\n",
    "\n",
    "    inputs_1 = keras.Input(shape=(28*28,))\n",
    "    inputs_2 = keras.Input(shape=(28*28,))\n",
    "\n",
    "    # Merge all available features into a single large vector via concatenation\n",
    "    x = layers.concatenate([inputs_1, inputs_2])\n",
    "\n",
    "    dense = layers.Dense(512, activation=\"relu\")\n",
    "    x = dense(x)\n",
    "    outputs = layers.Dense(10, \"softmax\")(x)\n",
    "    \n",
    "    model = keras.Model(inputs=[inputs_1, inputs_2], \n",
    "                        outputs=outputs)\n",
    "\n",
    "    model.compile(\n",
    "        loss=keras.losses.CategoricalCrossentropy(),\n",
    "        optimizer=keras.optimizers.RMSprop(),\n",
    "        metrics=[\"accuracy\", \"mae\"],\n",
    "    )\n",
    "    \n",
    "    return model"
   ]
  },
  {
   "cell_type": "code",
   "execution_count": 14,
   "metadata": {},
   "outputs": [],
   "source": [
    "model = build_DNN_2_inputs()"
   ]
  },
  {
   "cell_type": "code",
   "execution_count": 15,
   "metadata": {},
   "outputs": [
    {
     "data": {
      "image/png": "[encoded data removed]",
      "text/plain": [
       "<IPython.core.display.Image object>"
      ]
     },
     "execution_count": 15,
     "metadata": {},
     "output_type": "execute_result"
    }
   ],
   "source": [
    "keras.utils.plot_model(model, show_shapes=True)"
   ]
  },
  {
   "cell_type": "code",
   "execution_count": 16,
   "metadata": {},
   "outputs": [
    {
     "name": "stdout",
     "output_type": "stream",
     "text": [
      "Epoch 1/8\n",
      "625/625 [==============================] - 2s 3ms/step - loss: 0.5968 - accuracy: 0.8043 - mae: 0.0577\n",
      "Epoch 2/8\n",
      "625/625 [==============================] - 2s 3ms/step - loss: 0.2870 - accuracy: 0.9077 - mae: 0.0288\n",
      "Epoch 3/8\n",
      "625/625 [==============================] - 2s 3ms/step - loss: 0.1924 - accuracy: 0.9398 - mae: 0.0197\n",
      "Epoch 4/8\n",
      "625/625 [==============================] - 2s 3ms/step - loss: 0.1362 - accuracy: 0.9585 - mae: 0.0141\n",
      "Epoch 5/8\n",
      "625/625 [==============================] - 2s 3ms/step - loss: 0.0949 - accuracy: 0.9707 - mae: 0.0103\n",
      "Epoch 6/8\n",
      "625/625 [==============================] - 2s 3ms/step - loss: 0.0671 - accuracy: 0.9796 - mae: 0.0075\n",
      "Epoch 7/8\n",
      "625/625 [==============================] - 2s 3ms/step - loss: 0.0461 - accuracy: 0.9863 - mae: 0.0055\n",
      "Epoch 8/8\n",
      "625/625 [==============================] - 2s 3ms/step - loss: 0.0315 - accuracy: 0.9908 - mae: 0.0039\n"
     ]
    },
    {
     "data": {
      "text/plain": [
       "<tensorflow.python.keras.callbacks.History at 0x11941a190>"
      ]
     },
     "execution_count": 16,
     "metadata": {},
     "output_type": "execute_result"
    }
   ],
   "source": [
    "model.fit([combo_train_X_1, combo_train_X_2], \n",
    "                    train_labels,\n",
    "                    batch_size=64, \n",
    "                    epochs=8)"
   ]
  },
  {
   "cell_type": "code",
   "execution_count": 17,
   "metadata": {},
   "outputs": [
    {
     "name": "stdout",
     "output_type": "stream",
     "text": [
      "625/625 - 1s - loss: 0.3444 - accuracy: 0.9198 - mae: 0.0178\n"
     ]
    },
    {
     "data": {
      "text/plain": [
       "[0.34436729550361633, 0.9198499917984009, 0.017780127003788948]"
      ]
     },
     "execution_count": 17,
     "metadata": {},
     "output_type": "execute_result"
    }
   ],
   "source": [
    "# # Print loss, mae and accuracy\n",
    "evalmodel = model.evaluate([combo_val_X_1, \n",
    "                              combo_val_X_2], \n",
    "                              val_labels, \n",
    "                              verbose=2)\n",
    "evalmodel"
   ]
  },
  {
   "cell_type": "code",
   "execution_count": null,
   "metadata": {},
   "outputs": [],
   "source": []
  },
  {
   "cell_type": "code",
   "execution_count": 18,
   "metadata": {},
   "outputs": [
    {
     "data": {
      "text/plain": [
       "(20000, 784)"
      ]
     },
     "execution_count": 18,
     "metadata": {},
     "output_type": "execute_result"
    }
   ],
   "source": [
    "combo_val_X_1.shape"
   ]
  },
  {
   "cell_type": "code",
   "execution_count": 19,
   "metadata": {},
   "outputs": [
    {
     "data": {
      "text/plain": [
       "(20000, 784)"
      ]
     },
     "execution_count": 19,
     "metadata": {},
     "output_type": "execute_result"
    }
   ],
   "source": [
    "combo_val_X_2.shape"
   ]
  },
  {
   "cell_type": "code",
   "execution_count": 29,
   "metadata": {},
   "outputs": [
    {
     "name": "stdout",
     "output_type": "stream",
     "text": [
      "processing fold # 0\n",
      "Epoch 1/20\n",
      "547/547 [==============================] - 2s 3ms/step - loss: 0.6353 - accuracy: 0.7939 - mae: 0.0608 - val_loss: 0.3920 - val_accuracy: 0.8700 - val_mae: 0.0397\n",
      "Epoch 2/20\n",
      "547/547 [==============================] - 2s 3ms/step - loss: 0.3096 - accuracy: 0.9011 - mae: 0.0313 - val_loss: 0.3394 - val_accuracy: 0.8908 - val_mae: 0.0324\n",
      "Epoch 3/20\n",
      "547/547 [==============================] - 2s 3ms/step - loss: 0.2089 - accuracy: 0.9358 - mae: 0.0212 - val_loss: 0.2677 - val_accuracy: 0.9158 - val_mae: 0.0238\n",
      "Epoch 4/20\n",
      "547/547 [==============================] - 2s 3ms/step - loss: 0.1484 - accuracy: 0.9542 - mae: 0.0155 - val_loss: 0.2372 - val_accuracy: 0.9264 - val_mae: 0.0208\n",
      "Epoch 5/20\n",
      "547/547 [==============================] - 2s 3ms/step - loss: 0.1038 - accuracy: 0.9676 - mae: 0.0113 - val_loss: 0.2338 - val_accuracy: 0.9280 - val_mae: 0.0187\n",
      "Epoch 6/20\n",
      "547/547 [==============================] - 2s 3ms/step - loss: 0.0714 - accuracy: 0.9784 - mae: 0.0081 - val_loss: 0.2461 - val_accuracy: 0.9292 - val_mae: 0.0180\n",
      "Epoch 7/20\n",
      "547/547 [==============================] - 2s 3ms/step - loss: 0.0499 - accuracy: 0.9854 - mae: 0.0059 - val_loss: 0.2496 - val_accuracy: 0.9280 - val_mae: 0.0171\n",
      "Epoch 8/20\n",
      "547/547 [==============================] - 2s 3ms/step - loss: 0.0331 - accuracy: 0.9901 - mae: 0.0042 - val_loss: 0.2840 - val_accuracy: 0.9262 - val_mae: 0.0168\n",
      "Epoch 9/20\n",
      "547/547 [==============================] - 2s 3ms/step - loss: 0.0246 - accuracy: 0.9928 - mae: 0.0031 - val_loss: 0.2616 - val_accuracy: 0.9310 - val_mae: 0.0155\n",
      "Epoch 10/20\n",
      "547/547 [==============================] - 2s 3ms/step - loss: 0.0156 - accuracy: 0.9957 - mae: 0.0022 - val_loss: 0.2786 - val_accuracy: 0.9324 - val_mae: 0.0149\n",
      "Epoch 11/20\n",
      "547/547 [==============================] - 2s 3ms/step - loss: 0.0114 - accuracy: 0.9969 - mae: 0.0015 - val_loss: 0.2997 - val_accuracy: 0.9332 - val_mae: 0.0147\n",
      "Epoch 12/20\n",
      "547/547 [==============================] - 2s 3ms/step - loss: 0.0090 - accuracy: 0.9976 - mae: 0.0012 - val_loss: 0.3011 - val_accuracy: 0.9332 - val_mae: 0.0146\n",
      "Epoch 13/20\n",
      "547/547 [==============================] - 2s 3ms/step - loss: 0.0065 - accuracy: 0.9981 - mae: 9.0918e-04 - val_loss: 0.3137 - val_accuracy: 0.9344 - val_mae: 0.0142\n",
      "Epoch 14/20\n",
      "547/547 [==============================] - 2s 3ms/step - loss: 0.0051 - accuracy: 0.9983 - mae: 7.1960e-04 - val_loss: 0.3515 - val_accuracy: 0.9318 - val_mae: 0.0144\n",
      "Epoch 15/20\n",
      "547/547 [==============================] - 2s 3ms/step - loss: 0.0040 - accuracy: 0.9988 - mae: 5.5888e-04 - val_loss: 0.3707 - val_accuracy: 0.9296 - val_mae: 0.0147\n",
      "Epoch 16/20\n",
      "547/547 [==============================] - 2s 3ms/step - loss: 0.0028 - accuracy: 0.9991 - mae: 4.0714e-04 - val_loss: 0.3674 - val_accuracy: 0.9330 - val_mae: 0.0143\n",
      "Epoch 17/20\n",
      "547/547 [==============================] - 2s 3ms/step - loss: 0.0024 - accuracy: 0.9994 - mae: 3.4270e-04 - val_loss: 0.3926 - val_accuracy: 0.9304 - val_mae: 0.0143\n",
      "Epoch 18/20\n",
      "547/547 [==============================] - 2s 3ms/step - loss: 0.0022 - accuracy: 0.9992 - mae: 3.0772e-04 - val_loss: 0.4193 - val_accuracy: 0.9318 - val_mae: 0.0142\n",
      "Epoch 19/20\n",
      "547/547 [==============================] - 2s 3ms/step - loss: 0.0016 - accuracy: 0.9996 - mae: 2.2942e-04 - val_loss: 0.4041 - val_accuracy: 0.9312 - val_mae: 0.0142\n",
      "Epoch 20/20\n",
      "547/547 [==============================] - 2s 3ms/step - loss: 0.0013 - accuracy: 0.9997 - mae: 1.9092e-04 - val_loss: 0.4151 - val_accuracy: 0.9362 - val_mae: 0.0135\n",
      "processing fold # 1\n",
      "Epoch 1/20\n",
      "547/547 [==============================] - 2s 3ms/step - loss: 0.6305 - accuracy: 0.7949 - mae: 0.0604 - val_loss: 0.4807 - val_accuracy: 0.8420 - val_mae: 0.0451\n",
      "Epoch 2/20\n",
      "547/547 [==============================] - 2s 3ms/step - loss: 0.3091 - accuracy: 0.9009 - mae: 0.0313 - val_loss: 0.3697 - val_accuracy: 0.8808 - val_mae: 0.0348\n",
      "Epoch 3/20\n",
      "547/547 [==============================] - 2s 3ms/step - loss: 0.2076 - accuracy: 0.9351 - mae: 0.0214 - val_loss: 0.2637 - val_accuracy: 0.9174 - val_mae: 0.0237\n",
      "Epoch 4/20\n",
      "547/547 [==============================] - 2s 3ms/step - loss: 0.1452 - accuracy: 0.9558 - mae: 0.0153 - val_loss: 0.2411 - val_accuracy: 0.9266 - val_mae: 0.0205\n",
      "Epoch 5/20\n",
      "547/547 [==============================] - 2s 3ms/step - loss: 0.1012 - accuracy: 0.9695 - mae: 0.0110 - val_loss: 0.2384 - val_accuracy: 0.9288 - val_mae: 0.0185\n",
      "Epoch 6/20\n",
      "547/547 [==============================] - 2s 4ms/step - loss: 0.0690 - accuracy: 0.9794 - mae: 0.0079 - val_loss: 0.2677 - val_accuracy: 0.9236 - val_mae: 0.0183\n",
      "Epoch 7/20\n",
      "547/547 [==============================] - 3s 5ms/step - loss: 0.0485 - accuracy: 0.9851 - mae: 0.0058 - val_loss: 0.2743 - val_accuracy: 0.9260 - val_mae: 0.0175\n",
      "Epoch 8/20\n",
      "547/547 [==============================] - 4s 8ms/step - loss: 0.0328 - accuracy: 0.9906 - mae: 0.0041 - val_loss: 0.2480 - val_accuracy: 0.9352 - val_mae: 0.0151\n",
      "Epoch 9/20\n",
      "547/547 [==============================] - 6s 11ms/step - loss: 0.0218 - accuracy: 0.9937 - mae: 0.0029 - val_loss: 0.2949 - val_accuracy: 0.9278 - val_mae: 0.0161\n",
      "Epoch 10/20\n",
      "547/547 [==============================] - 4s 8ms/step - loss: 0.0149 - accuracy: 0.9958 - mae: 0.0021 - val_loss: 0.3312 - val_accuracy: 0.9306 - val_mae: 0.0155\n",
      "Epoch 11/20\n",
      "547/547 [==============================] - 3s 5ms/step - loss: 0.0113 - accuracy: 0.9971 - mae: 0.0016 - val_loss: 0.3074 - val_accuracy: 0.9340 - val_mae: 0.0146\n",
      "Epoch 12/20\n",
      "547/547 [==============================] - 2s 4ms/step - loss: 0.0081 - accuracy: 0.9976 - mae: 0.0012 - val_loss: 0.3315 - val_accuracy: 0.9300 - val_mae: 0.0153\n",
      "Epoch 13/20\n",
      "547/547 [==============================] - 2s 4ms/step - loss: 0.0062 - accuracy: 0.9981 - mae: 8.9291e-04 - val_loss: 0.3403 - val_accuracy: 0.9362 - val_mae: 0.0141\n",
      "Epoch 14/20\n",
      "547/547 [==============================] - 2s 3ms/step - loss: 0.0046 - accuracy: 0.9988 - mae: 6.7392e-04 - val_loss: 0.3527 - val_accuracy: 0.9342 - val_mae: 0.0140\n",
      "Epoch 15/20\n",
      "547/547 [==============================] - 2s 3ms/step - loss: 0.0033 - accuracy: 0.9990 - mae: 4.8658e-04 - val_loss: 0.3312 - val_accuracy: 0.9394 - val_mae: 0.0134\n",
      "Epoch 16/20\n",
      "547/547 [==============================] - 2s 3ms/step - loss: 0.0034 - accuracy: 0.9989 - mae: 4.7130e-04 - val_loss: 0.3438 - val_accuracy: 0.9372 - val_mae: 0.0132\n",
      "Epoch 17/20\n",
      "547/547 [==============================] - 2s 4ms/step - loss: 0.0026 - accuracy: 0.9993 - mae: 3.4609e-04 - val_loss: 0.3738 - val_accuracy: 0.9342 - val_mae: 0.0137\n",
      "Epoch 18/20\n",
      "547/547 [==============================] - 2s 4ms/step - loss: 0.0019 - accuracy: 0.9995 - mae: 2.4329e-04 - val_loss: 0.3773 - val_accuracy: 0.9382 - val_mae: 0.0130\n",
      "Epoch 19/20\n",
      "547/547 [==============================] - 2s 4ms/step - loss: 0.0013 - accuracy: 0.9997 - mae: 2.0023e-04 - val_loss: 0.3836 - val_accuracy: 0.9388 - val_mae: 0.0130\n",
      "Epoch 20/20\n",
      "547/547 [==============================] - 2s 4ms/step - loss: 0.0019 - accuracy: 0.9994 - mae: 2.2728e-04 - val_loss: 0.4002 - val_accuracy: 0.9354 - val_mae: 0.0135\n",
      "processing fold # 2\n",
      "Epoch 1/20\n",
      "547/547 [==============================] - 3s 5ms/step - loss: 0.6355 - accuracy: 0.7896 - mae: 0.0613 - val_loss: 0.4152 - val_accuracy: 0.8642 - val_mae: 0.0418\n",
      "Epoch 2/20\n",
      "547/547 [==============================] - 2s 4ms/step - loss: 0.3111 - accuracy: 0.9006 - mae: 0.0316 - val_loss: 0.3561 - val_accuracy: 0.8846 - val_mae: 0.0329\n",
      "Epoch 3/20\n",
      "547/547 [==============================] - 2s 4ms/step - loss: 0.2061 - accuracy: 0.9359 - mae: 0.0213 - val_loss: 0.3013 - val_accuracy: 0.9118 - val_mae: 0.0253\n",
      "Epoch 4/20\n",
      "547/547 [==============================] - 2s 4ms/step - loss: 0.1428 - accuracy: 0.9560 - mae: 0.0152 - val_loss: 0.2830 - val_accuracy: 0.9220 - val_mae: 0.0218\n",
      "Epoch 5/20\n",
      "547/547 [==============================] - 2s 4ms/step - loss: 0.1008 - accuracy: 0.9696 - mae: 0.0110 - val_loss: 0.2889 - val_accuracy: 0.9174 - val_mae: 0.0210\n",
      "Epoch 6/20\n",
      "547/547 [==============================] - 2s 4ms/step - loss: 0.0676 - accuracy: 0.9791 - mae: 0.0079 - val_loss: 0.3037 - val_accuracy: 0.9254 - val_mae: 0.0186\n",
      "Epoch 7/20\n",
      "547/547 [==============================] - 2s 4ms/step - loss: 0.0484 - accuracy: 0.9858 - mae: 0.0058 - val_loss: 0.3060 - val_accuracy: 0.9260 - val_mae: 0.0177\n",
      "Epoch 8/20\n",
      "547/547 [==============================] - 2s 4ms/step - loss: 0.0308 - accuracy: 0.9912 - mae: 0.0039 - val_loss: 0.3482 - val_accuracy: 0.9216 - val_mae: 0.0177\n",
      "Epoch 9/20\n",
      "547/547 [==============================] - 2s 4ms/step - loss: 0.0212 - accuracy: 0.9939 - mae: 0.0029 - val_loss: 0.3343 - val_accuracy: 0.9252 - val_mae: 0.0168\n",
      "Epoch 10/20\n",
      "547/547 [==============================] - 2s 4ms/step - loss: 0.0146 - accuracy: 0.9964 - mae: 0.0020 - val_loss: 0.3646 - val_accuracy: 0.9260 - val_mae: 0.0165\n",
      "Epoch 11/20\n",
      "547/547 [==============================] - 2s 4ms/step - loss: 0.0103 - accuracy: 0.9972 - mae: 0.0015 - val_loss: 0.3778 - val_accuracy: 0.9278 - val_mae: 0.0158\n",
      "Epoch 12/20\n",
      "547/547 [==============================] - 2s 4ms/step - loss: 0.0080 - accuracy: 0.9978 - mae: 0.0011 - val_loss: 0.3912 - val_accuracy: 0.9292 - val_mae: 0.0155\n",
      "Epoch 13/20\n",
      "547/547 [==============================] - 2s 4ms/step - loss: 0.0055 - accuracy: 0.9985 - mae: 8.2321e-04 - val_loss: 0.4258 - val_accuracy: 0.9266 - val_mae: 0.0158\n",
      "Epoch 14/20\n",
      "547/547 [==============================] - 2s 4ms/step - loss: 0.0045 - accuracy: 0.9986 - mae: 6.5584e-04 - val_loss: 0.4294 - val_accuracy: 0.9304 - val_mae: 0.0151\n",
      "Epoch 15/20\n",
      "547/547 [==============================] - 2s 4ms/step - loss: 0.0033 - accuracy: 0.9992 - mae: 4.8091e-04 - val_loss: 0.4709 - val_accuracy: 0.9250 - val_mae: 0.0154\n",
      "Epoch 16/20\n",
      "547/547 [==============================] - 2s 4ms/step - loss: 0.0032 - accuracy: 0.9992 - mae: 3.7946e-04 - val_loss: 0.4607 - val_accuracy: 0.9296 - val_mae: 0.0147\n",
      "Epoch 17/20\n",
      "547/547 [==============================] - 2s 4ms/step - loss: 0.0023 - accuracy: 0.9994 - mae: 3.1669e-04 - val_loss: 0.4893 - val_accuracy: 0.9298 - val_mae: 0.0147\n",
      "Epoch 18/20\n",
      "547/547 [==============================] - 2s 4ms/step - loss: 0.0017 - accuracy: 0.9996 - mae: 2.4676e-04 - val_loss: 0.5306 - val_accuracy: 0.9240 - val_mae: 0.0155\n",
      "Epoch 19/20\n",
      "547/547 [==============================] - 2s 4ms/step - loss: 0.0015 - accuracy: 0.9997 - mae: 1.8278e-04 - val_loss: 0.5232 - val_accuracy: 0.9312 - val_mae: 0.0144\n",
      "Epoch 20/20\n",
      "547/547 [==============================] - 2s 4ms/step - loss: 0.0019 - accuracy: 0.9995 - mae: 1.8217e-04 - val_loss: 0.5330 - val_accuracy: 0.9318 - val_mae: 0.0144\n",
      "processing fold # 3\n",
      "Epoch 1/20\n",
      "547/547 [==============================] - 3s 4ms/step - loss: 0.6430 - accuracy: 0.7881 - mae: 0.0618 - val_loss: 0.4292 - val_accuracy: 0.8648 - val_mae: 0.0415\n",
      "Epoch 2/20\n",
      "547/547 [==============================] - 2s 4ms/step - loss: 0.3146 - accuracy: 0.9001 - mae: 0.0319 - val_loss: 0.3160 - val_accuracy: 0.9002 - val_mae: 0.0292\n",
      "Epoch 3/20\n",
      "547/547 [==============================] - 2s 4ms/step - loss: 0.2112 - accuracy: 0.9354 - mae: 0.0216 - val_loss: 0.2652 - val_accuracy: 0.9208 - val_mae: 0.0235\n",
      "Epoch 4/20\n",
      "547/547 [==============================] - 2s 4ms/step - loss: 0.1462 - accuracy: 0.9544 - mae: 0.0155 - val_loss: 0.2730 - val_accuracy: 0.9200 - val_mae: 0.0215\n",
      "Epoch 5/20\n",
      "547/547 [==============================] - 2s 4ms/step - loss: 0.1024 - accuracy: 0.9690 - mae: 0.0112 - val_loss: 0.2667 - val_accuracy: 0.9232 - val_mae: 0.0193\n",
      "Epoch 6/20\n",
      "547/547 [==============================] - 2s 4ms/step - loss: 0.0707 - accuracy: 0.9786 - mae: 0.0081 - val_loss: 0.2672 - val_accuracy: 0.9236 - val_mae: 0.0183\n",
      "Epoch 7/20\n",
      "547/547 [==============================] - 2s 4ms/step - loss: 0.0498 - accuracy: 0.9851 - mae: 0.0058 - val_loss: 0.2646 - val_accuracy: 0.9306 - val_mae: 0.0169\n",
      "Epoch 8/20\n",
      "547/547 [==============================] - 2s 4ms/step - loss: 0.0340 - accuracy: 0.9900 - mae: 0.0042 - val_loss: 0.2783 - val_accuracy: 0.9326 - val_mae: 0.0160\n",
      "Epoch 9/20\n",
      "547/547 [==============================] - 2s 4ms/step - loss: 0.0236 - accuracy: 0.9929 - mae: 0.0031 - val_loss: 0.3186 - val_accuracy: 0.9262 - val_mae: 0.0162\n",
      "Epoch 10/20\n",
      "547/547 [==============================] - 2s 4ms/step - loss: 0.0163 - accuracy: 0.9954 - mae: 0.0022 - val_loss: 0.3069 - val_accuracy: 0.9308 - val_mae: 0.0152\n",
      "Epoch 11/20\n",
      "547/547 [==============================] - 2s 4ms/step - loss: 0.0126 - accuracy: 0.9967 - mae: 0.0017 - val_loss: 0.3291 - val_accuracy: 0.9300 - val_mae: 0.0151\n",
      "Epoch 12/20\n",
      "547/547 [==============================] - 2s 4ms/step - loss: 0.0083 - accuracy: 0.9980 - mae: 0.0012 - val_loss: 0.3405 - val_accuracy: 0.9298 - val_mae: 0.0152\n",
      "Epoch 13/20\n",
      "547/547 [==============================] - 2s 4ms/step - loss: 0.0063 - accuracy: 0.9983 - mae: 8.9473e-04 - val_loss: 0.3319 - val_accuracy: 0.9306 - val_mae: 0.0146\n",
      "Epoch 14/20\n",
      "547/547 [==============================] - 2s 4ms/step - loss: 0.0052 - accuracy: 0.9986 - mae: 7.0471e-04 - val_loss: 0.3876 - val_accuracy: 0.9290 - val_mae: 0.0147\n",
      "Epoch 15/20\n",
      "547/547 [==============================] - 2s 4ms/step - loss: 0.0042 - accuracy: 0.9987 - mae: 5.7395e-04 - val_loss: 0.3712 - val_accuracy: 0.9340 - val_mae: 0.0143\n",
      "Epoch 16/20\n",
      "547/547 [==============================] - 2s 4ms/step - loss: 0.0030 - accuracy: 0.9990 - mae: 4.2539e-04 - val_loss: 0.4329 - val_accuracy: 0.9302 - val_mae: 0.0149\n",
      "Epoch 17/20\n",
      "547/547 [==============================] - 2s 4ms/step - loss: 0.0023 - accuracy: 0.9994 - mae: 3.3732e-04 - val_loss: 0.4171 - val_accuracy: 0.9322 - val_mae: 0.0142\n",
      "Epoch 18/20\n",
      "547/547 [==============================] - 2s 4ms/step - loss: 0.0024 - accuracy: 0.9993 - mae: 3.1887e-04 - val_loss: 0.4371 - val_accuracy: 0.9302 - val_mae: 0.0147\n",
      "Epoch 19/20\n",
      "547/547 [==============================] - 2s 4ms/step - loss: 0.0020 - accuracy: 0.9993 - mae: 2.6149e-04 - val_loss: 0.4605 - val_accuracy: 0.9286 - val_mae: 0.0149\n",
      "Epoch 20/20\n",
      "547/547 [==============================] - 2s 4ms/step - loss: 0.0011 - accuracy: 0.9998 - mae: 1.5583e-04 - val_loss: 0.4611 - val_accuracy: 0.9304 - val_mae: 0.0143\n"
     ]
    }
   ],
   "source": [
    "# Perform k-fold cross-validation to understand the optimal number of epochs to train on\n",
    "k = 4\n",
    "num_val_samples = len(combo_val_X_1)//k\n",
    "\n",
    "num_epochs = 20\n",
    "\n",
    "all_val_mae_histories = []\n",
    "all_train_mae_histories = []\n",
    "\n",
    "for i in range(k):\n",
    "    \n",
    "    print('processing fold #', i)\n",
    "    val_data_1 = combo_train_X_1[i * num_val_samples: (i + 1) * num_val_samples]\n",
    "    val_data_2 = combo_train_X_2[i * num_val_samples: (i + 1) * num_val_samples]\n",
    "    \n",
    "    val_targets = train_labels[i * num_val_samples: (i + 1) * num_val_samples]\n",
    "    \n",
    "    partial_train_data_1 = np.concatenate(\n",
    "    [combo_train_X_1[:i * num_val_samples],\n",
    "    combo_train_X_1[(i+1) * num_val_samples:]],\n",
    "    axis = 0)\n",
    "    \n",
    "    partial_train_data_2 = np.concatenate(\n",
    "    [combo_train_X_2[:i * num_val_samples],\n",
    "    combo_train_X_2[(i+1) * num_val_samples:]],\n",
    "    axis = 0)\n",
    "    \n",
    "    partial_train_targets = np.concatenate(\n",
    "    [train_labels[:i*num_val_samples],\n",
    "    train_labels[(i+1)*num_val_samples:]],\n",
    "    axis = 0)\n",
    "    \n",
    "    model = build_DNN_2_inputs()\n",
    "    history = model.fit([partial_train_data_1, partial_train_data_2],\n",
    "              partial_train_targets,\n",
    "              validation_data = ([val_data_1, val_data_2], val_targets),\n",
    "              epochs = num_epochs,\n",
    "              batch_size = 64,\n",
    "              verbose = 0)\n",
    "    \n",
    "    val_mae_history = history.history['val_mae']\n",
    "    all_val_mae_histories.append(val_mae_history)\n",
    "    \n",
    "    train_mae_history = history.history['mae']\n",
    "    all_train_mae_histories.append(train_mae_history)"
   ]
  },
  {
   "cell_type": "code",
   "execution_count": 31,
   "metadata": {},
   "outputs": [
    {
     "data": {
      "image/png": "[encoded data removed]",
      "text/plain": [
       "<Figure size 432x288 with 1 Axes>"
      ]
     },
     "metadata": {
      "needs_background": "light"
     },
     "output_type": "display_data"
    },
    {
     "data": {
      "text/plain": [
       "<Figure size 432x288 with 0 Axes>"
      ]
     },
     "metadata": {},
     "output_type": "display_data"
    }
   ],
   "source": [
    "# Compute the average of the per-epoch MAE scores for all folds\n",
    "# Building the history of successive mean K-fold validation scores\n",
    "\n",
    "average_val_mae_history = [\n",
    "    np.mean([x[i] for x in all_val_mae_histories]) for i in range(num_epochs)]\n",
    "\n",
    "average_train_mae_history = [\n",
    "    np.mean([x[i] for x in all_train_mae_histories]) for i in range(num_epochs)]\n",
    "\n",
    "\n",
    "plt.plot(range(1, len(average_train_mae_history) + 1), average_train_mae_history, label = 'Training')\n",
    "plt.plot(range(1, len(average_val_mae_history) + 1), average_val_mae_history, label='Validation')\n",
    "\n",
    "plt.xlabel('Epochs')\n",
    "plt.ylabel('Mean Absolute Error')\n",
    "plt.legend()\n",
    "plt.show()\n",
    "plt.savefig('Double_Input_DNN.png')"
   ]
  },
  {
   "cell_type": "code",
   "execution_count": null,
   "metadata": {},
   "outputs": [],
   "source": []
  },
  {
   "cell_type": "code",
   "execution_count": null,
   "metadata": {},
   "outputs": [],
   "source": []
  },
  {
   "cell_type": "code",
   "execution_count": 38,
   "metadata": {},
   "outputs": [
    {
     "name": "stdout",
     "output_type": "stream",
     "text": [
      "Saved model to disk\n"
     ]
    }
   ],
   "source": [
    "# serialize model to JSON\n",
    "model_json = model.to_json()\n",
    "with open(\"Trained_Models/Model.json\", \"w\") as json_file:\n",
    "    json_file.write(model_json)\n",
    "# serialize weights to HDF5\n",
    "model.save_weights(\"Trained_Models/Model.h5\")\n",
    "print(\"Saved model to disk\")"
   ]
  },
  {
   "cell_type": "code",
   "execution_count": 9,
   "metadata": {},
   "outputs": [],
   "source": [
    "# Verify above by visually inspecting images from the predicted set\n",
    "num_val_images = 10000"
   ]
  },
  {
   "cell_type": "code",
   "execution_count": 21,
   "metadata": {},
   "outputs": [
    {
     "name": "stdout",
     "output_type": "stream",
     "text": [
      "Predicted: 5\n",
      "True: 7\n"
     ]
    },
    {
     "data": {
      "image/png": "[encoded data removed]",
      "text/plain": [
       "<Figure size 432x288 with 1 Axes>"
      ]
     },
     "metadata": {
      "needs_background": "light"
     },
     "output_type": "display_data"
    }
   ],
   "source": [
    "# Run this cell repeatedly to see multiple examples\n",
    "check_index = random.randint(0,num_val_images)\n",
    "plt.imshow(val_images[check_index].reshape(28,56), cmap = plt.cm.binary)\n",
    "print(\"Predicted: \" + str(np.argmax(y_predict[check_index])))\n",
    "print(\"True: \" + str(np.argmax(val_labels[check_index])))"
   ]
  },
  {
   "cell_type": "code",
   "execution_count": 20,
   "metadata": {},
   "outputs": [],
   "source": []
  },
  {
   "cell_type": "code",
   "execution_count": null,
   "metadata": {},
   "outputs": [],
   "source": []
  }
 ],
 "metadata": {
  "kernelspec": {
   "display_name": "general_ML",
   "language": "python",
   "name": "general_ml"
  },
  "language_info": {
   "codemirror_mode": {
    "name": "ipython",
    "version": 3
   },
   "file_extension": ".py",
   "mimetype": "text/x-python",
   "name": "python",
   "nbconvert_exporter": "python",
   "pygments_lexer": "ipython3",
   "version": "3.9.2"
  }
 },
 "nbformat": 4,
 "nbformat_minor": 4
}
