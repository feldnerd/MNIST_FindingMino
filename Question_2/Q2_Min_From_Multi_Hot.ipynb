{
 "cells": [
  {
   "cell_type": "code",
   "execution_count": 1,
   "metadata": {},
   "outputs": [
    {
     "name": "stderr",
     "output_type": "stream",
     "text": [
      "Using TensorFlow backend.\n"
     ]
    }
   ],
   "source": [
    "import matplotlib.pyplot as plt\n",
    "import numpy as np\n",
    "import pandas as pd\n",
    "from keras.utils.np_utils import to_categorical\n",
    "import tensorflow as tf\n",
    "from tensorflow import keras\n",
    "from tensorflow.keras import layers\n",
    "from tensorflow.keras.models import Sequential, load_model\n",
    "from keras.datasets import mnist\n",
    "import random\n",
    "\n",
    "import sys\n",
    "sys.path.append('../')\n",
    "from Core_Functions import multi_hot_encoding, neural_networks\n",
    "from sklearn.model_selection import train_test_split"
   ]
  },
  {
   "cell_type": "code",
   "execution_count": 2,
   "metadata": {},
   "outputs": [],
   "source": [
    "# And a one-hot encoded target denoting the index of the maximum of the inputs\n",
    "y = []\n",
    "x = []\n",
    "for ints in range(5000):\n",
    "    \n",
    "    x1 = np.random.randint(0,10)\n",
    "    x2 = np.random.randint(0,10)\n",
    "    \n",
    "    if x1!= x2:\n",
    "        x.append([x1,x2])\n",
    "        y.append(min(x1,x2))\n"
   ]
  },
  {
   "cell_type": "code",
   "execution_count": 3,
   "metadata": {},
   "outputs": [],
   "source": [
    "# And a one-hot encoded target denoting the index of the maximum of the inputs\n",
    "y_val = []\n",
    "x_val = []\n",
    "for ints in range(5000):\n",
    "    \n",
    "    x1 = np.random.randint(0,10)\n",
    "    x2 = np.random.randint(0,10)\n",
    "    \n",
    "    if x1!= x2:\n",
    "        x_val.append([x1,x2])\n",
    "        y_val.append(min(x1,x2))"
   ]
  },
  {
   "cell_type": "code",
   "execution_count": 4,
   "metadata": {},
   "outputs": [],
   "source": [
    "# Conversion to umopy arrays\n",
    "x = np.array(x)\n",
    "y = np.array(y)\n",
    "\n",
    "x_val = np.array(x_val)\n",
    "y_val = np.array(y_val)"
   ]
  },
  {
   "cell_type": "code",
   "execution_count": 6,
   "metadata": {},
   "outputs": [],
   "source": [
    "x = np.array(multi_hot_encoding.multi_hot_encode(x))\n",
    "x_val =  np.array(multi_hot_encoding.multi_hot_encode(x_val))\n",
    "\n",
    "y = to_categorical(y)\n",
    "y_val =  to_categorical(y_val)"
   ]
  },
  {
   "cell_type": "code",
   "execution_count": 7,
   "metadata": {},
   "outputs": [
    {
     "name": "stdout",
     "output_type": "stream",
     "text": [
      "Model: \"sequential\"\n",
      "_________________________________________________________________\n",
      "Layer (type)                 Output Shape              Param #   \n",
      "=================================================================\n",
      "dense (Dense)                (None, 512)               5632      \n",
      "_________________________________________________________________\n",
      "dense_1 (Dense)              (None, 9)                 4617      \n",
      "=================================================================\n",
      "Total params: 10,249\n",
      "Trainable params: 10,249\n",
      "Non-trainable params: 0\n",
      "_________________________________________________________________\n"
     ]
    }
   ],
   "source": [
    "DNN_model = neural_networks.build_DNN_multi_hot_decode()\n",
    "DNN_model.summary()"
   ]
  },
  {
   "cell_type": "code",
   "execution_count": 10,
   "metadata": {},
   "outputs": [
    {
     "name": "stdout",
     "output_type": "stream",
     "text": [
      "Epoch 1/2\n",
      "4536/4536 [==============================] - 2s 459us/step - loss: 0.1015 - accuracy: 0.9791 - mae: 0.1122\n",
      "Epoch 2/2\n",
      "4536/4536 [==============================] - 2s 457us/step - loss: 4.3889e-09 - accuracy: 1.0000 - mae: 0.1110\n"
     ]
    },
    {
     "data": {
      "text/plain": [
       "<tensorflow.python.keras.callbacks.History at 0x150845640>"
      ]
     },
     "execution_count": 10,
     "metadata": {},
     "output_type": "execute_result"
    }
   ],
   "source": [
    "# Fit model\n",
    "DNN_model = neural_networks.build_DNN_multi_hot_decode()\n",
    "DNN_model.fit(x, \n",
    "          y, \n",
    "          epochs = 2, \n",
    "          batch_size = 1)\n"
   ]
  },
  {
   "cell_type": "code",
   "execution_count": 11,
   "metadata": {},
   "outputs": [
    {
     "name": "stdout",
     "output_type": "stream",
     "text": [
      "142/142 [==============================] - 0s 472us/step - loss: 0.0000e+00 - accuracy: 1.0000 - mae: 0.1111\n"
     ]
    },
    {
     "data": {
      "text/plain": [
       "[0.0, 1.0, 0.1110924556851387]"
      ]
     },
     "execution_count": 11,
     "metadata": {},
     "output_type": "execute_result"
    }
   ],
   "source": [
    "test = DNN_model.evaluate(x_val, y_val)\n",
    "test"
   ]
  },
  {
   "cell_type": "code",
   "execution_count": 12,
   "metadata": {},
   "outputs": [
    {
     "name": "stdout",
     "output_type": "stream",
     "text": [
      "INFO:tensorflow:Assets written to: multi_hot_decoder_DNN/assets\n"
     ]
    }
   ],
   "source": [
    "DNN_model.save(\"multi_hot_decoder_DNN\")"
   ]
  },
  {
   "cell_type": "code",
   "execution_count": null,
   "metadata": {},
   "outputs": [],
   "source": []
  }
 ],
 "metadata": {
  "kernelspec": {
   "display_name": "general_ML",
   "language": "python",
   "name": "general_ml"
  },
  "language_info": {
   "codemirror_mode": {
    "name": "ipython",
    "version": 3
   },
   "file_extension": ".py",
   "mimetype": "text/x-python",
   "name": "python",
   "nbconvert_exporter": "python",
   "pygments_lexer": "ipython3",
   "version": "3.9.2"
  }
 },
 "nbformat": 4,
 "nbformat_minor": 4
}
