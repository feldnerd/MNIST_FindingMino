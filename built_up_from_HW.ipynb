{
 "cells": [
  {
   "cell_type": "code",
   "execution_count": 110,
   "metadata": {},
   "outputs": [],
   "source": [
    "from sklearn.datasets import fetch_openml\n",
    "import matplotlib.pyplot as plt\n",
    "import itertools\n",
    "import numpy as np\n",
    "import pandas as pd\n",
    "from keras.utils.np_utils import to_categorical\n",
    "import tensorflow as tf\n",
    "from tensorflow import keras\n",
    "from tensorflow.keras import layers\n",
    "from tensorflow.keras.models import Sequential, load_model\n",
    "from keras.datasets import mnist\n",
    "import itertools\n",
    "plt.style.use('dark_background')"
   ]
  },
  {
   "cell_type": "code",
   "execution_count": 111,
   "metadata": {},
   "outputs": [],
   "source": [
    "(train_images, train_labels), (test_images, test_labels) = mnist.load_data()"
   ]
  },
  {
   "cell_type": "code",
   "execution_count": 112,
   "metadata": {},
   "outputs": [
    {
     "name": "stdout",
     "output_type": "stream",
     "text": [
      "(28, 28)\n"
     ]
    },
    {
     "data": {
      "text/plain": [
       "<matplotlib.image.AxesImage at 0x15aa16d60>"
      ]
     },
     "execution_count": 112,
     "metadata": {},
     "output_type": "execute_result"
    },
    {
     "data": {
      "image/png": "[encoded data removed]",
      "text/plain": [
       "<Figure size 432x288 with 1 Axes>"
      ]
     },
     "metadata": {},
     "output_type": "display_data"
    }
   ],
   "source": [
    "image_A = train_images[0]\n",
    "print(image_A.shape)\n",
    "plt.imshow(image_A, cmap = plt.cm.binary)"
   ]
  },
  {
   "cell_type": "code",
   "execution_count": 113,
   "metadata": {},
   "outputs": [
    {
     "data": {
      "text/plain": [
       "<matplotlib.image.AxesImage at 0x14ae45460>"
      ]
     },
     "execution_count": 113,
     "metadata": {},
     "output_type": "execute_result"
    },
    {
     "data": {
      "image/png": "[encoded data removed]",
      "text/plain": [
       "<Figure size 432x288 with 1 Axes>"
      ]
     },
     "metadata": {},
     "output_type": "display_data"
    }
   ],
   "source": [
    "image_B = train_images[1]\n",
    "plt.imshow(image_B, cmap = plt.cm.binary)"
   ]
  },
  {
   "cell_type": "code",
   "execution_count": 114,
   "metadata": {},
   "outputs": [
    {
     "data": {
      "text/plain": [
       "<matplotlib.image.AxesImage at 0x14af49ac0>"
      ]
     },
     "execution_count": 114,
     "metadata": {},
     "output_type": "execute_result"
    },
    {
     "data": {
      "image/png": "[encoded data removed]",
      "text/plain": [
       "<Figure size 432x288 with 1 Axes>"
      ]
     },
     "metadata": {},
     "output_type": "display_data"
    }
   ],
   "source": [
    "images_A_and_B = np.hstack((image_A, image_B))\n",
    "plt.imshow(images_A_and_B, cmap = plt.cm.binary)"
   ]
  },
  {
   "cell_type": "code",
   "execution_count": 115,
   "metadata": {},
   "outputs": [],
   "source": [
    "# Create mini training set so that it's not too computationally intensive\n",
    "mini_size = 500\n",
    "mini_X_train, mini_X_test, mini_y_train, mini_y_test = train_images[:mini_size], train_images[mini_size:mini_size*2],  train_labels[:mini_size], train_labels[mini_size:mini_size*2]\n",
    "\n"
   ]
  },
  {
   "cell_type": "code",
   "execution_count": 116,
   "metadata": {},
   "outputs": [],
   "source": [
    "num_images = mini_X_train.shape[0]\n",
    "index_list = np.linspace(0,num_images-1,num_images).astype(int)\n",
    "image_combinations = list(itertools.combinations(index_list, 2))"
   ]
  },
  {
   "cell_type": "code",
   "execution_count": 117,
   "metadata": {},
   "outputs": [],
   "source": [
    "# First just try putting them one on top of the other\n",
    "concatenated_dataset_X = []\n",
    "concatenated_dataset_y = []\n",
    "\n",
    "for combination in image_combinations:\n",
    "#     print(combination)\n",
    "    \n",
    "    index_A = combination[0]\n",
    "    index_B = combination[1]\n",
    "    \n",
    "    image_A = mini_X_train[index_A]\n",
    "    image_B = mini_X_train[index_B]\n",
    "    \n",
    "    intermediate_label_A = mini_y_train[index_A]\n",
    "    intermediate_label_B = mini_y_train[index_B]\n",
    "    \n",
    "    concatenated_images = np.hstack((image_A, image_B))\n",
    "    \n",
    "    final_label = min(intermediate_label_A, intermediate_label_B)\n",
    "    \n",
    "    concatenated_dataset_X.append(concatenated_images)\n",
    "    concatenated_dataset_y.append(final_label)"
   ]
  },
  {
   "cell_type": "code",
   "execution_count": 123,
   "metadata": {},
   "outputs": [],
   "source": [
    "num_images = mini_X_test.shape[0]\n",
    "index_list = np.linspace(0,num_images-1,num_images).astype(int)\n",
    "image_combinations = list(itertools.combinations(index_list, 2))"
   ]
  },
  {
   "cell_type": "code",
   "execution_count": 124,
   "metadata": {},
   "outputs": [],
   "source": [
    "# As above for test\n",
    "concatenated_dataset_X_test = []\n",
    "concatenated_dataset_y_test = []\n",
    "\n",
    "for combination in image_combinations:\n",
    "#     print(combination)\n",
    "    \n",
    "    index_A = combination[0]\n",
    "    index_B = combination[1]\n",
    "    \n",
    "    image_A = mini_X_test[index_A]\n",
    "    image_B = mini_X_test[index_B]\n",
    "    \n",
    "    intermediate_label_A = mini_y_test[index_A]\n",
    "    intermediate_label_B = mini_y_test[index_B]\n",
    "    \n",
    "    concatenated_images = np.hstack((image_A, image_B))\n",
    "    \n",
    "    final_label = min(intermediate_label_A, intermediate_label_B)\n",
    "    \n",
    "    concatenated_dataset_X_test.append(concatenated_images)\n",
    "    concatenated_dataset_y_test.append(final_label)"
   ]
  },
  {
   "cell_type": "code",
   "execution_count": 127,
   "metadata": {},
   "outputs": [
    {
     "name": "stdout",
     "output_type": "stream",
     "text": [
      "(124750, 28, 56)\n",
      "(124750, 28, 56)\n"
     ]
    }
   ],
   "source": [
    "# To array\n",
    "concatenated_dataset_X = np.array(concatenated_dataset_X)\n",
    "concatenated_dataset_y = np.array(concatenated_dataset_y)\n",
    "\n",
    "concatenated_dataset_X_test = np.array(concatenated_dataset_X_test)\n",
    "concatenated_dataset_y_test = np.array(concatenated_dataset_y_test)\n",
    "\n",
    "print(concatenated_dataset_X.shape)\n",
    "print(concatenated_dataset_X_test.shape)"
   ]
  },
  {
   "cell_type": "code",
   "execution_count": 138,
   "metadata": {},
   "outputs": [],
   "source": [
    "train_images = concatenated_dataset_X.reshape((124750, 28, 56, 1))\n",
    "train_images = train_images.astype('float32')/ 255\n",
    "\n",
    "test_images = concatenated_dataset_X_test.reshape((124750, 28, 56, 1))\n",
    "test_images = test_images.astype('float32')/255\n",
    "\n",
    "train_labels = to_categorical(concatenated_dataset_y)\n",
    "test_labels = to_categorical(concatenated_dataset_y_test)"
   ]
  },
  {
   "cell_type": "code",
   "execution_count": 142,
   "metadata": {},
   "outputs": [
    {
     "name": "stdout",
     "output_type": "stream",
     "text": [
      "(124750, 28, 56, 1)\n",
      "(124750, 10)\n"
     ]
    }
   ],
   "source": [
    "# Check shapes\n",
    "print(train_images.shape)\n",
    "print(train_labels.shape)"
   ]
  },
  {
   "cell_type": "code",
   "execution_count": 143,
   "metadata": {},
   "outputs": [],
   "source": [
    "model = tf.keras.Sequential()\n",
    "model.add(layers.Conv2D(32, (3,3), activation = 'relu', input_shape = (28,56,1)))\n",
    "model.add(layers.MaxPooling2D(2,2))\n",
    "model.add(layers.Conv2D(64, (3,3), activation = 'relu'))\n",
    "model.add(layers.MaxPooling2D(2,2))\n",
    "model.add(layers.Conv2D(64, (3,3), activation = 'relu'))\n",
    "# Adding a classifier\n",
    "model.add(layers.Flatten())\n",
    "model.add(layers.Dense(64, activation = 'relu'))\n",
    "model.add(layers.Dense(10, activation = 'softmax'))"
   ]
  },
  {
   "cell_type": "code",
   "execution_count": 144,
   "metadata": {},
   "outputs": [
    {
     "name": "stdout",
     "output_type": "stream",
     "text": [
      "Model: \"sequential_5\"\n",
      "_________________________________________________________________\n",
      "Layer (type)                 Output Shape              Param #   \n",
      "=================================================================\n",
      "conv2d_15 (Conv2D)           (None, 26, 54, 32)        320       \n",
      "_________________________________________________________________\n",
      "max_pooling2d_10 (MaxPooling (None, 13, 27, 32)        0         \n",
      "_________________________________________________________________\n",
      "conv2d_16 (Conv2D)           (None, 11, 25, 64)        18496     \n",
      "_________________________________________________________________\n",
      "max_pooling2d_11 (MaxPooling (None, 5, 12, 64)         0         \n",
      "_________________________________________________________________\n",
      "conv2d_17 (Conv2D)           (None, 3, 10, 64)         36928     \n",
      "_________________________________________________________________\n",
      "flatten_5 (Flatten)          (None, 1920)              0         \n",
      "_________________________________________________________________\n",
      "dense_10 (Dense)             (None, 64)                122944    \n",
      "_________________________________________________________________\n",
      "dense_11 (Dense)             (None, 10)                650       \n",
      "=================================================================\n",
      "Total params: 179,338\n",
      "Trainable params: 179,338\n",
      "Non-trainable params: 0\n",
      "_________________________________________________________________\n"
     ]
    }
   ],
   "source": [
    "model.summary()"
   ]
  },
  {
   "cell_type": "code",
   "execution_count": 145,
   "metadata": {},
   "outputs": [],
   "source": [
    "model.compile(optimizer = 'rmsprop',\n",
    "             loss = 'categorical_crossentropy',\n",
    "             metrics = ['accuracy'])"
   ]
  },
  {
   "cell_type": "code",
   "execution_count": 146,
   "metadata": {},
   "outputs": [
    {
     "name": "stdout",
     "output_type": "stream",
     "text": [
      "Epoch 1/5\n",
      "1950/1950 [==============================] - 96s 49ms/step - loss: 0.0832 - accuracy: 0.9725\n",
      "Epoch 2/5\n",
      "1950/1950 [==============================] - 103s 53ms/step - loss: 0.0018 - accuracy: 0.9995\n",
      "Epoch 3/5\n",
      "1950/1950 [==============================] - 99s 51ms/step - loss: 0.0011 - accuracy: 0.9996\n",
      "Epoch 4/5\n",
      "1950/1950 [==============================] - 99s 51ms/step - loss: 5.7797e-04 - accuracy: 0.9999\n",
      "Epoch 5/5\n",
      "1950/1950 [==============================] - 102s 53ms/step - loss: 4.4550e-04 - accuracy: 0.9999\n"
     ]
    },
    {
     "data": {
      "text/plain": [
       "<tensorflow.python.keras.callbacks.History at 0x1608df8e0>"
      ]
     },
     "execution_count": 146,
     "metadata": {},
     "output_type": "execute_result"
    }
   ],
   "source": [
    "history = model.fit(train_images, train_labels, epochs = 5, batch_size = 64)"
   ]
  },
  {
   "cell_type": "code",
   "execution_count": 147,
   "metadata": {},
   "outputs": [
    {
     "name": "stdout",
     "output_type": "stream",
     "text": [
      "3899/3899 [==============================] - 15s 4ms/step - loss: 3.4895 - accuracy: 0.8645\n"
     ]
    },
    {
     "data": {
      "text/plain": [
       "0.8644729256629944"
      ]
     },
     "execution_count": 147,
     "metadata": {},
     "output_type": "execute_result"
    }
   ],
   "source": [
    "test_loss, test_acc = model.evaluate(test_images, test_labels)\n",
    "test_acc"
   ]
  },
  {
   "cell_type": "code",
   "execution_count": null,
   "metadata": {},
   "outputs": [],
   "source": []
  }
 ],
 "metadata": {
  "kernelspec": {
   "display_name": "general_ML",
   "language": "python",
   "name": "general_ml"
  },
  "language_info": {
   "codemirror_mode": {
    "name": "ipython",
    "version": 3
   },
   "file_extension": ".py",
   "mimetype": "text/x-python",
   "name": "python",
   "nbconvert_exporter": "python",
   "pygments_lexer": "ipython3",
   "version": "3.9.2"
  }
 },
 "nbformat": 4,
 "nbformat_minor": 4
}
