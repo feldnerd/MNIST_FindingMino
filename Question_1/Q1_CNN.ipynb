{
 "cells": [
  {
   "cell_type": "code",
   "execution_count": 7,
   "metadata": {},
   "outputs": [],
   "source": [
    "import matplotlib.pyplot as plt\n",
    "plt.rcParams.update({'font.size': 18})\n",
    "import numpy as np\n",
    "import pandas as pd\n",
    "from keras.utils.np_utils import to_categorical\n",
    "import tensorflow as tf\n",
    "from tensorflow import keras\n",
    "from tensorflow.keras import layers\n",
    "from tensorflow.keras.models import Sequential, load_model\n",
    "from keras.datasets import mnist\n",
    "import random\n",
    "import sys\n",
    "sys.path.append('../')\n",
    "from Core_Functions import neural_networks, generate_image_set"
   ]
  },
  {
   "cell_type": "code",
   "execution_count": 15,
   "metadata": {},
   "outputs": [],
   "source": [
    "# Load data and split into training and test\n",
    "(train_images, train_labels), (test_images, test_labels) = mnist.load_data()"
   ]
  },
  {
   "cell_type": "code",
   "execution_count": 16,
   "metadata": {},
   "outputs": [],
   "source": [
    "# Split training set further into training and validation sets\n",
    "sample_size = 40000\n",
    "X_train, X_val, y_train, y_val = train_images[:sample_size], train_images[sample_size:sample_size*2],  train_labels[:sample_size], train_labels[sample_size:sample_size*2]"
   ]
  },
  {
   "cell_type": "code",
   "execution_count": 17,
   "metadata": {},
   "outputs": [],
   "source": [
    "combo_train_X, combo_train_y = generate_image_set.get_image_combinations(40000, X_train, y_train)\n",
    "combo_val_X, combo_val_y = generate_image_set.get_image_combinations(20000, X_val, y_val)\n",
    "\n",
    "combo_test_X, combo_test_y = generate_image_set.get_image_combinations(10000, test_images, test_labels)"
   ]
  },
  {
   "cell_type": "code",
   "execution_count": 19,
   "metadata": {},
   "outputs": [],
   "source": [
    "# Reshape the data so they can be fed into the network, one-hot-encode the labels\n",
    "\n",
    "train_images = combo_train_X.reshape((combo_train_X.shape[0], 28, 56, 1))\n",
    "train_images = train_images/ 255\n",
    "\n",
    "val_images = combo_val_X.reshape((combo_val_X.shape[0], 28, 56, 1))\n",
    "val_images = val_images/255\n",
    "\n",
    "test_images = combo_test_X.reshape((combo_test_X.shape[0], 28, 56, 1))\n",
    "test_images = test_images/255\n",
    "\n",
    "train_labels = to_categorical(combo_train_y)\n",
    "val_labels = to_categorical(combo_val_y)\n",
    "\n",
    "test_labels = to_categorical(combo_test_y)"
   ]
  },
  {
   "cell_type": "code",
   "execution_count": 12,
   "metadata": {},
   "outputs": [
    {
     "name": "stdout",
     "output_type": "stream",
     "text": [
      "Model: \"sequential_1\"\n",
      "_________________________________________________________________\n",
      "Layer (type)                 Output Shape              Param #   \n",
      "=================================================================\n",
      "conv2d_3 (Conv2D)            (None, 26, 54, 32)        320       \n",
      "_________________________________________________________________\n",
      "max_pooling2d_2 (MaxPooling2 (None, 13, 27, 32)        0         \n",
      "_________________________________________________________________\n",
      "conv2d_4 (Conv2D)            (None, 11, 25, 64)        18496     \n",
      "_________________________________________________________________\n",
      "max_pooling2d_3 (MaxPooling2 (None, 5, 12, 64)         0         \n",
      "_________________________________________________________________\n",
      "conv2d_5 (Conv2D)            (None, 3, 10, 64)         36928     \n",
      "_________________________________________________________________\n",
      "flatten_1 (Flatten)          (None, 1920)              0         \n",
      "_________________________________________________________________\n",
      "dense_2 (Dense)              (None, 64)                122944    \n",
      "_________________________________________________________________\n",
      "dense_3 (Dense)              (None, 10)                650       \n",
      "=================================================================\n",
      "Total params: 179,338\n",
      "Trainable params: 179,338\n",
      "Non-trainable params: 0\n",
      "_________________________________________________________________\n"
     ]
    }
   ],
   "source": [
    "model = neural_networks.build_CNN((28, 56, 1))\n",
    "model.summary()"
   ]
  },
  {
   "cell_type": "code",
   "execution_count": null,
   "metadata": {},
   "outputs": [],
   "source": [
    "# Perform k-fold cross-validation to understand the optimal number of epochs to train on\n",
    "k = 4\n",
    "num_val_samples = len(train_images)//k\n",
    "\n",
    "num_epochs = 50\n",
    "\n",
    "all_val_mae_histories = []\n",
    "all_train_mae_histories = []\n",
    "\n",
    "all_val_acc_histories = []\n",
    "all_train_acc_histories = []\n",
    "\n",
    "for i in range(k):\n",
    "    \n",
    "    print('processing fold #', i)\n",
    "    val_data = train_images[i * num_val_samples: (i + 1) * num_val_samples]\n",
    "    val_targets = train_labels[i * num_val_samples: (i + 1) * num_val_samples]\n",
    "    \n",
    "    partial_train_data = np.concatenate(\n",
    "    [train_images[:i * num_val_samples],\n",
    "    train_images[(i+1) * num_val_samples:]],\n",
    "    axis = 0)\n",
    "    \n",
    "    partial_train_targets = np.concatenate(\n",
    "    [train_labels[:i*num_val_samples],\n",
    "    train_labels[(i+1)*num_val_samples:]],\n",
    "    axis = 0)\n",
    "    \n",
    "    model = neural_networks.build_CNN((28, 56, 1))\n",
    "    history = model.fit(partial_train_data,\n",
    "              partial_train_targets,\n",
    "              validation_data = (val_data, val_targets),\n",
    "              epochs = num_epochs,\n",
    "              batch_size = 64,\n",
    "              verbose = 0)\n",
    "    \n",
    "    val_mae_history = history.history['val_mae']\n",
    "    all_val_mae_histories.append(val_mae_history)\n",
    "    \n",
    "    train_mae_history = history.history['mae']\n",
    "    all_train_mae_histories.append(train_mae_history)\n",
    "    \n",
    "    val_acc_history = history.history['val_accuracy']\n",
    "    all_val_acc_histories.append(val_acc_history)\n",
    "    \n",
    "    train_acc_history = history.history['accuracy']\n",
    "    all_train_acc_histories.append(train_acc_history)"
   ]
  },
  {
   "cell_type": "code",
   "execution_count": null,
   "metadata": {},
   "outputs": [],
   "source": [
    "# Compute the average of the per-epoch MAE scores for all folds\n",
    "# Building the history of successive mean K-fold validation scores\n",
    "\n",
    "average_val_mae_history = [\n",
    "    np.mean([x[i] for x in all_val_mae_histories]) for i in range(num_epochs)]\n",
    "\n",
    "average_train_mae_history = [\n",
    "    np.mean([x[i] for x in all_train_mae_histories]) for i in range(num_epochs)]\n",
    "\n",
    "plt.plot(range(1, len(average_train_mae_history) + 1), average_train_mae_history, label = 'Training', c ='mediumseagreen', lw=2.5)\n",
    "plt.plot(range(1, len(average_val_mae_history) + 1), average_val_mae_history, label='Validation', c = 'mediumvioletred', lw=2.5)\n",
    "\n",
    "plt.xlabel('Epochs')\n",
    "plt.ylabel('Mean Absolute Error')\n",
    "plt.legend()\n",
    "plt.tight_layout()\n",
    "plt.title('CNN Mean Absolute Error')\n",
    "plt.savefig('Q1_Figures/Q1_CNN_MAE.png', dpi = 400, bbox_inches=\"tight\")"
   ]
  },
  {
   "cell_type": "code",
   "execution_count": null,
   "metadata": {},
   "outputs": [],
   "source": [
    "# Compute the average of the per-epoch Accuracy scores for all folds\n",
    "# Building the history of successive mean K-fold validation scores\n",
    "\n",
    "average_val_acc_history = [\n",
    "    np.mean([x[i] for x in all_val_acc_histories]) for i in range(num_epochs)]\n",
    "\n",
    "average_train_acc_history = [\n",
    "    np.mean([x[i] for x in all_train_acc_histories]) for i in range(num_epochs)]\n",
    "\n",
    "plt.plot(range(1, len(average_train_acc_history) + 1), average_train_acc_history, label = 'Training', c ='mediumseagreen', lw=2.5)\n",
    "plt.plot(range(1, len(average_val_acc_history) + 1), average_val_acc_history, label='Validation', c = 'mediumvioletred', lw=2.5)\n",
    "\n",
    "plt.xlabel('Epochs')\n",
    "plt.ylabel('Accuracy')\n",
    "plt.legend()\n",
    "plt.tight_layout()\n",
    "plt.title('CNN Accuracy')\n",
    "plt.savefig('Q1_Figures/Q1_CNN_Accuracy.png', dpi = 400, bbox_inches=\"tight\")"
   ]
  },
  {
   "cell_type": "code",
   "execution_count": 13,
   "metadata": {},
   "outputs": [
    {
     "name": "stdout",
     "output_type": "stream",
     "text": [
      "Epoch 1/20\n",
      "625/625 [==============================] - 29s 46ms/step - loss: 0.4584 - accuracy: 0.8522 - mae: 0.0436\n",
      "Epoch 2/20\n",
      "625/625 [==============================] - 43s 69ms/step - loss: 0.1289 - accuracy: 0.9607 - mae: 0.0127\n",
      "Epoch 3/20\n",
      "625/625 [==============================] - 35s 56ms/step - loss: 0.0716 - accuracy: 0.9779 - mae: 0.0071\n",
      "Epoch 4/20\n",
      "625/625 [==============================] - 35s 56ms/step - loss: 0.0457 - accuracy: 0.9859 - mae: 0.0045\n",
      "Epoch 5/20\n",
      "625/625 [==============================] - 35s 56ms/step - loss: 0.0303 - accuracy: 0.9904 - mae: 0.0030\n",
      "Epoch 6/20\n",
      "625/625 [==============================] - 36s 57ms/step - loss: 0.0219 - accuracy: 0.9932 - mae: 0.0020\n",
      "Epoch 7/20\n",
      "625/625 [==============================] - 35s 56ms/step - loss: 0.0147 - accuracy: 0.9957 - mae: 0.0014\n",
      "Epoch 8/20\n",
      "625/625 [==============================] - 35s 56ms/step - loss: 0.0124 - accuracy: 0.9964 - mae: 0.0011\n",
      "Epoch 9/20\n",
      "625/625 [==============================] - 35s 56ms/step - loss: 0.0090 - accuracy: 0.9969 - mae: 8.5312e-04\n",
      "Epoch 10/20\n",
      "625/625 [==============================] - 35s 57ms/step - loss: 0.0079 - accuracy: 0.9974 - mae: 6.9383e-04\n",
      "Epoch 11/20\n",
      "625/625 [==============================] - 36s 57ms/step - loss: 0.0074 - accuracy: 0.9974 - mae: 6.5028e-04\n",
      "Epoch 12/20\n",
      "625/625 [==============================] - 40s 64ms/step - loss: 0.0054 - accuracy: 0.9982 - mae: 4.8646e-04\n",
      "Epoch 13/20\n",
      "625/625 [==============================] - 45s 72ms/step - loss: 0.0052 - accuracy: 0.9985 - mae: 3.8872e-04\n",
      "Epoch 14/20\n",
      "625/625 [==============================] - 37s 59ms/step - loss: 0.0052 - accuracy: 0.9986 - mae: 3.8290e-04\n",
      "Epoch 15/20\n",
      "625/625 [==============================] - 60s 97ms/step - loss: 0.0035 - accuracy: 0.9988 - mae: 2.9257e-04\n",
      "Epoch 16/20\n",
      "625/625 [==============================] - 49s 78ms/step - loss: 0.0037 - accuracy: 0.9989 - mae: 2.9572e-04\n",
      "Epoch 17/20\n",
      "625/625 [==============================] - 30s 49ms/step - loss: 0.0055 - accuracy: 0.9985 - mae: 3.5630e-04\n",
      "Epoch 18/20\n",
      "625/625 [==============================] - 32s 52ms/step - loss: 0.0041 - accuracy: 0.9988 - mae: 3.0095e-04\n",
      "Epoch 19/20\n",
      "625/625 [==============================] - 34s 55ms/step - loss: 0.0029 - accuracy: 0.9991 - mae: 2.3242e-04\n",
      "Epoch 20/20\n",
      "625/625 [==============================] - 35s 56ms/step - loss: 0.0023 - accuracy: 0.9994 - mae: 1.6784e-04\n"
     ]
    },
    {
     "data": {
      "text/plain": [
       "<tensorflow.python.keras.callbacks.History at 0x11b566490>"
      ]
     },
     "execution_count": 13,
     "metadata": {},
     "output_type": "execute_result"
    }
   ],
   "source": [
    "# Rebuild the model and train on full dataset (60k) rather than splitting it (48k)\n",
    "# Do this for the optimal number of epochs\n",
    "    # It seems like around 20 epochs the validation MAE and Accuracy flatten, so this will be used\n",
    "model = neural_networks.build_CNN((28, 56, 1))\n",
    "model.fit(train_images, train_labels, epochs = 20, batch_size = 64)"
   ]
  },
  {
   "cell_type": "code",
   "execution_count": 20,
   "metadata": {},
   "outputs": [
    {
     "name": "stdout",
     "output_type": "stream",
     "text": [
      "313/313 [==============================] - 1s 4ms/step - loss: 0.1499 - accuracy: 0.9838 - mae: 0.0033\n"
     ]
    },
    {
     "data": {
      "text/plain": [
       "[0.1498870849609375, 0.9837999939918518, 0.003317464841529727]"
      ]
     },
     "execution_count": 20,
     "metadata": {},
     "output_type": "execute_result"
    }
   ],
   "source": [
    "test = model.evaluate(test_images, test_labels)\n",
    "test"
   ]
  },
  {
   "cell_type": "code",
   "execution_count": null,
   "metadata": {},
   "outputs": [],
   "source": [
    "# Verify above by visually inspecting images from the predicted set\n",
    "num_val_images = 10000\n",
    "\n",
    "# Run this cell repeatedly to see multiple examples\n",
    "check_index = random.randint(0,num_val_images)\n",
    "plt.imshow(val_images[check_index].reshape(28,56), cmap = plt.cm.binary)\n",
    "print(\"Predicted: \" + str(np.argmax(y_predict[check_index])))\n",
    "print(\"True: \" + str(np.argmax(val_labels[check_index])))\n",
    "#plt.savefig('Q1_Figures/Q1_Example_Image_' + str(check_index) + '.png', dpi = 400, bbox_inches=\"tight\")"
   ]
  },
  {
   "cell_type": "code",
   "execution_count": null,
   "metadata": {},
   "outputs": [],
   "source": [
    "# serialize model to JSON\n",
    "model_json = model.to_json()\n",
    "with open(\"Q1_Trained_Models/CNN_Model.json\", \"w\") as json_file:\n",
    "    json_file.write(model_json)\n",
    "# serialize weights to HDF5\n",
    "model.save_weights(\"Q1_Trained_Models/CNN_Model.h5\")\n",
    "print(\"Saved model to disk\")"
   ]
  },
  {
   "cell_type": "code",
   "execution_count": null,
   "metadata": {},
   "outputs": [],
   "source": []
  }
 ],
 "metadata": {
  "kernelspec": {
   "display_name": "general_ML",
   "language": "python",
   "name": "general_ml"
  },
  "language_info": {
   "codemirror_mode": {
    "name": "ipython",
    "version": 3
   },
   "file_extension": ".py",
   "mimetype": "text/x-python",
   "name": "python",
   "nbconvert_exporter": "python",
   "pygments_lexer": "ipython3",
   "version": "3.9.2"
  }
 },
 "nbformat": 4,
 "nbformat_minor": 4
}
