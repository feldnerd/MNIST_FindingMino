{
 "cells": [
  {
   "cell_type": "code",
   "execution_count": 1,
   "metadata": {},
   "outputs": [
    {
     "name": "stderr",
     "output_type": "stream",
     "text": [
      "Using TensorFlow backend.\n"
     ]
    }
   ],
   "source": [
    "import matplotlib.pyplot as plt\n",
    "import itertools\n",
    "import numpy as np\n",
    "import pandas as pd\n",
    "from keras.utils.np_utils import to_categorical\n",
    "import tensorflow as tf\n",
    "from tensorflow import keras\n",
    "from tensorflow.keras import layers\n",
    "from tensorflow.keras.models import Sequential, load_model\n",
    "from keras.datasets import mnist\n",
    "import itertools\n",
    "import random\n",
    "import sys\n",
    "sys.path.append('../')\n",
    "from Core_Functions import neural_networks, generate_image_set"
   ]
  },
  {
   "cell_type": "code",
   "execution_count": 2,
   "metadata": {},
   "outputs": [],
   "source": [
    "# Load data and split into training and test\n",
    "(train_images, train_labels), (test_images, test_labels) = mnist.load_data()"
   ]
  },
  {
   "cell_type": "code",
   "execution_count": 3,
   "metadata": {},
   "outputs": [],
   "source": [
    "# Split training set further into training and validation sets\n",
    "sample_size = 40000\n",
    "X_train, X_val, y_train, y_val = train_images[:sample_size], train_images[sample_size:sample_size*2],  train_labels[:sample_size], train_labels[sample_size:sample_size*2]"
   ]
  },
  {
   "cell_type": "code",
   "execution_count": 5,
   "metadata": {},
   "outputs": [],
   "source": [
    "combo_train_X, combo_train_y = generate_image_set.get_image_combinations(40000, X_train, y_train)\n",
    "combo_val_X, combo_val_y = generate_image_set.get_image_combinations(20000, X_val, y_val)"
   ]
  },
  {
   "cell_type": "code",
   "execution_count": 6,
   "metadata": {},
   "outputs": [],
   "source": [
    "# Reshape the data so they can be fed into the network, one-hot-encode the labels\n",
    "\n",
    "train_images = combo_train_X.reshape((combo_train_X.shape[0], 28*56,))\n",
    "train_images = train_images/ 255\n",
    "\n",
    "val_images = combo_val_X.reshape((combo_val_X.shape[0], 28*56,))\n",
    "val_images = val_images/255\n",
    "\n",
    "train_labels = to_categorical(combo_train_y)\n",
    "val_labels = to_categorical(combo_val_y)"
   ]
  },
  {
   "cell_type": "code",
   "execution_count": 7,
   "metadata": {},
   "outputs": [
    {
     "name": "stdout",
     "output_type": "stream",
     "text": [
      "Model: \"sequential\"\n",
      "_________________________________________________________________\n",
      "Layer (type)                 Output Shape              Param #   \n",
      "=================================================================\n",
      "dense (Dense)                (None, 512)               803328    \n",
      "_________________________________________________________________\n",
      "dense_1 (Dense)              (None, 10)                5130      \n",
      "=================================================================\n",
      "Total params: 808,458\n",
      "Trainable params: 808,458\n",
      "Non-trainable params: 0\n",
      "_________________________________________________________________\n"
     ]
    }
   ],
   "source": [
    "model = neural_networks.build_DNN(28*56)\n",
    "model.summary()"
   ]
  },
  {
   "cell_type": "code",
   "execution_count": null,
   "metadata": {},
   "outputs": [],
   "source": [
    "# Fit model\n",
    "model = neural_networks.build_DNN(28*56)\n",
    "model.fit(train_images, \n",
    "          train_labels, \n",
    "          epochs = 20, \n",
    "          batch_size = 64)\n"
   ]
  },
  {
   "cell_type": "code",
   "execution_count": 71,
   "metadata": {},
   "outputs": [
    {
     "name": "stdout",
     "output_type": "stream",
     "text": [
      "625/625 [==============================] - 1s 951us/step - loss: 0.5896 - accuracy: 0.9260 - mae: 0.0152\n"
     ]
    },
    {
     "data": {
      "text/plain": [
       "[0.589601993560791, 0.9259999990463257, 0.015237970277667046]"
      ]
     },
     "execution_count": 71,
     "metadata": {},
     "output_type": "execute_result"
    }
   ],
   "source": [
    "# Print loss, mae and accuracy\n",
    "eval_model = model.evaluate(val_images, val_labels)\n",
    "eval_model"
   ]
  },
  {
   "cell_type": "code",
   "execution_count": null,
   "metadata": {},
   "outputs": [],
   "source": [
    "# Perform k-fold cross-validation to understand the optimal number of epochs to train on\n",
    "k = 4\n",
    "num_val_samples = len(train_images)//k\n",
    "\n",
    "num_epochs = 20\n",
    "\n",
    "all_val_mae_histories = []\n",
    "all_train_mae_histories = []\n",
    "\n",
    "for i in range(k):\n",
    "    \n",
    "    print('processing fold #', i)\n",
    "    val_data = train_images[i * num_val_samples: (i + 1) * num_val_samples]\n",
    "    val_targets = train_labels[i * num_val_samples: (i + 1) * num_val_samples]\n",
    "    \n",
    "    partial_train_data = np.concatenate(\n",
    "    [train_images[:i * num_val_samples],\n",
    "    train_images[(i+1) * num_val_samples:]],\n",
    "    axis = 0)\n",
    "    \n",
    "    partial_train_targets = np.concatenate(\n",
    "    [train_labels[:i*num_val_samples],\n",
    "    train_labels[(i+1)*num_val_samples:]],\n",
    "    axis = 0)\n",
    "    \n",
    "    model = neural_networks.build_DNN(28*56)\n",
    "    history = model.fit(partial_train_data,\n",
    "              partial_train_targets,\n",
    "              validation_data = (val_data, val_targets),\n",
    "              epochs = num_epochs,\n",
    "              batch_size = 64,\n",
    "              verbose = 0)\n",
    "    \n",
    "    val_mae_history = history.history['val_mae']\n",
    "    all_val_mae_histories.append(val_mae_history)\n",
    "    \n",
    "    train_mae_history = history.history['mae']\n",
    "    all_train_mae_histories.append(train_mae_history)"
   ]
  },
  {
   "cell_type": "code",
   "execution_count": 68,
   "metadata": {},
   "outputs": [
    {
     "data": {
      "image/png": "[encoded data removed]",
      "text/plain": [
       "<Figure size 432x288 with 1 Axes>"
      ]
     },
     "metadata": {
      "needs_background": "light"
     },
     "output_type": "display_data"
    }
   ],
   "source": [
    "# Compute the average of the per-epoch MAE scores for all folds\n",
    "# Building the history of successive mean K-fold validation scores\n",
    "\n",
    "average_val_mae_history = [\n",
    "    np.mean([x[i] for x in all_val_mae_histories]) for i in range(num_epochs)]\n",
    "\n",
    "average_train_mae_history = [\n",
    "    np.mean([x[i] for x in all_train_mae_histories]) for i in range(num_epochs)]\n",
    "\n",
    "plt.plot(range(1, len(average_val_mae_history) + 1), average_val_mae_history, label='Validation')\n",
    "plt.plot(range(1, len(average_train_mae_history) + 1), average_train_mae_history, label = 'Training')\n",
    "plt.xlabel('Epochs')\n",
    "plt.ylabel('Mean Absolute Error')\n",
    "plt.legend()\n",
    "plt.savefig('Q1_Figures/Q1_DNN.png', dpi = 400)"
   ]
  },
  {
   "cell_type": "code",
   "execution_count": 34,
   "metadata": {},
   "outputs": [
    {
     "name": "stdout",
     "output_type": "stream",
     "text": [
      "Saved model to disk\n"
     ]
    }
   ],
   "source": [
    "# serialize model to JSON\n",
    "model_json = model.to_json()\n",
    "with open(\"Q1_Trained_Models/DNN_Model.json\", \"w\") as json_file:\n",
    "    json_file.write(model_json)\n",
    "# serialize weights to HDF5\n",
    "model.save_weights(\"Q1_Trained_Models/DNN_Model.h5\")\n",
    "print(\"Saved model to disk\")"
   ]
  },
  {
   "cell_type": "code",
   "execution_count": 35,
   "metadata": {},
   "outputs": [],
   "source": [
    "# Verify above by visually inspecting images from the predicted set\n",
    "num_val_images = 10000"
   ]
  },
  {
   "cell_type": "code",
   "execution_count": 36,
   "metadata": {},
   "outputs": [
    {
     "name": "stdout",
     "output_type": "stream",
     "text": [
      "Predicted: 1\n",
      "True: 1\n"
     ]
    },
    {
     "data": {
      "image/png": "[encoded data removed]",
      "text/plain": [
       "<Figure size 432x288 with 1 Axes>"
      ]
     },
     "metadata": {
      "needs_background": "light"
     },
     "output_type": "display_data"
    }
   ],
   "source": [
    "# Run this cell repeatedly to see multiple examples\n",
    "check_index = random.randint(0,num_val_images)\n",
    "plt.imshow(val_images[check_index].reshape(28,56), cmap = plt.cm.binary)\n",
    "print(\"Predicted: \" + str(np.argmax(y_predict[check_index])))\n",
    "print(\"True: \" + str(np.argmax(val_labels[check_index])))"
   ]
  },
  {
   "cell_type": "code",
   "execution_count": null,
   "metadata": {},
   "outputs": [],
   "source": []
  }
 ],
 "metadata": {
  "kernelspec": {
   "display_name": "general_ML",
   "language": "python",
   "name": "general_ml"
  },
  "language_info": {
   "codemirror_mode": {
    "name": "ipython",
    "version": 3
   },
   "file_extension": ".py",
   "mimetype": "text/x-python",
   "name": "python",
   "nbconvert_exporter": "python",
   "pygments_lexer": "ipython3",
   "version": "3.9.2"
  }
 },
 "nbformat": 4,
 "nbformat_minor": 4
}
