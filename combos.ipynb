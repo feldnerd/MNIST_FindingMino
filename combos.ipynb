{
 "cells": [
  {
   "cell_type": "code",
   "execution_count": 3,
   "metadata": {},
   "outputs": [],
   "source": [
    "from itertools import combinations_with_replacement\n",
    "import numpy as np"
   ]
  },
  {
   "cell_type": "code",
   "execution_count": 4,
   "metadata": {},
   "outputs": [
    {
     "data": {
      "text/plain": [
       "array([ 0.,  1.,  2.,  3.,  4.,  5.,  6.,  7.,  8.,  9., 10.])"
      ]
     },
     "execution_count": 4,
     "metadata": {},
     "output_type": "execute_result"
    }
   ],
   "source": [
    "list_size = 10\n",
    "numlist = np.linspace(0,list_size,list_size+1)\n",
    "numlist"
   ]
  },
  {
   "cell_type": "code",
   "execution_count": 5,
   "metadata": {},
   "outputs": [],
   "source": [
    "combo_list = (list(combinations_with_replacement(numlist,2)))"
   ]
  },
  {
   "cell_type": "code",
   "execution_count": 8,
   "metadata": {},
   "outputs": [
    {
     "data": {
      "text/plain": [
       "[(0.0, 0.0),\n",
       " (0.0, 1.0),\n",
       " (0.0, 2.0),\n",
       " (0.0, 3.0),\n",
       " (0.0, 4.0),\n",
       " (0.0, 5.0),\n",
       " (0.0, 6.0),\n",
       " (0.0, 7.0),\n",
       " (0.0, 8.0),\n",
       " (0.0, 9.0),\n",
       " (0.0, 10.0),\n",
       " (1.0, 1.0),\n",
       " (1.0, 2.0),\n",
       " (1.0, 3.0),\n",
       " (1.0, 4.0),\n",
       " (1.0, 5.0),\n",
       " (1.0, 6.0),\n",
       " (1.0, 7.0),\n",
       " (1.0, 8.0),\n",
       " (1.0, 9.0),\n",
       " (1.0, 10.0),\n",
       " (2.0, 2.0),\n",
       " (2.0, 3.0),\n",
       " (2.0, 4.0),\n",
       " (2.0, 5.0),\n",
       " (2.0, 6.0),\n",
       " (2.0, 7.0),\n",
       " (2.0, 8.0),\n",
       " (2.0, 9.0),\n",
       " (2.0, 10.0),\n",
       " (3.0, 3.0),\n",
       " (3.0, 4.0),\n",
       " (3.0, 5.0),\n",
       " (3.0, 6.0),\n",
       " (3.0, 7.0),\n",
       " (3.0, 8.0),\n",
       " (3.0, 9.0),\n",
       " (3.0, 10.0),\n",
       " (4.0, 4.0),\n",
       " (4.0, 5.0),\n",
       " (4.0, 6.0),\n",
       " (4.0, 7.0),\n",
       " (4.0, 8.0),\n",
       " (4.0, 9.0),\n",
       " (4.0, 10.0),\n",
       " (5.0, 5.0),\n",
       " (5.0, 6.0),\n",
       " (5.0, 7.0),\n",
       " (5.0, 8.0),\n",
       " (5.0, 9.0),\n",
       " (5.0, 10.0),\n",
       " (6.0, 6.0),\n",
       " (6.0, 7.0),\n",
       " (6.0, 8.0),\n",
       " (6.0, 9.0),\n",
       " (6.0, 10.0),\n",
       " (7.0, 7.0),\n",
       " (7.0, 8.0),\n",
       " (7.0, 9.0),\n",
       " (7.0, 10.0),\n",
       " (8.0, 8.0),\n",
       " (8.0, 9.0),\n",
       " (8.0, 10.0),\n",
       " (9.0, 9.0),\n",
       " (9.0, 10.0),\n",
       " (10.0, 10.0)]"
      ]
     },
     "execution_count": 8,
     "metadata": {},
     "output_type": "execute_result"
    }
   ],
   "source": [
    "combo_list"
   ]
  },
  {
   "cell_type": "code",
   "execution_count": null,
   "metadata": {},
   "outputs": [],
   "source": []
  }
 ],
 "metadata": {
  "kernelspec": {
   "display_name": "Python 3",
   "language": "python",
   "name": "python3"
  },
  "language_info": {
   "codemirror_mode": {
    "name": "ipython",
    "version": 3
   },
   "file_extension": ".py",
   "mimetype": "text/x-python",
   "name": "python",
   "nbconvert_exporter": "python",
   "pygments_lexer": "ipython3",
   "version": "3.8.6"
  }
 },
 "nbformat": 4,
 "nbformat_minor": 4
}
