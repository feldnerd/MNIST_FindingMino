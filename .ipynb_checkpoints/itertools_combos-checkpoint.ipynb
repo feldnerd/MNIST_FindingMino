{
 "cells": [
  {
   "cell_type": "code",
   "execution_count": 1,
   "metadata": {},
   "outputs": [],
   "source": [
    "import itertools\n",
    "import numpy as np\n",
    "import random"
   ]
  },
  {
   "cell_type": "code",
   "execution_count": 2,
   "metadata": {},
   "outputs": [],
   "source": [
    "random.seed(42)"
   ]
  },
  {
   "cell_type": "code",
   "execution_count": 4,
   "metadata": {},
   "outputs": [
    {
     "name": "stdout",
     "output_type": "stream",
     "text": [
      "81\n",
      "14\n",
      "3\n",
      "94\n",
      "35\n",
      "31\n",
      "28\n",
      "17\n",
      "94\n",
      "13\n"
     ]
    }
   ],
   "source": [
    "num_images_chosen = 10\n",
    "num_images_total = 100\n",
    "\n",
    "for i in range(num_images_chosen):\n",
    "    \n",
    "    rand_A = random.randint(0, num_images_total)\n",
    "    print(rand_A)"
   ]
  },
  {
   "cell_type": "code",
   "execution_count": 5,
   "metadata": {},
   "outputs": [],
   "source": [
    "num_images = 15000\n",
    "index_list = np.linspace(0,num_images-1,num_images).astype(int)\n",
    "image_combinations_20k = list(itertools.combinations(index_list, 2))"
   ]
  },
  {
   "cell_type": "code",
   "execution_count": null,
   "metadata": {},
   "outputs": [],
   "source": [
    "num_images = 45000\n",
    "index_list = np.linspace(0,num_images-1,num_images).astype(int)\n",
    "image_combinations_40k = list(itertools.combinations(index_list, 2))"
   ]
  },
  {
   "cell_type": "code",
   "execution_count": null,
   "metadata": {},
   "outputs": [],
   "source": [
    "num_images = 60000\n",
    "index_list = np.linspace(0,num_images-1,num_images).astype(int)\n",
    "image_combinations_60k = list(itertools.combinations(index_list, 2))"
   ]
  },
  {
   "cell_type": "code",
   "execution_count": null,
   "metadata": {},
   "outputs": [],
   "source": []
  }
 ],
 "metadata": {
  "kernelspec": {
   "display_name": "Python 3",
   "language": "python",
   "name": "python3"
  },
  "language_info": {
   "codemirror_mode": {
    "name": "ipython",
    "version": 3
   },
   "file_extension": ".py",
   "mimetype": "text/x-python",
   "name": "python",
   "nbconvert_exporter": "python",
   "pygments_lexer": "ipython3",
   "version": "3.8.6"
  }
 },
 "nbformat": 4,
 "nbformat_minor": 4
}
