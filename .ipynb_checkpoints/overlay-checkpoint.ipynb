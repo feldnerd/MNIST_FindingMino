{
 "cells": [
  {
   "cell_type": "code",
   "execution_count": 1,
   "metadata": {},
   "outputs": [
    {
     "name": "stderr",
     "output_type": "stream",
     "text": [
      "Using TensorFlow backend.\n"
     ]
    }
   ],
   "source": [
    "from sklearn.datasets import fetch_openml\n",
    "import matplotlib.pyplot as plt\n",
    "import itertools\n",
    "import numpy as np\n",
    "import pandas as pd\n",
    "from keras.utils.np_utils import to_categorical\n",
    "import tensorflow as tf\n",
    "from tensorflow import keras\n",
    "from tensorflow.keras import layers\n",
    "from tensorflow.keras.models import Sequential, load_model\n",
    "from keras.datasets import mnist\n",
    "import itertools\n",
    "import random\n",
    "random.seed(42)\n",
    "plt.style.use('dark_background')"
   ]
  },
  {
   "cell_type": "code",
   "execution_count": 2,
   "metadata": {},
   "outputs": [],
   "source": [
    "(train_images, train_labels), (test_images, test_labels) = mnist.load_data()"
   ]
  },
  {
   "cell_type": "code",
   "execution_count": 3,
   "metadata": {},
   "outputs": [
    {
     "data": {
      "text/plain": [
       "(60000, 28, 28)"
      ]
     },
     "execution_count": 3,
     "metadata": {},
     "output_type": "execute_result"
    }
   ],
   "source": [
    "train_images.shape"
   ]
  },
  {
   "cell_type": "markdown",
   "metadata": {},
   "source": [
    "Randomly sampling a subset of the data, to make the combinations more tractable. "
   ]
  },
  {
   "cell_type": "code",
   "execution_count": 4,
   "metadata": {},
   "outputs": [
    {
     "name": "stdout",
     "output_type": "stream",
     "text": [
      "(28, 28)\n"
     ]
    },
    {
     "data": {
      "text/plain": [
       "<matplotlib.image.AxesImage at 0x158ad10a0>"
      ]
     },
     "execution_count": 4,
     "metadata": {},
     "output_type": "execute_result"
    },
    {
     "data": {
      "image/png": "[encoded data removed]",
      "text/plain": [
       "<Figure size 432x288 with 1 Axes>"
      ]
     },
     "metadata": {},
     "output_type": "display_data"
    }
   ],
   "source": [
    "image_A = train_images[0]\n",
    "print(image_A.shape)\n",
    "plt.imshow(image_A, cmap = plt.cm.binary)"
   ]
  },
  {
   "cell_type": "code",
   "execution_count": 5,
   "metadata": {},
   "outputs": [
    {
     "data": {
      "text/plain": [
       "<matplotlib.image.AxesImage at 0x10ef80130>"
      ]
     },
     "execution_count": 5,
     "metadata": {},
     "output_type": "execute_result"
    },
    {
     "data": {
      "image/png": "[encoded data removed]",
      "text/plain": [
       "<Figure size 432x288 with 1 Axes>"
      ]
     },
     "metadata": {},
     "output_type": "display_data"
    }
   ],
   "source": [
    "image_B = train_images[1]\n",
    "plt.imshow(image_B, cmap = plt.cm.binary)"
   ]
  },
  {
   "cell_type": "code",
   "execution_count": 6,
   "metadata": {},
   "outputs": [
    {
     "data": {
      "text/plain": [
       "<matplotlib.image.AxesImage at 0x129277400>"
      ]
     },
     "execution_count": 6,
     "metadata": {},
     "output_type": "execute_result"
    },
    {
     "data": {
      "image/png": "[encoded data removed]",
      "text/plain": [
       "<Figure size 432x288 with 1 Axes>"
      ]
     },
     "metadata": {},
     "output_type": "display_data"
    }
   ],
   "source": [
    "images_A_and_B = np.hstack((image_A, image_B))\n",
    "plt.imshow(images_A_and_B, cmap = plt.cm.binary)"
   ]
  },
  {
   "cell_type": "code",
   "execution_count": 7,
   "metadata": {},
   "outputs": [],
   "source": [
    "# Create mini training set so that it's not too computationally intensive\n",
    "sample_size = 40000\n",
    "X_train, X_val, y_train, y_val = train_images[:sample_size], train_images[sample_size:sample_size*2],  train_labels[:sample_size], train_labels[sample_size:sample_size*2]"
   ]
  },
  {
   "cell_type": "code",
   "execution_count": 8,
   "metadata": {},
   "outputs": [],
   "source": [
    "# fold = X_train.shape[0]//2\n",
    "# X_train_A, X_train_B, y_train_A, y_train_B = X_train[:fold], X_train[fold:], y_train[fold:], y_train[:fold]\n",
    "\n",
    "# val_fold = X_val.shape[0]//2\n",
    "# X_val_A, X_val_B, y_val_A, y_val_B = X_val[:val_fold], X_val[val_fold:], y_val[val_fold:], y_val[:val_fold]\n"
   ]
  },
  {
   "cell_type": "code",
   "execution_count": 9,
   "metadata": {},
   "outputs": [],
   "source": [
    "# Randomly draw 40k training images\n",
    "\n",
    "num_images_chosen = 100000\n",
    "num_images_total = 40000\n",
    "\n",
    "combo_train_X = []\n",
    "combo_train_y = []\n",
    "\n",
    "for i in range(num_images_chosen):\n",
    "    \n",
    "    # Randomly draw indices\n",
    "    rand_A = random.randint(0, num_images_total-1)\n",
    "    rand_B = random.randint(0, num_images_total-1)\n",
    "    \n",
    "    # Concatenate images\n",
    "    image_A = X_train[rand_A]\n",
    "    image_B = X_train[rand_B]\n",
    "    concatenated_images = np.hstack((image_A, image_B))\n",
    "    \n",
    "    # Find the minimum label\n",
    "    intermediate_label_A = y_train[rand_A]\n",
    "    intermediate_label_B = y_train[rand_B]\n",
    "    minimum_label = min(intermediate_label_A, intermediate_label_B)\n",
    "    \n",
    "    # Append to lists\n",
    "    combo_train_X.append(concatenated_images)\n",
    "    combo_train_y.append(minimum_label)\n",
    "    \n",
    "combo_train_X = np.array(combo_train_X)\n",
    "combo_train_y = np.array(combo_train_y)"
   ]
  },
  {
   "cell_type": "code",
   "execution_count": 10,
   "metadata": {},
   "outputs": [],
   "source": [
    "# Randomly draw 20k validation images\n",
    "\n",
    "num_images_chosen = 10000\n",
    "num_images_total = 20000\n",
    "\n",
    "combo_val_X = []\n",
    "combo_val_y = []\n",
    "\n",
    "for i in range(num_images_chosen):\n",
    "    \n",
    "    # Randomly draw indices\n",
    "    rand_A = random.randint(0, num_images_total-1)\n",
    "    rand_B = random.randint(0, num_images_total-1)\n",
    "    \n",
    "    # Concatenate images\n",
    "    image_A = X_val[rand_A]\n",
    "    image_B = X_val[rand_B]\n",
    "    concatenated_images = np.hstack((image_A, image_B))\n",
    "    \n",
    "    # Find the minimum label\n",
    "    intermediate_label_A = y_val[rand_A]\n",
    "    intermediate_label_B = y_val[rand_B]\n",
    "    minimum_label = min(intermediate_label_A, intermediate_label_B)\n",
    "    \n",
    "    # Append to lists\n",
    "    combo_val_X.append(concatenated_images)\n",
    "    combo_val_y.append(minimum_label)\n",
    "    \n",
    "combo_val_X = np.array(combo_val_X)\n",
    "combo_val_y = np.array(combo_val_y)"
   ]
  },
  {
   "cell_type": "code",
   "execution_count": 11,
   "metadata": {},
   "outputs": [
    {
     "data": {
      "text/plain": [
       "(10000, 28, 56)"
      ]
     },
     "execution_count": 11,
     "metadata": {},
     "output_type": "execute_result"
    }
   ],
   "source": [
    "combo_val_X.shape"
   ]
  },
  {
   "cell_type": "code",
   "execution_count": 12,
   "metadata": {},
   "outputs": [
    {
     "data": {
      "text/plain": [
       "<matplotlib.image.AxesImage at 0x1293d4580>"
      ]
     },
     "execution_count": 12,
     "metadata": {},
     "output_type": "execute_result"
    },
    {
     "data": {
      "image/png": "[encoded data removed]",
      "text/plain": [
       "<Figure size 432x288 with 1 Axes>"
      ]
     },
     "metadata": {},
     "output_type": "display_data"
    }
   ],
   "source": [
    "plt.imshow(combo_val_X[1000])"
   ]
  },
  {
   "cell_type": "code",
   "execution_count": 13,
   "metadata": {},
   "outputs": [
    {
     "data": {
      "text/plain": [
       "0"
      ]
     },
     "execution_count": 13,
     "metadata": {},
     "output_type": "execute_result"
    }
   ],
   "source": [
    "combo_val_y[1000]"
   ]
  },
  {
   "cell_type": "code",
   "execution_count": 14,
   "metadata": {},
   "outputs": [],
   "source": [
    "train_images = combo_train_X.reshape((combo_train_X.shape[0], 28, 56, 1))\n",
    "train_images = train_images.astype('float32')/ 255\n",
    "\n",
    "val_images = combo_val_X.reshape((combo_val_X.shape[0], 28, 56, 1))\n",
    "val_images = val_images.astype('float32')/255\n",
    "\n",
    "train_labels = to_categorical(combo_train_y)\n",
    "val_labels = to_categorical(combo_val_y)"
   ]
  },
  {
   "cell_type": "code",
   "execution_count": 15,
   "metadata": {},
   "outputs": [
    {
     "data": {
      "text/plain": [
       "(100000, 28, 56, 1)"
      ]
     },
     "execution_count": 15,
     "metadata": {},
     "output_type": "execute_result"
    }
   ],
   "source": [
    "train_images.shape"
   ]
  },
  {
   "cell_type": "code",
   "execution_count": 16,
   "metadata": {},
   "outputs": [
    {
     "data": {
      "text/plain": [
       "(10000, 28, 56, 1)"
      ]
     },
     "execution_count": 16,
     "metadata": {},
     "output_type": "execute_result"
    }
   ],
   "source": [
    "val_images.shape"
   ]
  },
  {
   "cell_type": "code",
   "execution_count": 17,
   "metadata": {},
   "outputs": [
    {
     "data": {
      "text/plain": [
       "(100000, 10)"
      ]
     },
     "execution_count": 17,
     "metadata": {},
     "output_type": "execute_result"
    }
   ],
   "source": [
    "train_labels.shape"
   ]
  },
  {
   "cell_type": "code",
   "execution_count": 18,
   "metadata": {},
   "outputs": [],
   "source": [
    "model = tf.keras.Sequential()\n",
    "model.add(layers.Conv2D(32, (3,3), activation = 'relu', input_shape = (28,56,1)))\n",
    "model.add(layers.MaxPooling2D(2,2))\n",
    "model.add(layers.Conv2D(64, (3,3), activation = 'relu'))\n",
    "model.add(layers.MaxPooling2D(2,2))\n",
    "model.add(layers.Conv2D(64, (3,3), activation = 'relu'))\n",
    "# Adding a classifier\n",
    "model.add(layers.Flatten())\n",
    "model.add(layers.Dropout(0.5))\n",
    "model.add(layers.Dense(64, activation = 'relu'))\n",
    "model.add(layers.Dense(10, activation = 'softmax'))"
   ]
  },
  {
   "cell_type": "code",
   "execution_count": 19,
   "metadata": {},
   "outputs": [
    {
     "name": "stdout",
     "output_type": "stream",
     "text": [
      "Model: \"sequential\"\n",
      "_________________________________________________________________\n",
      "Layer (type)                 Output Shape              Param #   \n",
      "=================================================================\n",
      "conv2d (Conv2D)              (None, 26, 54, 32)        320       \n",
      "_________________________________________________________________\n",
      "max_pooling2d (MaxPooling2D) (None, 13, 27, 32)        0         \n",
      "_________________________________________________________________\n",
      "conv2d_1 (Conv2D)            (None, 11, 25, 64)        18496     \n",
      "_________________________________________________________________\n",
      "max_pooling2d_1 (MaxPooling2 (None, 5, 12, 64)         0         \n",
      "_________________________________________________________________\n",
      "conv2d_2 (Conv2D)            (None, 3, 10, 64)         36928     \n",
      "_________________________________________________________________\n",
      "flatten (Flatten)            (None, 1920)              0         \n",
      "_________________________________________________________________\n",
      "dropout (Dropout)            (None, 1920)              0         \n",
      "_________________________________________________________________\n",
      "dense (Dense)                (None, 64)                122944    \n",
      "_________________________________________________________________\n",
      "dense_1 (Dense)              (None, 10)                650       \n",
      "=================================================================\n",
      "Total params: 179,338\n",
      "Trainable params: 179,338\n",
      "Non-trainable params: 0\n",
      "_________________________________________________________________\n"
     ]
    }
   ],
   "source": [
    "model.summary()"
   ]
  },
  {
   "cell_type": "code",
   "execution_count": 20,
   "metadata": {},
   "outputs": [],
   "source": [
    "\n",
    "opt = tf.keras.optimizers.RMSprop(learning_rate=0.001)\n",
    "\n",
    "model.compile(optimizer = opt,\n",
    "             loss = 'categorical_crossentropy',\n",
    "             metrics = ['mae'])\n",
    "\n",
    "# model.compile(optimizer = 'rmsprop',\n",
    "#              loss = 'categorical_crossentropy',\n",
    "#              metrics = ['accuracy', 'mae'])\n"
   ]
  },
  {
   "cell_type": "code",
   "execution_count": null,
   "metadata": {},
   "outputs": [
    {
     "name": "stdout",
     "output_type": "stream",
     "text": [
      "Epoch 1/3\n",
      " 778/1563 [=============>................] - ETA: 29s - loss: 0.0624 - mae: 0.0058"
     ]
    }
   ],
   "source": [
    "# Run model in one go\n",
    "model.reset_states()\n",
    "model.fit(train_images, train_labels, epochs = 3, batch_size = 64)"
   ]
  },
  {
   "cell_type": "code",
   "execution_count": 26,
   "metadata": {},
   "outputs": [
    {
     "name": "stdout",
     "output_type": "stream",
     "text": [
      "Val Accurary: 0.1968\n"
     ]
    }
   ],
   "source": [
    "y_predict = model.predict(val_images)\n",
    "y_predict = y_predict.astype(int)\n",
    "\n",
    "\n",
    "correct = 0\n",
    "#check_baseline\n",
    "\n",
    "for label in range(len(val_labels)):\n",
    "    \n",
    "    if np.argmax(val_labels[label], axis=None, out=None) == np.argmax(y_predict[label], axis=None, out=None):\n",
    "        correct = correct + 1\n",
    "        \n",
    "print(\"Val Accurary: \" + str(correct/len(val_labels)))"
   ]
  },
  {
   "cell_type": "markdown",
   "metadata": {},
   "source": [
    "Baseline for above is 10%"
   ]
  },
  {
   "cell_type": "code",
   "execution_count": 28,
   "metadata": {},
   "outputs": [
    {
     "name": "stdout",
     "output_type": "stream",
     "text": [
      "313/313 [==============================] - 1s 4ms/step - loss: 0.0677 - mae: 0.0059\n"
     ]
    },
    {
     "data": {
      "text/plain": [
       "[0.06765327602624893, 0.0058845775201916695]"
      ]
     },
     "execution_count": 28,
     "metadata": {},
     "output_type": "execute_result"
    }
   ],
   "source": [
    "eval_model = model.evaluate(val_images, val_labels)\n",
    "eval_model"
   ]
  },
  {
   "cell_type": "code",
   "execution_count": null,
   "metadata": {},
   "outputs": [],
   "source": [
    "# Set up parameters for cross-validation\n",
    "k = 3\n",
    "num_val_samples = len(train_images)//k"
   ]
  },
  {
   "cell_type": "code",
   "execution_count": null,
   "metadata": {},
   "outputs": [],
   "source": [
    "# Perform k-fold cross-validation\n",
    "\n",
    "num_epochs = 20\n",
    "all_mae_histories = []\n",
    "\n",
    "for i in range(k):\n",
    "    \n",
    "    print('processing fold #', i)\n",
    "    val_data = train_images[i * num_val_samples: (i + 1) * num_val_samples]\n",
    "    val_targets = train_labels[i * num_val_samples: (i + 1) * num_val_samples]\n",
    "    \n",
    "    partial_train_data = np.concatenate(\n",
    "    [train_images[:i * num_val_samples],\n",
    "    train_images[(i+1) * num_val_samples:]],\n",
    "    axis = 0)\n",
    "    \n",
    "    partial_train_targets = np.concatenate(\n",
    "    [train_labels[:i*num_val_samples],\n",
    "    train_labels[(i+1)*num_val_samples:]],\n",
    "    axis = 0)\n",
    "    \n",
    "    model.reset_states()\n",
    "    history = model.fit(partial_train_data,\n",
    "              partial_train_targets,\n",
    "              validation_data = (val_data, val_targets),\n",
    "              epochs = num_epochs,\n",
    "              batch_size = 64,\n",
    "              verbose = 0)\n",
    "    \n",
    "    val_mae_history = history.history['val_mae']\n",
    "    print(val_mae_history)\n",
    "    #val_acc_history = history.history['accuracy']\n",
    "    #print(history.history.keys())\n",
    "    all_mae_histories.append(val_mae_history)"
   ]
  },
  {
   "cell_type": "code",
   "execution_count": null,
   "metadata": {},
   "outputs": [],
   "source": [
    "# Compute the average of the per-epoch MAE scores for all folds\n",
    "# Building the history of successive mean K-fold validation scores\n",
    "\n",
    "average_mae_history = [\n",
    "    np.mean([x[i] for x in all_mae_histories]) for i in range(num_epochs)]"
   ]
  },
  {
   "cell_type": "code",
   "execution_count": null,
   "metadata": {},
   "outputs": [],
   "source": [
    "plt.plot(range(1, len(average_mae_history[:30]) + 1), average_mae_history[:30])\n",
    "plt.xlabel('Epochs')\n",
    "plt.ylabel('val_mae')\n",
    "plt.show()"
   ]
  },
  {
   "cell_type": "code",
   "execution_count": null,
   "metadata": {},
   "outputs": [],
   "source": [
    "def smooth_curve(points, factor =0.9):\n",
    "    \n",
    "    smoothed_points = []\n",
    "    \n",
    "    for point in points:\n",
    "        if smoothed_points:\n",
    "            previous = smoothed_points[-1]\n",
    "            smoothed_points.append(previous * factor + point * (1 - factor))\n",
    "        else:\n",
    "            smoothed_points.append(point)\n",
    "        \n",
    "    return smoothed_points\n",
    "\n",
    "smooth_mae_history = smooth_curve(average_mae_history)"
   ]
  },
  {
   "cell_type": "code",
   "execution_count": null,
   "metadata": {},
   "outputs": [],
   "source": [
    "# Difficult to understand plot due to scaling issues\n",
    "plt.plot(range(1, len(smooth_mae_history) + 1), smooth_mae_history)\n",
    "plt.xlabel('Epochs')\n",
    "plt.ylabel('val_mae')\n",
    "plt.show()"
   ]
  },
  {
   "cell_type": "code",
   "execution_count": null,
   "metadata": {},
   "outputs": [],
   "source": []
  },
  {
   "cell_type": "code",
   "execution_count": null,
   "metadata": {},
   "outputs": [],
   "source": []
  }
 ],
 "metadata": {
  "kernelspec": {
   "display_name": "general_ML",
   "language": "python",
   "name": "general_ml"
  },
  "language_info": {
   "codemirror_mode": {
    "name": "ipython",
    "version": 3
   },
   "file_extension": ".py",
   "mimetype": "text/x-python",
   "name": "python",
   "nbconvert_exporter": "python",
   "pygments_lexer": "ipython3",
   "version": "3.9.2"
  }
 },
 "nbformat": 4,
 "nbformat_minor": 4
}
